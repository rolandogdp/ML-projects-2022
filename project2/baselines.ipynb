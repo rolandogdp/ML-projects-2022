{
 "cells": [
  {
   "cell_type": "markdown",
   "source": [
    "## Test Maxime ML"
   ],
   "metadata": {
    "collapsed": false
   }
  },
  {
   "cell_type": "code",
   "execution_count": 1,
   "outputs": [
    {
     "name": "stderr",
     "output_type": "stream",
     "text": [
      "/Users/Maxime/miniconda3/envs/untitled/lib/python3.9/site-packages/past/builtins/misc.py:45: DeprecationWarning: the imp module is deprecated in favour of importlib; see the module's documentation for alternative uses\n",
      "  from imp import reload\n"
     ]
    }
   ],
   "source": [
    "%load_ext autoreload\n",
    "%autoreload 2\n",
    "\n",
    "#import warnings; warnings.simplefilter('ignore')\n",
    "#import os, codecs, string, random\n",
    "import numpy as np\n",
    "import pandas as pd\n",
    "#from numpy.random import seed as random_seed\n",
    "#from numpy.random import shuffle as random_shuffle\n",
    "import matplotlib.pyplot as plt\n",
    "%matplotlib inline\n",
    "\n",
    "\n",
    "\n",
    "import functools\n",
    "import pickle\n",
    "import nltk\n",
    "import pickle\n",
    "import scipy.sparse as sparse\n",
    "from collections import Counter\n",
    "\n",
    "#NLP libraries\n",
    "import spacy, nltk, gensim, sklearn\n",
    "import pyLDAvis.gensim_models\n",
    "\n",
    "#Vader\n",
    "import vaderSentiment\n",
    "from vaderSentiment.vaderSentiment import SentimentIntensityAnalyzer\n",
    "\n",
    "#Scikit imports\n",
    "from sklearn.feature_extraction.text import CountVectorizer\n",
    "from sklearn.model_selection import train_test_split\n",
    "from sklearn.model_selection import cross_val_score\n",
    "from sklearn.linear_model import LogisticRegression\n",
    "from sklearn import preprocessing\n",
    "from sklearn.preprocessing import StandardScaler\n",
    "from sklearn.utils import shuffle\n",
    "from sklearn.ensemble import RandomForestClassifier\n",
    "from sklearn.linear_model import LinearRegression\n",
    "from sklearn.linear_model import LogisticRegression\n",
    "from sklearn.feature_extraction.text import TfidfVectorizer"
   ],
   "metadata": {
    "collapsed": false
   }
  },
  {
   "cell_type": "code",
   "execution_count": 2,
   "outputs": [],
   "source": [
    "seed = 42\n",
    "np.random.seed(seed)"
   ],
   "metadata": {
    "collapsed": false
   }
  },
  {
   "cell_type": "code",
   "execution_count": 3,
   "outputs": [],
   "source": [
    "#! python -m spacy validate\n",
    "#nlp = spacy.load('data/en_core_web_sm-3.0.0')"
   ],
   "metadata": {
    "collapsed": false
   }
  },
  {
   "cell_type": "code",
   "execution_count": 4,
   "outputs": [],
   "source": [
    "with open('data/stopwords.pkl', 'rb') as f:\n",
    "    stopwords = pickle.load(f)"
   ],
   "metadata": {
    "collapsed": false
   }
  },
  {
   "cell_type": "code",
   "execution_count": 5,
   "outputs": [],
   "source": [
    "def compute_accuracy(Y_pred, Y_true):\n",
    "    return np.sum(Y_pred == Y_true) / len(Y_pred)"
   ],
   "metadata": {
    "collapsed": false
   }
  },
  {
   "cell_type": "code",
   "execution_count": 6,
   "outputs": [],
   "source": [
    "def count_parenthesis(tweet):\n",
    "    count = 0\n",
    "    for c in tweet:\n",
    "        if c == '(':\n",
    "            count += 1\n",
    "        if c == ')':\n",
    "            count -= 1\n",
    "    return count"
   ],
   "metadata": {
    "collapsed": false
   }
  },
  {
   "cell_type": "code",
   "execution_count": 101,
   "outputs": [],
   "source": [
    "tweet = 'aksfjhd HHSIF dsfj K'"
   ],
   "metadata": {
    "collapsed": false
   }
  },
  {
   "cell_type": "code",
   "execution_count": 102,
   "outputs": [
    {
     "data": {
      "text/plain": "2"
     },
     "execution_count": 102,
     "metadata": {},
     "output_type": "execute_result"
    }
   ],
   "source": [
    "count_longest_rep(tweet)"
   ],
   "metadata": {
    "collapsed": false
   }
  },
  {
   "cell_type": "code",
   "execution_count": 99,
   "outputs": [],
   "source": [
    "def count_longest_rep(tweet):\n",
    "    count = 1\n",
    "    count_max = 1\n",
    "    c_last = ''\n",
    "    for c in tweet:\n",
    "        if c == c_last:\n",
    "            count += 1\n",
    "        if c != c_last:\n",
    "            count = 1\n",
    "        c_last = c\n",
    "        count_max = max(count_max, count)\n",
    "    return count_max"
   ],
   "metadata": {
    "collapsed": false
   }
  },
  {
   "cell_type": "code",
   "execution_count": 9,
   "id": "1af31437",
   "metadata": {},
   "outputs": [],
   "source": [
    "DATA_FOLDER = 'data/'\n",
    "TWITTER_FOLDER = DATA_FOLDER + 'twitter-datasets/'\n",
    "EN_CORE_WEB_SM = DATA_FOLDER + 'en_core_web_sm-3.0.0'"
   ]
  },
  {
   "cell_type": "markdown",
   "source": [
    "# importing Data"
   ],
   "metadata": {
    "collapsed": false
   }
  },
  {
   "cell_type": "code",
   "execution_count": 10,
   "outputs": [],
   "source": [
    "pos = pd.read_csv(TWITTER_FOLDER + 'train_pos.txt', sep='\\t', header=None, names=['tweet'])#[:10000]\n",
    "neg = pd.read_csv(TWITTER_FOLDER + 'train_neg.txt', sep='\\t', header=None, names=['tweet'])#[:10000]"
   ],
   "metadata": {
    "collapsed": false
   }
  },
  {
   "cell_type": "code",
   "execution_count": 130,
   "outputs": [],
   "source": [
    "pos_full = pd.read_csv(TWITTER_FOLDER + 'train_pos_full.txt', sep='\\t', header=None, names=['tweet'])#[:10000]\n",
    "neg_full = pd.read_csv(TWITTER_FOLDER + 'train_neg_full.txt', sep='\\t', header=None, names=['tweet'], on_bad_lines='skip')#[:10000]"
   ],
   "metadata": {
    "collapsed": false
   }
  },
  {
   "cell_type": "code",
   "execution_count": 131,
   "outputs": [],
   "source": [
    "test_data = pd.read_csv(TWITTER_FOLDER + 'test_data.txt', sep='\\t', header=None, names=['tweet'])"
   ],
   "metadata": {
    "collapsed": false
   }
  },
  {
   "cell_type": "markdown",
   "source": [
    "# Creating Test/Train"
   ],
   "metadata": {
    "collapsed": false
   }
  },
  {
   "cell_type": "markdown",
   "source": [
    "#### Adding some processing"
   ],
   "metadata": {
    "collapsed": false
   }
  },
  {
   "cell_type": "code",
   "execution_count": 132,
   "outputs": [],
   "source": [
    "pos_full['is_pos'] = 1\n",
    "neg_full['is_pos'] = 0\n",
    "tweets = pd.concat([pos_full, neg_full])\n",
    "\n",
    "analyzer = SentimentIntensityAnalyzer()\n",
    "polarity_scores = tweets['tweet'].apply(analyzer.polarity_scores)\n",
    "\n",
    "tweets['neg']       = polarity_scores.apply(lambda d : d['neg'])\n",
    "tweets['neu']       = polarity_scores.apply(lambda d : d['neu'])\n",
    "tweets['pos']       = polarity_scores.apply(lambda d : d['pos'])\n",
    "tweets['compound']  = polarity_scores.apply(lambda d : d['compound'])\n",
    "\n",
    "tweets['par_count'] = tweets[\"tweet\"].apply(count_parenthesis)\n",
    "tweets['len_tweet'] = tweets[\"tweet\"].apply(len)\n",
    "tweets['rep_count'] = tweets[\"tweet\"].apply(count_longest_rep)"
   ],
   "metadata": {
    "collapsed": false
   }
  },
  {
   "cell_type": "markdown",
   "source": [
    "#### Split test / train"
   ],
   "metadata": {
    "collapsed": false
   }
  },
  {
   "cell_type": "code",
   "execution_count": 133,
   "outputs": [],
   "source": [
    "X = tweets.drop(['is_pos'], axis=1)\n",
    "Y = tweets.drop(['tweet'],  axis=1)\n",
    "X, Y = shuffle(X, Y, random_state=42)\n",
    "X_tr_df, X_te_df, Y_tr_df, Y_te_df = train_test_split(X, Y, test_size=0.1, random_state=42)"
   ],
   "metadata": {
    "collapsed": false
   }
  },
  {
   "cell_type": "code",
   "execution_count": 134,
   "outputs": [],
   "source": [
    "X_tr = X_tr_df['tweet']\n",
    "X_te = X_te_df['tweet']\n",
    "\n",
    "Y_tr = np.array(Y_tr_df['is_pos'])\n",
    "Y_te = np.array(Y_te_df['is_pos'])"
   ],
   "metadata": {
    "collapsed": false
   }
  },
  {
   "cell_type": "markdown",
   "source": [
    "#### Vectorization"
   ],
   "metadata": {
    "collapsed": false
   }
  },
  {
   "cell_type": "code",
   "execution_count": 135,
   "outputs": [],
   "source": [
    "vectorizer = TfidfVectorizer(lowercase=False, min_df=20, max_df=0.5, ngram_range=(1,4)).fit(X_tr)"
   ],
   "metadata": {
    "collapsed": false
   }
  },
  {
   "cell_type": "code",
   "execution_count": 136,
   "outputs": [],
   "source": [
    "X_tr_vec = vectorizer.transform(X_tr)\n",
    "X_te_vec = vectorizer.transform(X_te)"
   ],
   "metadata": {
    "collapsed": false
   }
  },
  {
   "cell_type": "markdown",
   "source": [
    "# Predictions"
   ],
   "metadata": {
    "collapsed": false
   }
  },
  {
   "cell_type": "code",
   "execution_count": 137,
   "outputs": [],
   "source": [
    "par_count_tr = np.array(X_tr_df['par_count']).reshape(-1,1)\n",
    "par_count_te = np.array(X_te_df['par_count']).reshape(-1,1)\n",
    "\n",
    "pol_score_tr = np.array(X_tr_df[['neg', 'neu', 'pos', 'compound']])\n",
    "pol_score_te = np.array(X_te_df[['neg', 'neu', 'pos', 'compound']])\n",
    "\n",
    "metadata_tr  = np.array(X_tr_df[['neg', 'neu', 'pos', 'compound', 'par_count', 'rep_count', ]])\n",
    "metadata_te  = np.array(X_te_df[['neg', 'neu', 'pos', 'compound', 'par_count', 'rep_count']])"
   ],
   "metadata": {
    "collapsed": false
   }
  },
  {
   "cell_type": "code",
   "execution_count": 138,
   "outputs": [],
   "source": [
    "scaler_metadata    = preprocessing.StandardScaler().fit(metadata_tr)\n",
    "\n",
    "metadata_scaled_tr = scaler_metadata.transform(metadata_tr) / 10\n",
    "metadata_scaled_te = scaler_metadata.transform(metadata_te) / 10\n",
    "\n",
    "pol_score_scaled_tr = metadata_scaled_tr[:, :4]\n",
    "pol_score_scaled_te = metadata_scaled_te[:, :4]"
   ],
   "metadata": {
    "collapsed": false
   }
  },
  {
   "cell_type": "code",
   "execution_count": 139,
   "outputs": [],
   "source": [
    "X_tr_with_pole_score = sparse.hstack((X_tr_vec, pol_score_scaled_tr))\n",
    "X_te_with_pole_score = sparse.hstack((X_te_vec, pol_score_scaled_te ))\n",
    "\n",
    "X_tr_with_metadata   = sparse.hstack((X_tr_vec, metadata_scaled_tr))\n",
    "X_te_with_metadata   = sparse.hstack((X_te_vec, metadata_scaled_te))"
   ],
   "metadata": {
    "collapsed": false
   }
  },
  {
   "cell_type": "code",
   "execution_count": 140,
   "outputs": [],
   "source": [
    "log_reg_1 = LogisticRegression()\n",
    "log_reg_2 = LogisticRegression()\n",
    "log_reg_3 = LogisticRegression(max_iter=1000)\n",
    "log_reg_4 = LogisticRegression(max_iter=1000)\n",
    "log_reg_5 = LogisticRegression(max_iter=1000)\n",
    "\n",
    "log_reg_1.fit(pol_score_tr,         Y_tr)\n",
    "log_reg_2.fit(metadata_tr,          Y_tr)\n",
    "log_reg_3.fit(X_tr_vec,             Y_tr)\n",
    "log_reg_4.fit(X_tr_with_pole_score, Y_tr)\n",
    "log_reg_5.fit(X_tr_with_metadata,   Y_tr);"
   ],
   "metadata": {
    "collapsed": false
   }
  },
  {
   "cell_type": "code",
   "execution_count": 141,
   "outputs": [
    {
     "name": "stdout",
     "output_type": "stream",
     "text": [
      "0.650722043688728\n",
      "0.7436927958345197\n",
      "0.8541919212463898\n",
      "0.8550909164870032\n",
      "0.8652524102021723\n"
     ]
    }
   ],
   "source": [
    "print(log_reg_1.score(pol_score_te,         Y_te))\n",
    "print(log_reg_2.score(metadata_te,          Y_te))\n",
    "print(log_reg_3.score(X_te_vec,             Y_te))\n",
    "print(log_reg_4.score(X_te_with_pole_score, Y_te))\n",
    "print(log_reg_5.score(X_te_with_metadata,   Y_te))"
   ],
   "metadata": {
    "collapsed": false
   }
  },
  {
   "cell_type": "code",
   "execution_count": 142,
   "outputs": [],
   "source": [
    "def cond_1(df):\n",
    "    return np.array(df.par_count >  0)\n",
    "def cond_2(df):\n",
    "    return np.array(df.par_count <  0)\n",
    "def cond_3(df):\n",
    "    return np.array(df.par_count == 0)\n",
    "def cond_3_1(df):\n",
    "    return np.array((df.par_count == 0) & (df.compound == 0))\n",
    "def cond_3_2(df):\n",
    "    return np.array((df.par_count == 0) & (df.compound >  0))\n",
    "def cond_3_3(df):\n",
    "    return np.array((df.par_count == 0) & (df.compound <  0))\n",
    "\n",
    "conditions = [cond_1, cond_2, cond_3]\n",
    "conditions_X_tr = np.array([cond(X_tr_df) for cond in conditions])\n",
    "conditions_X_te = np.array([cond(X_te_df) for cond in conditions])"
   ],
   "metadata": {
    "collapsed": false
   }
  },
  {
   "cell_type": "code",
   "execution_count": 143,
   "outputs": [],
   "source": [
    "X_tr_with_metadata = sparse.csr_matrix(X_tr_with_metadata)\n",
    "log_reg_list = []\n",
    "for cond in conditions_X_tr:\n",
    "    X_tr_subset = X_tr_with_metadata[cond]\n",
    "    Y_tr_subset = np.array(Y_tr_df['is_pos'][cond])\n",
    "    clf = LogisticRegression(max_iter=1000).fit(X_tr_subset, Y_tr_subset)\n",
    "    log_reg_list.append(clf)"
   ],
   "metadata": {
    "collapsed": false
   }
  },
  {
   "cell_type": "code",
   "execution_count": 144,
   "outputs": [],
   "source": [
    "Y_pred_list = []\n",
    "for clf in log_reg_list:\n",
    "    Y_pred_list.append(clf.predict(X_te_with_metadata))\n",
    "Y_pred_list = np.array(Y_pred_list)"
   ],
   "metadata": {
    "collapsed": false
   }
  },
  {
   "cell_type": "code",
   "execution_count": 145,
   "outputs": [],
   "source": [
    "pred_multi = np.empty(len(X_te_df))\n",
    "for i in range(len(pred_multi)):\n",
    "    a = int(np.argwhere(conditions_X_te[:,i]))\n",
    "    pred_multi[i] = Y_pred_list[a, i]"
   ],
   "metadata": {
    "collapsed": false
   }
  },
  {
   "cell_type": "code",
   "execution_count": 146,
   "outputs": [
    {
     "data": {
      "text/plain": "0.8665053085465566"
     },
     "execution_count": 146,
     "metadata": {},
     "output_type": "execute_result"
    }
   ],
   "source": [
    "compute_accuracy(pred_multi, Y_te)"
   ],
   "metadata": {
    "collapsed": false
   }
  },
  {
   "cell_type": "markdown",
   "source": [
    "#### Results on the full dataset\n",
    "\n",
    "log_reg_1.score (pol_score_te,         Y_te)  :  0.6507\n",
    "log_reg_2.score (metadata_te,          Y_te)  :  0.7477\n",
    "log_reg_3.score (X_te_vec,             Y_te)  :  0.8542\n",
    "log_reg_4.score (X_te_with_pole_score, Y_te)  :  0.8551\n",
    "log_reg_5.score (X_te_with_metadata,   Y_te)  :  0.8653\n",
    "compute_accuracy(pred_multi,           Y_te)  :  0.8664"
   ],
   "metadata": {
    "collapsed": false
   }
  },
  {
   "cell_type": "markdown",
   "source": [
    "## Logistic Regression"
   ],
   "metadata": {
    "collapsed": false
   }
  },
  {
   "cell_type": "markdown",
   "source": [
    "Y_train_count_bal = np.array(Y_train['is_pos'][Y_train.parenthesis_count == 0])\n",
    "Y_train_count_pos = np.array(Y_train['is_pos'][Y_train.parenthesis_count >  0])\n",
    "Y_train_count_neg = np.array(Y_train['is_pos'][Y_train.parenthesis_count <  0])\n",
    "\n",
    "X_train_count_bal_vec = X_train_all_vec[X_train.parenthesis_count == 0]\n",
    "X_train_count_pos_vec = X_train_all_vec[X_train.parenthesis_count >  0]\n",
    "X_train_count_neg_vec = X_train_all_vec[X_train.parenthesis_count <  0]"
   ],
   "metadata": {
    "collapsed": false
   }
  },
  {
   "cell_type": "markdown",
   "source": [
    "### Log reg different"
   ],
   "metadata": {
    "collapsed": false
   }
  },
  {
   "cell_type": "code",
   "execution_count": 76,
   "outputs": [
    {
     "ename": "NameError",
     "evalue": "name 'X_test_all_vec' is not defined",
     "output_type": "error",
     "traceback": [
      "\u001B[0;31m---------------------------------------------------------------------------\u001B[0m",
      "\u001B[0;31mNameError\u001B[0m                                 Traceback (most recent call last)",
      "Input \u001B[0;32mIn [76]\u001B[0m, in \u001B[0;36m<cell line: 1>\u001B[0;34m()\u001B[0m\n\u001B[0;32m----> 1\u001B[0m \u001B[43mX_test_all_vec\u001B[49m\u001B[38;5;241m.\u001B[39mshape\n",
      "\u001B[0;31mNameError\u001B[0m: name 'X_test_all_vec' is not defined"
     ]
    }
   ],
   "source": [
    "X_test_all_vec.shape"
   ],
   "metadata": {
    "collapsed": false
   }
  },
  {
   "cell_type": "code",
   "execution_count": 77,
   "outputs": [
    {
     "ename": "NameError",
     "evalue": "name 'X_train' is not defined",
     "output_type": "error",
     "traceback": [
      "\u001B[0;31m---------------------------------------------------------------------------\u001B[0m",
      "\u001B[0;31mNameError\u001B[0m                                 Traceback (most recent call last)",
      "Input \u001B[0;32mIn [77]\u001B[0m, in \u001B[0;36m<cell line: 1>\u001B[0;34m()\u001B[0m\n\u001B[0;32m----> 1\u001B[0m count_train \u001B[38;5;241m=\u001B[39m np\u001B[38;5;241m.\u001B[39marray(\u001B[43mX_train\u001B[49m[\u001B[38;5;124m'\u001B[39m\u001B[38;5;124mparenthesis_count\u001B[39m\u001B[38;5;124m'\u001B[39m])\u001B[38;5;241m.\u001B[39mreshape(\u001B[38;5;241m-\u001B[39m\u001B[38;5;241m1\u001B[39m,\u001B[38;5;241m1\u001B[39m)\n\u001B[1;32m      2\u001B[0m count_test  \u001B[38;5;241m=\u001B[39m np\u001B[38;5;241m.\u001B[39marray(X_test [\u001B[38;5;124m'\u001B[39m\u001B[38;5;124mparenthesis_count\u001B[39m\u001B[38;5;124m'\u001B[39m])\u001B[38;5;241m.\u001B[39mreshape(\u001B[38;5;241m-\u001B[39m\u001B[38;5;241m1\u001B[39m,\u001B[38;5;241m1\u001B[39m)\n",
      "\u001B[0;31mNameError\u001B[0m: name 'X_train' is not defined"
     ]
    }
   ],
   "source": [
    "count_train = np.array(X_train['parenthesis_count']).reshape(-1,1)\n",
    "count_test  = np.array(X_test ['parenthesis_count']).reshape(-1,1)"
   ],
   "metadata": {
    "collapsed": false
   }
  },
  {
   "cell_type": "code",
   "execution_count": 78,
   "outputs": [
    {
     "ename": "NameError",
     "evalue": "name 'X_train_all_vec' is not defined",
     "output_type": "error",
     "traceback": [
      "\u001B[0;31m---------------------------------------------------------------------------\u001B[0m",
      "\u001B[0;31mNameError\u001B[0m                                 Traceback (most recent call last)",
      "Input \u001B[0;32mIn [78]\u001B[0m, in \u001B[0;36m<cell line: 1>\u001B[0;34m()\u001B[0m\n\u001B[0;32m----> 1\u001B[0m X_train_all_vec_1 \u001B[38;5;241m=\u001B[39m sparse\u001B[38;5;241m.\u001B[39mhstack((\u001B[43mX_train_all_vec\u001B[49m, count_train))\n\u001B[1;32m      2\u001B[0m X_test_all_vec_1  \u001B[38;5;241m=\u001B[39m sparse\u001B[38;5;241m.\u001B[39mhstack((X_test_all_vec,  count_test ))\n",
      "\u001B[0;31mNameError\u001B[0m: name 'X_train_all_vec' is not defined"
     ]
    }
   ],
   "source": [
    "X_train_all_vec_1 = sparse.hstack((X_train_all_vec, count_train))\n",
    "X_test_all_vec_1  = sparse.hstack((X_test_all_vec,  count_test ))"
   ],
   "metadata": {
    "collapsed": false
   }
  },
  {
   "cell_type": "code",
   "execution_count": 50,
   "outputs": [],
   "source": [
    "log_reg_1 = LogisticRegression()\n",
    "log_reg_2 = LogisticRegression()\n",
    "\n",
    "log_reg_1.fit(X_train_all_vec_1, Y_train_all)\n",
    "log_reg_2.fit(X_train_all_vec,   Y_train_all);"
   ],
   "metadata": {
    "collapsed": false
   }
  },
  {
   "cell_type": "code",
   "execution_count": 51,
   "outputs": [
    {
     "data": {
      "text/plain": "0.8405340914860131"
     },
     "execution_count": 51,
     "metadata": {},
     "output_type": "execute_result"
    }
   ],
   "source": [
    "log_reg_1.score(X_test_all_vec_1, Y_test_all)"
   ],
   "metadata": {
    "collapsed": false
   }
  },
  {
   "cell_type": "code",
   "execution_count": 52,
   "outputs": [
    {
     "data": {
      "text/plain": "0.8249987307711835"
     },
     "execution_count": 52,
     "metadata": {},
     "output_type": "execute_result"
    }
   ],
   "source": [
    "log_reg_2.score(X_test_all_vec, Y_test_all)"
   ],
   "metadata": {
    "collapsed": false
   }
  },
  {
   "cell_type": "markdown",
   "source": [
    "## SVM"
   ],
   "metadata": {
    "collapsed": false
   }
  },
  {
   "cell_type": "code",
   "execution_count": null,
   "outputs": [],
   "source": [],
   "metadata": {
    "collapsed": false
   }
  },
  {
   "cell_type": "code",
   "execution_count": 23,
   "outputs": [],
   "source": [
    "from sklearn.svm import SVC"
   ],
   "metadata": {
    "collapsed": false
   }
  },
  {
   "cell_type": "code",
   "execution_count": 41,
   "outputs": [],
   "source": [
    "n = 10000\n",
    "svc = SVC()\n",
    "svc.fit(X_train_all_vec[:n], Y_train_all[:n]);"
   ],
   "metadata": {
    "collapsed": false
   }
  },
  {
   "cell_type": "code",
   "execution_count": 42,
   "outputs": [],
   "source": [
    "pred_svc = svc.predict(X_test_all_vec)"
   ],
   "metadata": {
    "collapsed": false
   }
  },
  {
   "cell_type": "code",
   "execution_count": 43,
   "outputs": [
    {
     "data": {
      "text/plain": "0.7787480326953343"
     },
     "execution_count": 43,
     "metadata": {},
     "output_type": "execute_result"
    }
   ],
   "source": [
    "compute_accuracy(pred_svc, Y_test_all)"
   ],
   "metadata": {
    "collapsed": false
   }
  },
  {
   "cell_type": "markdown",
   "source": [
    "## Knn"
   ],
   "metadata": {
    "collapsed": false
   }
  },
  {
   "cell_type": "code",
   "execution_count": 18,
   "outputs": [],
   "source": [
    "from sklearn.decomposition import TruncatedSVD\n",
    "from sklearn.neighbors import KNeighborsClassifier"
   ],
   "metadata": {
    "collapsed": false
   }
  },
  {
   "cell_type": "code",
   "execution_count": 19,
   "outputs": [],
   "source": [
    "pca = TruncatedSVD(n_components=10)\n",
    "pca.fit(X_train_all_vec);"
   ],
   "metadata": {
    "collapsed": false
   }
  },
  {
   "cell_type": "code",
   "execution_count": 19,
   "outputs": [
    {
     "data": {
      "text/plain": "0.03675965786462883"
     },
     "execution_count": 19,
     "metadata": {},
     "output_type": "execute_result"
    }
   ],
   "source": [
    "np.sum(pca.explained_variance_)"
   ],
   "metadata": {
    "collapsed": false
   }
  },
  {
   "cell_type": "code",
   "execution_count": 20,
   "outputs": [],
   "source": [
    "X_train_pca = pca.transform(X_train_all_vec)\n",
    "X_test_pca  = pca.transform(X_test_all_vec)"
   ],
   "metadata": {
    "collapsed": false
   }
  },
  {
   "cell_type": "code",
   "execution_count": 21,
   "outputs": [],
   "source": [
    "neigh = KNeighborsClassifier(n_neighbors=10)\n",
    "neigh.fit(X_train_pca, Y_train_all);"
   ],
   "metadata": {
    "collapsed": false
   }
  },
  {
   "cell_type": "code",
   "execution_count": 26,
   "outputs": [],
   "source": [
    "n = 10000\n",
    "pred_knn = neigh.predict(X_test_pca)"
   ],
   "metadata": {
    "collapsed": false
   }
  },
  {
   "cell_type": "code",
   "execution_count": 27,
   "outputs": [
    {
     "data": {
      "text/plain": "0.6665482053104533"
     },
     "execution_count": 27,
     "metadata": {},
     "output_type": "execute_result"
    }
   ],
   "source": [
    "compute_accuracy(pred_knn, Y_test_all)"
   ],
   "metadata": {
    "collapsed": false
   }
  },
  {
   "cell_type": "code",
   "execution_count": 109,
   "outputs": [],
   "source": [],
   "metadata": {
    "collapsed": false
   }
  },
  {
   "cell_type": "markdown",
   "source": [
    "## Others Less efficient methods"
   ],
   "metadata": {
    "collapsed": false
   }
  },
  {
   "cell_type": "code",
   "execution_count": 29,
   "outputs": [],
   "source": [
    "clf = RandomForestClassifier(max_depth=10, random_state=42)\n",
    "clf.fit(X_train_all_vec, Y_train_all);"
   ],
   "metadata": {
    "collapsed": false
   }
  },
  {
   "cell_type": "code",
   "execution_count": 30,
   "outputs": [
    {
     "data": {
      "text/plain": "0.7198558156064375"
     },
     "execution_count": 30,
     "metadata": {},
     "output_type": "execute_result"
    }
   ],
   "source": [
    "clf.score(X_test_all_vec, Y_test_all)"
   ],
   "metadata": {
    "collapsed": false
   }
  },
  {
   "cell_type": "code",
   "execution_count": 191,
   "outputs": [],
   "source": [
    "reg = LinearRegression()\n",
    "reg.fit(X_train_1, Y_train);"
   ],
   "metadata": {
    "collapsed": false
   }
  },
  {
   "cell_type": "code",
   "execution_count": 192,
   "outputs": [],
   "source": [
    "pred = reg.predict(X_test_1)\n",
    "pred[pred >= 0.5] = 1\n",
    "pred[pred <  0.5] = 0"
   ],
   "metadata": {
    "collapsed": false
   }
  },
  {
   "cell_type": "markdown",
   "source": [
    "# Tests"
   ],
   "metadata": {
    "collapsed": false
   }
  },
  {
   "cell_type": "code",
   "execution_count": 290,
   "outputs": [],
   "source": [
    "tweet = '(()())'\n",
    "\n",
    "def test_parenthesis(tweet):\n",
    "    count = 0\n",
    "    for c in tweet:\n",
    "        if c == '(':\n",
    "            count += 1\n",
    "        if c == ')':\n",
    "            count -= 1\n",
    "        if count < 0:\n",
    "            return False\n",
    "    return count == 0\n",
    "\n",
    "def count_parenthesis(tweet):\n",
    "    count = 0\n",
    "    for c in tweet:\n",
    "        if c == '(':\n",
    "            count += 1\n",
    "        if c == ')':\n",
    "            count -= 1\n",
    "    return count"
   ],
   "metadata": {
    "collapsed": false
   }
  },
  {
   "cell_type": "code",
   "execution_count": 262,
   "outputs": [],
   "source": [
    "res = tweets['Tweet'].apply(test_parenthesis)"
   ],
   "metadata": {
    "collapsed": false
   }
  },
  {
   "cell_type": "code",
   "execution_count": 283,
   "outputs": [],
   "source": [
    "not_closed = tweets[~res].copy()"
   ],
   "metadata": {
    "collapsed": false
   }
  },
  {
   "cell_type": "code",
   "execution_count": 292,
   "outputs": [],
   "source": [
    "not_closed['parenthesis_count'] = not_closed[\"Tweet\"].apply(count_parenthesis)"
   ],
   "metadata": {
    "collapsed": false
   }
  },
  {
   "cell_type": "code",
   "execution_count": 338,
   "outputs": [],
   "source": [
    "balanced = not_closed[not_closed.parenthesis_count > 0]"
   ],
   "metadata": {
    "collapsed": false
   }
  },
  {
   "cell_type": "code",
   "execution_count": 339,
   "outputs": [
    {
     "data": {
      "text/plain": "0.9683708952674591"
     },
     "execution_count": 339,
     "metadata": {},
     "output_type": "execute_result"
    }
   ],
   "source": [
    "1-np.average(np.array(balanced['is_pos']))"
   ],
   "metadata": {
    "collapsed": false
   }
  },
  {
   "cell_type": "code",
   "execution_count": 340,
   "outputs": [
    {
     "data": {
      "text/plain": "0.95568"
     },
     "execution_count": 340,
     "metadata": {},
     "output_type": "execute_result"
    }
   ],
   "source": [
    "0.14 * 0.88 + 0.86 * 0.968"
   ],
   "metadata": {
    "collapsed": false
   }
  },
  {
   "cell_type": "code",
   "execution_count": 277,
   "outputs": [
    {
     "data": {
      "text/plain": "0.13920948374994746"
     },
     "execution_count": 277,
     "metadata": {},
     "output_type": "execute_result"
    }
   ],
   "source": [
    "np.average(np.array(not_closed['is_pos']))"
   ],
   "metadata": {
    "collapsed": false
   }
  },
  {
   "cell_type": "markdown",
   "source": [
    "## Pre-processing"
   ],
   "metadata": {
    "collapsed": false
   }
  },
  {
   "cell_type": "code",
   "execution_count": 8,
   "outputs": [],
   "source": [
    "with open('data/stopwords.pkl', 'rb') as f:\n",
    "    stopwords = pickle.load(f)"
   ],
   "metadata": {
    "collapsed": false
   }
  },
  {
   "cell_type": "markdown",
   "source": [
    "#### Helper functions"
   ],
   "metadata": {
    "collapsed": false
   }
  },
  {
   "cell_type": "markdown",
   "source": [
    "``apply_functs_one_elem`` apply a list of function in the order theses are given in the array ``funct`` to one elem ``x``.\n",
    "\n",
    "``apply_functs_array`` apply theses functions for each elem of the given array ``array``."
   ],
   "metadata": {
    "collapsed": false
   }
  },
  {
   "cell_type": "code",
   "execution_count": 10,
   "outputs": [],
   "source": [
    "def apply_functs_one_elem(x, functs):\n",
    "        for f in functs:\n",
    "            x = f(x)\n",
    "        return x\n",
    "\n",
    "def apply_functs_array(array, functs):\n",
    "    return [apply_functs_one_elem(desc, functs) for desc in array]"
   ],
   "metadata": {
    "collapsed": false
   }
  },
  {
   "cell_type": "markdown",
   "source": [
    "Below are simple helper function that will be used to map a description ``desc`` or bag of words ``bag``."
   ],
   "metadata": {
    "collapsed": false
   }
  },
  {
   "cell_type": "code",
   "execution_count": 11,
   "outputs": [],
   "source": [
    "def lower(desc):\n",
    "    return desc.lower()\n",
    "\n",
    "#alphabet = \"abcdefghijklmnopqrstuvwxyz 0123456789\"\n",
    "alphabet = \"abcdefghijklmnopqrstuvwxyz \"\n",
    "def remove_punct(desc):\n",
    "    return ''.join(c if c in alphabet else ' ' for c in desc)\n",
    "\n",
    "def desc_to_bow(desc):\n",
    "    return [word for word in desc.split(\" \") if len(word)>0]\n",
    "\n",
    "def remove_stopwords(bow):\n",
    "    return [word for word in bow if word not in stopwords]"
   ],
   "metadata": {
    "collapsed": false
   }
  },
  {
   "cell_type": "markdown",
   "source": [
    "Below are the stemer and teh lematizer which take a bag of words ``bow`` and lemmatize/stem aech words."
   ],
   "metadata": {
    "collapsed": false
   }
  },
  {
   "cell_type": "code",
   "execution_count": 12,
   "outputs": [],
   "source": [
    "ps = nltk.PorterStemmer()\n",
    "def stem(bow):\n",
    "    return [ps.stem(word) for word in bow]\n",
    "\n",
    "lem = nltk.WordNetLemmatizer()\n",
    "def lemmatize(bow):\n",
    "    return [lem.lemmatize(word, pos=\"v\") for word in bow]"
   ],
   "metadata": {
    "collapsed": false
   }
  },
  {
   "cell_type": "markdown",
   "source": [
    "``remove_words_by_freq`` is used to remove very frequent words and unfrequent words.\n",
    "\n",
    "The words that will be removed are determined by the function ``get_words_by_freq`` with the initial array of bag of words ``bows``.\n",
    "It get the frequency of a word by looking in how many descriptions this word appears.\n",
    "It keeps the words that appears in at least ``freq_min``descriptions and at most in ``freq_max``descriptions.\n",
    "\n",
    "``remove_words_by_freq`` will then only keep words that appears in the result of ``get_words_by_freq``."
   ],
   "metadata": {
    "collapsed": false
   }
  },
  {
   "cell_type": "code",
   "execution_count": 43,
   "outputs": [],
   "source": [
    "def get_words_by_freq(bows, freq_min, count_by_doc=True):\n",
    "    if count_by_doc:\n",
    "        bows = apply_functs_array(bows, [np.unique])\n",
    "    words, freq = np.unique(np.concatenate(bows), return_counts=True)\n",
    "    return words[freq >= freq_min]\n",
    "\n",
    "\n",
    "def remove_unfrequent_words(bows, freq_min=10, count_by_doc=True):\n",
    "    words_in_freq = get_words_by_freq(bows, freq_min, count_by_doc)\n",
    "    def remove_words_by_freq_1d(bow):\n",
    "        return np.array([word for word in bow if word in words_in_freq])\n",
    "    return np.array([remove_words_by_freq_1d(bow) for bow in bows], dtype=object)"
   ],
   "metadata": {
    "collapsed": false
   }
  },
  {
   "cell_type": "markdown",
   "source": [
    "``create_ngrams`` create ngrams for a given ``bows`` and ``n``.\n",
    "\n",
    "``add_ngrams`` will then add the ngrams (where $n = 2,3, \\ldots,$ ``max_n``) from ``bows`` to an the ``initial_array`` where the ngrams are filtered by frequencs the same way words are filtered by frequency."
   ],
   "metadata": {
    "collapsed": false
   }
  },
  {
   "cell_type": "code",
   "execution_count": 14,
   "outputs": [],
   "source": [
    "def join_tuples(ngram):\n",
    "    return [' '.join(tupl) for tupl in ngram]\n",
    "\n",
    "def create_ngrams(bows, n):\n",
    "    ngrams = [np.array(list(nltk.ngrams(bow,n))) for bow in bows]\n",
    "    return [join_tuples(ngram) for ngram in ngrams]\n",
    "\n",
    "def add_ngrams(initial_array, bows, min_freq, max_n):\n",
    "    res = initial_array\n",
    "    for n in range(2,max_n+1):\n",
    "        ngrams = create_ngrams(bows, n)\n",
    "        r = remove_unfrequent_words(ngrams, min_freq)\n",
    "        res = [np.append(res[i], r[i]) for i in range(len(res))]\n",
    "    return res"
   ],
   "metadata": {
    "collapsed": false
   }
  },
  {
   "cell_type": "markdown",
   "source": [
    "### Cleaning the data for courses"
   ],
   "metadata": {
    "collapsed": false
   }
  },
  {
   "cell_type": "code",
   "execution_count": 53,
   "outputs": [],
   "source": [
    "tweets_pos = np.empty(len(train_pos), dtype=object)\n",
    "for i in range(len(train_pos)):\n",
    "    tweets_pos[i] = train_pos.iloc[i]['Tweet']"
   ],
   "metadata": {
    "collapsed": false
   }
  },
  {
   "cell_type": "code",
   "execution_count": 54,
   "outputs": [],
   "source": [
    "bows = apply_functs_array(tweets_pos, [lower,\n",
    "                                       remove_punct,\n",
    "                                       desc_to_bow,\n",
    "                                       lemmatize,\n",
    "                                       remove_stopwords,\n",
    "                                       stem\n",
    "                                       ])"
   ],
   "metadata": {
    "collapsed": false
   }
  },
  {
   "cell_type": "code",
   "execution_count": 55,
   "outputs": [],
   "source": [
    "words_in_freq = get_words_by_freq(bows, 5, count_by_doc=False)"
   ],
   "metadata": {
    "collapsed": false
   }
  },
  {
   "cell_type": "code",
   "execution_count": 56,
   "outputs": [
    {
     "data": {
      "text/plain": "array(['a', 'aa', 'aaa', ..., 'zy', 'zz', 'zzz'], dtype='<U133')"
     },
     "execution_count": 56,
     "metadata": {},
     "output_type": "execute_result"
    }
   ],
   "source": [
    "words_in_freq"
   ],
   "metadata": {
    "collapsed": false
   }
  },
  {
   "cell_type": "code",
   "execution_count": 44,
   "outputs": [],
   "source": [
    "bows_freq = remove_unfrequent_words(bows, 5, count_by_doc=False)"
   ],
   "metadata": {
    "collapsed": false
   }
  },
  {
   "cell_type": "code",
   "execution_count": 45,
   "outputs": [
    {
     "data": {
      "text/plain": "array([array(['user', 'dunno', 'justin', 'read', 'mention', 'justin', 'god',\n              'hope', 'follow'], dtype='<U7')                               ,\n       array(['logic', 'dumb', 'win', 'crop', 'photo', 'tsk', 'url'], dtype='<U5'),\n       array(['user', 'put', 'casper', 'box', 'loov', 'battl'], dtype='<U6'),\n       ...,\n       array(['user', 'user', 'um', 'read', 'profil', 'lunch', 'rider', 'fan'],\n             dtype='<U6')                                                      ,\n       array(['user', 'excit', 'tomorrow', 'xx'], dtype='<U8'),\n       array(['job', 'applic', 'hooter', 'give', 'bra', 'fill'], dtype='<U6')],\n      dtype=object)"
     },
     "execution_count": 45,
     "metadata": {},
     "output_type": "execute_result"
    }
   ],
   "source": [
    "bows_freq"
   ],
   "metadata": {
    "collapsed": false
   }
  },
  {
   "cell_type": "code",
   "execution_count": 18,
   "outputs": [],
   "source": [
    "bows_with_ngrams = add_ngrams(bows_freq, bows, 5, len(bows), 2)"
   ],
   "metadata": {
    "collapsed": false
   }
  },
  {
   "cell_type": "code",
   "execution_count": 19,
   "outputs": [
    {
     "data": {
      "text/plain": "[array(['user', 'dunno', 'justin', 'read', 'mention', 'justin', 'god',\n        'hope', 'follow', 'user dunno', 'hope follow'], dtype='<U11'),\n array(['dumb', 'win', 'crop', 'photo', 'url'], dtype='<U32'),\n array(['user', 'put', 'box', 'battl', 'user put'], dtype='<U8'),\n array(['user', 'user', 'sir', 'don', 'trip', 'lil', 'mama', 'doin', 'ya',\n        'thang', 'user user', 'user sir'], dtype='<U9'),\n array(['visit', 'brother', 'tmr', 'bestest', 'birthday', 'gift',\n        'birthday gift'], dtype='<U13'),\n array(['user', 'yay', 'tweet', 'facebook', 'user yay'], dtype='<U8'),\n array(['user', 'dnextalbumtitl', 'feel', 'life', 'song', 'life', 'yolo',\n        'famou'], dtype='<U32'),\n array(['workin', 'hard', 'workin', 'rt', 'user', 'futur', 'user',\n        'rt user'], dtype='<U7'),\n array(['user', 'll', 'repli', 'bite', 'user ll'], dtype='<U7'),\n array(['belong'], dtype='<U32'),\n array(['user', 'cheer', 'nation'], dtype='<U32'),\n array(['send', 'invit', 'shop', 'line', 'find', 'leav', 'home', 'url',\n        'home url'], dtype='<U8'),\n array(['wake', 'finna', 'church'], dtype='<U32'),\n array(['user', 'agre', 'day', 'leav', 'tho', 'user agre', 'day leav'],\n       dtype='<U9'),\n array([], dtype=float64),\n array(['user', 'lot', 'ur', 'twitter', 'lol', 'twitter lol'], dtype='<U11'),\n array(['grate', 'today', 'dream', 'fulfil', 'heart', 'full', 'complet',\n        'track', 'arriv', 'back', 'york'], dtype='<U32'),\n array(['user', 'home', 'affair', 'user home'], dtype='<U9'),\n array(['barca', 'bout', 'beat', 'real', 'madrid', 'saturday', 'doe'],\n       dtype='<U32'),\n array(['user', 'lot', 'part', 'asia', 'rat', 'live', 'countri', 'live',\n        'suppos', 'tasti', 'user lot'], dtype='<U8'),\n array(['user', 'user', 'wasn', 'sleep', 'shut', 'ole', 'back', 'sleep',\n        'lookin', 'ass', 'user user', 'user wasn', 'back sleep'],\n       dtype='<U10'),\n array(['world', 'dad'], dtype='<U32'),\n array(['user', 'user', 'ab', 'meet', 'ki', 'butter', 'user user'],\n       dtype='<U9'),\n array(['user', 'doubt', 'abil', 'user doubt'], dtype='<U10'),\n array(['user', 'check', 'tweet', 'pic', 'outfit', 'user check',\n        'check tweet'], dtype='<U11'),\n array(['mid', 'term', 'impress', 'happi'], dtype='<U32'),\n array(['summer', 'day', 'work', 'ish', 'home', 'shower', 'eat', 'till',\n        'day work'], dtype='<U8'),\n array(['user', 'lol', 'nooo', 'food', 'ur', 'friend', 'user lol',\n        'ur friend'], dtype='<U9'),\n array(['user', 'rt', 'tweet', 'rt tweet'], dtype='<U8'),\n array(['user', 'call', 'user call'], dtype='<U9'),\n array(['user', 'user', 'lol', 'chloe', 'ill', 'teach', 'you', 'cook',\n        'll', 'pro', 'end', 'user user', 'user lol'], dtype='<U9'),\n array(['user', 'lol', 'im', 'finna', 'eat', 'chicken', 'user lol',\n        'lol im', 'im finna'], dtype='<U8'),\n array(['question', 'put', 'short', 'nap', 'mike', 'home', 'hour', 'feel',\n        'answer', 'make', 'em', 'origin'], dtype='<U32'),\n array(['friday', 'payday', 'hell', 'yeah', 'reason', 'hell yeah'],\n       dtype='<U9'),\n array(['user', 'love', 'def', 'plenti', 'frame', 'lol', 'user love'],\n       dtype='<U9'),\n array(['user', 'week', 'xxx', 'user week'], dtype='<U9'),\n array(['ff', 'good', 'hilari', 'sweet', 'kind', 'friend', 'love',\n        'toilet', 'paper', 'user', 'make', 'laugh', 'friend love',\n        'user make', 'make laugh'], dtype='<U11'),\n array(['user', 'appar', 'user appar'], dtype='<U10'),\n array(['user', 'live', 'life', 'quot', 'live', 'life', 'moment', 'co',\n        'loui', 'tomlinson', 'user live', 'live life', 'live life',\n        'loui tomlinson'], dtype='<U14'),\n array(['user', 'wait', 'notic', 'follow', 'user wait', 'notic follow'],\n       dtype='<U12'),\n array(['user', 'couldn', 'bigger', 'user', 'user couldn'], dtype='<U11'),\n array(['yougetmajorpointsif', 'olivia', 'brown'], dtype='<U32'),\n array(['user', 'ty', 'don', 'sister', 'christ', 'bless', 'user ty'],\n       dtype='<U7'),\n array(['love', 'travel', 'visit', 'visit', 'url', 'visit url'],\n       dtype='<U9'),\n array(['care', 'lot', 'love', 'good', 'morn', 'url', 'share', 'friend',\n        'url', 'lot love', 'love good', 'good morn', 'morn url',\n        'friend url'], dtype='<U10'),\n array(['user', 'love', 'love', 'rt', 'user love', 'love love', 'love rt'],\n       dtype='<U9'),\n array(['user', 'blond'], dtype='<U32'),\n array(['user', 'wait', 'brother', 'pictur', 'user wait'], dtype='<U9'),\n array(['user', 'dont', 'thing', 'win', 'beat', 'bridg', 'traffic',\n        'user dont'], dtype='<U9'),\n array(['japan', 'nicest', 'river', 'url'], dtype='<U32'),\n array(['user', 'follow', 'user follow'], dtype='<U11'),\n array(['draw', 'base', 'user', 'wait', 'fav', 'color', 'url', 'user wait'],\n       dtype='<U9'),\n array(['user', 'haven', 'didn', 'bite', 'annoy', 'haha', 'ooo',\n        'user haven'], dtype='<U10'),\n array(['follow', 'follow', 'follow', 'saturday', 'support', 'ben',\n        'kelli', 'follow follow', 'follow follow'], dtype='<U13'),\n array(['user', 'dream', 'hahah', 'yolo', 'xx', 'user dream'], dtype='<U10'),\n array(['user', 'mr', 'aren', 'make', 'day', 'time', 'love', 'user mr',\n        'make day', 'time love'], dtype='<U9'),\n array(['user', 'prob', 'hope', 'user prob'], dtype='<U9'),\n array(['user', 'watch', 'hehe', 'user watch'], dtype='<U10'),\n array(['shower', 'bed', 'night', 'night', 'bb', 'bed night',\n        'night night'], dtype='<U11'),\n array(['happi', 'front', 'peopl', 'don', 'kill', 'peopl don'], dtype='<U9'),\n array(['gonna', 'make', 'video', 'call', 'boy', 'gonna make',\n        'make video'], dtype='<U10'),\n array(['lay', 'cuddl', 'buddi', 'tonight', 'url', 'tonight url'],\n       dtype='<U11'),\n array(['user', 'love', 'll', 'ace', 'love ll'], dtype='<U7'),\n array(['hold', 'rememb', 'secret', 'success', 'good', 'night', 'sleep',\n        'good night', 'night sleep'], dtype='<U11'),\n array(['watch', 'half', 'follow', 'lol', 'follow lol'], dtype='<U10'),\n array(['user', 'follow', 'back', 'fellow', 'twfanmili', 'member',\n        'user follow', 'follow back'], dtype='<U11'),\n array(['user', 'hang', 'user hang'], dtype='<U9'),\n array(['figur', 'birthday', 'mike', 'situat', 'jersey', 'shore', 'juli',\n        'good', 'day', 'good day'], dtype='<U8'),\n array(['user', 'user', 'dude', 'thing', 'today', 'start', 'shit',\n        'user user', 'user dude', 'thing today'], dtype='<U11'),\n array(['follow', 'tonight', 'nice', 'll', 'tweet', 'll', 'follow tonight',\n        'll tweet', 'tweet ll'], dtype='<U14'),\n array(['user', 'yeah', 'surpris', 'call', 'score', 'user yeah'],\n       dtype='<U9'),\n array(['school', 'girl', 'user', 'user', 'user', 'girl user', 'user user',\n        'user user'], dtype='<U9'),\n array(['user', 'hehe', 'user hehe'], dtype='<U9'),\n array(['user', 'll', 'sleep', 'user ll'], dtype='<U7'),\n array(['user', 'love', 'sweet', 'proud', 'face', 'hand', 'make', 'tear',\n        'xoxoxo', 'user love'], dtype='<U9'),\n array([], dtype=float64),\n array(['peopl', 'judg', 'critic', 'rememb'], dtype='<U32'),\n array(['user', 'user', 'umm', 'duh', 'user user', 'user umm'], dtype='<U9'),\n array(['user', 'aww', 'sweet', 'kind', 'love', 'talk', 'lift', 'spirit',\n        'user aww', 'aww sweet', 'love talk'], dtype='<U9'),\n array(['give', 'dope', 'dick', 'till', 'feel', 'stomach', 'eye', 'roll',\n        'back', 'toe', 'curl'], dtype='<U32'),\n array(['give', 'dope', 'dick', 'till', 'feel', 'stomach', 'eye', 'roll',\n        'back', 'toe', 'curl'], dtype='<U32'),\n array(['user', 'happi', 'user', 'real', 'spark', 'user', 'user happi',\n        'happi user', 'user real'], dtype='<U10'),\n array(['user', 'll', 'send', 'pic', 'hall', 'user ll', 'll send',\n        'send pic'], dtype='<U8'),\n array(['rt', 'user', 'user', 'trend', 'thankyou', 'user', 'user',\n        'rt user', 'user user', 'user trend', 'thankyou user', 'user user'],\n       dtype='<U13'),\n array(['rt', 'user', 'user', 'trend', 'thankyou', 'user', 'user',\n        'rt user', 'user user', 'user trend', 'thankyou user', 'user user'],\n       dtype='<U13'),\n array(['rt', 'user', 'user', 'trend', 'thankyou', 'user', 'user',\n        'rt user', 'user user', 'user trend', 'thankyou user', 'user user'],\n       dtype='<U13'),\n array(['cold'], dtype='<U32'),\n array(['here', 'kid', 'hate', 'give', 'speech'], dtype='<U32'),\n array(['mind', 'url', 'user', 'url user'], dtype='<U8'),\n array(['long', 'lose', 'famili'], dtype='<U32'),\n array(['user', 'glad', 'ur', 'nite', 'nite', 'user glad'], dtype='<U9'),\n array(['meal', 'cinema', 'user', 'user', 'kati', 'user user'], dtype='<U9'),\n array(['user', 'bieber', 'fan', 'school', 'assum', 'team'], dtype='<U32'),\n array(['user', 'smile', 'xx', 'user smile'], dtype='<U10'),\n array(['user', 'spanish', 'user spanish'], dtype='<U12'),\n array(['user', 'hour', 'user hour'], dtype='<U9'),\n array(['user', 'follow', 'user', 'co', 'fulli', 'sick', 'dog',\n        'user follow', 'follow user', 'user co'], dtype='<U11'),\n array(['user', 'user', 'super', 'sexi', 'gold', 'show', 'ladi', 'fun',\n        'shop', 'user user', 'user super'], dtype='<U10'),\n array(['user', 'user', 'user', 'user', 'user', 'user', 'user', 'pleasur',\n        'mari', 'user user', 'user user', 'user user', 'user user',\n        'user user', 'user user', 'user pleasur'], dtype='<U12'),\n array(['user', 'awar', 'twitter', 'confus'], dtype='<U32'),\n array(['user', 'dm', 'follow', 'follow', 'twitter', 'user dm',\n        'dm follow', 'follow follow', 'follow twitter'], dtype='<U14'),\n array(['wait', 'til', 'move', 'back', 'san', 'wait til'], dtype='<U8'),\n array(['hate', 'weather', 'pwede', 'bang', 'summer', 'na', 'user', 'love',\n        'summer', 'user love'], dtype='<U9'),\n array(['time', 'user', 'time user'], dtype='<U9'),\n array(['user', 'book', 'beach', 'ticket', 'excit', 'user book'],\n       dtype='<U9'),\n array(['user', 'wow', 'saturday', 'forget', 'time', 'differ', 'omfg',\n        'die', 'xx', 'user wow'], dtype='<U8'),\n array(['black', 'touch', 'blue', 'url'], dtype='<U32'),\n array(['wouldn', 'mind', 'drink', 'cute', 'url', 'wouldn mind',\n        'cute url'], dtype='<U11'),\n array(['aight', 'rt', 'user', 'user', 'yeah', 'rt user', 'user user',\n        'user yeah'], dtype='<U9'),\n array(['user', 'adam', 'west', 'forget'], dtype='<U32'),\n array(['describ', 'morn'], dtype='<U32'),\n array(['jessica', 'make', 'feel', 'good', 'll', 'forev', 'aha',\n        'make feel', 'good ll'], dtype='<U9'),\n array(['user', 'hahahah', 'user hahahah'], dtype='<U12'),\n array(['user', 'find', 'user find'], dtype='<U9'),\n array(['user', 'suppos', 'awak', 'hour', 'hahaha', 'join', 'im',\n        'user suppos'], dtype='<U11'),\n array(['user', 'happi', 'birthday', 'swifti', 'user happi',\n        'happi birthday'], dtype='<U14'),\n array(['wait', 'trip', 'la'], dtype='<U32'),\n array(['user'], dtype='<U32'),\n array(['user', 'embarrass', 'user embarrass'], dtype='<U14'),\n array(['user', 'bet', 'trend', 'worldwid', 'tweet', 'user bet',\n        'trend worldwid'], dtype='<U14'),\n array(['user', 'user', 'user', 'yall', 'titti', 'big', 'dd', 'user user',\n        'user user'], dtype='<U9'),\n array(['user', 'angel', 'guard', 'guid', 'ur', 'night', 'day'],\n       dtype='<U32'),\n array(['user', 'lol', 'jk', 'jk', 'ill', 'food', 'wen', 'user lol',\n        'lol jk'], dtype='<U8'),\n array(['user', 'proud'], dtype='<U32'),\n array(['photo', 'sticker', 'doin', 'work', 'shirt', 'comin', 'design'],\n       dtype='<U32'),\n array(['follow', 'user', 'simpli', 'amaz', 'deserv', 'follow',\n        'follow user', 'deserv follow'], dtype='<U13'),\n array(['kiss', 'real', 'slow', 'blow', 'mind'], dtype='<U32'),\n array(['lmao', 'weird', 'true', 'user', 'crazi', 'relat', 'weird',\n        'stuff', 'user', 'tweet', 'smh', 'lol', 'true user', 'user crazi',\n        'user tweet'], dtype='<U10'),\n array(['aja', 'rt', 'user', 'air', 'user', 'url', 'rt user', 'user url'],\n       dtype='<U8'),\n array(['user', 'miss', 'ill', 'grad', 'love', 'user miss'], dtype='<U9'),\n array(['wanna', 'buy', 'stop', 'war', 'shirt', 'user', 'buy', 'suppos',\n        'wear', 'wanna buy', 'user buy'], dtype='<U9'),\n array(['problem', 'babe', 'user', 'user', 'dear', 'babe user',\n        'user user', 'user dear'], dtype='<U9'),\n array(['subway', 'date', 'user', 'date user'], dtype='<U9'),\n array(['omg', 'shit', 'rt', 'user', 'make', 'good', 'love', 'def', 'babi',\n        'make', 'playlist', 'lol', 'shit rt', 'rt user', 'user make',\n        'make good', 'good love', 'babi make'], dtype='<U9'),\n array(['futur', 'close', 'eye', 'close eye'], dtype='<U9'),\n array(['user', 'share', 'forward', 'great', 'day', 'stay', 'fit',\n        'user share', 'great day'], dtype='<U10'),\n array(['user', 'member', 'user', 'good', 'ill', 'member', 'user good'],\n       dtype='<U9'),\n array(['user', 'good', 'user good'], dtype='<U9'),\n array(['user', 'hope', 'happi', 'ff'], dtype='<U32'),\n array(['user', 'ooo', 'stori', 'good', 'wait', 'hee', 'hee', 'xoxox',\n        'user ooo', 'good wait'], dtype='<U9'),\n array(['user', 'wow', 'good', 'nice', 'articl', 'user wow', 'good nice'],\n       dtype='<U9'),\n array(['user', 'write', 'poem', 'live', 'user write'], dtype='<U10'),\n array(['ladi', 'street', 'freak', 'sheet'], dtype='<U32'),\n array(['user', 'tattoo', 'user tattoo'], dtype='<U11'),\n array(['talk'], dtype='<U32'),\n array(['readi', 'fa', 'real', 'gold', 'shower'], dtype='<U32'),\n array(['cover', 'adventur', 'time'], dtype='<U32'),\n array([], dtype=float64),\n array(['follow', 'instagram', 'user', 'follow instagram'], dtype='<U16'),\n array(['user'], dtype='<U32'),\n array(['proud', 'smoke', 'life'], dtype='<U32'),\n array(['bring', 'home', 'mom', 'bring home'], dtype='<U10'),\n array(['magazin', 'mail', 'today', 'girl', 'relat', 'url'], dtype='<U32'),\n array(['smile'], dtype='<U32'),\n array(['imma', 'bitch', 'prom'], dtype='<U32'),\n array(['user', 'win', 'girl', 'user win'], dtype='<U8'),\n array(['user', 'excit', 'wait', 'excit wait'], dtype='<U10'),\n array(['user', 'lol', 'time', 'user lol'], dtype='<U8'),\n array(['treat', 'ed', 'client', 'bake', 'woohoo', 'url'], dtype='<U32'),\n array(['user', 'cuz', 'user cuz'], dtype='<U8'),\n array(['waystobeginsex', 'talk', 'hella', 'shit', 'guy', 'girl', 'shut',\n        'make', 'ck', 'talk', 'shit', 'guy girl', 'talk shit'],\n       dtype='<U14'),\n array(['user', 'bay', 'love', 'wait', 'love wait'], dtype='<U9'),\n array(['text'], dtype='<U32'),\n array(['user', 'follow', 'danc', 'idiot', 'luke', 'user follow'],\n       dtype='<U11'),\n array(['user', 'follow', 'user', 'll', 'love', 'user follow',\n        'follow user', 'user ll', 'll love'], dtype='<U11'),\n array(['user', 'lool', 'banter', 'user lool'], dtype='<U9'),\n array(['lmao', 'make', 'day', 'rt', 'user', 'board', 'practic', 'awesom',\n        'danc', 'move', 'lol', 'url', 'make day', 'day rt', 'rt user',\n        'lol url'], dtype='<U8'),\n array(['site', 'sick', 'slide', 'check', 'love'], dtype='<U32'),\n array(['user', 'lyric', 'ju', 'deffo', 'lyric'], dtype='<U32'),\n array(['user', 'haha', 'kid', 'btw', 'user haha'], dtype='<U9'),\n array(['user', 'appreci', 'wake'], dtype='<U32'),\n array(['user', 'hold', 'excit', 'lot', 'haha', 'user hold'], dtype='<U9'),\n array(['girl', 'joke', 'make', 'laugh', 'make', 'feel', 'king', 'she',\n        'queen', 'make laugh', 'make feel'], dtype='<U10'),\n array(['user'], dtype='<U32'),\n array(['smh', 'ima', 'eat', 'icecream', 'doubl', 'strawberri'],\n       dtype='<U32'),\n array(['user', 'happen', 'alot', 'alot', 'pictur', 'opportun',\n        'user happen'], dtype='<U11'),\n array(['user', 'true', 'bacon', 'make', 'real', 'tasti', 'user true'],\n       dtype='<U9'),\n array(['mexican', 'chang', 'juan'], dtype='<U32'),\n array(['hope', 'pass', 'grad', 'exam'], dtype='<U32'),\n array(['home', 'yess'], dtype='<U32'),\n array(['guess', 'patient', 'pay', 'long', 'run'], dtype='<U32'),\n array(['user', 'lol', 'coz', 'song', 'call', 'love', 'love', 'love',\n        'user lol', 'call love', 'love love', 'love love'], dtype='<U9'),\n array(['user', 'haha', 'blow', 'lol', 'user haha'], dtype='<U9'),\n array(['happi', 'birthday', 'user', 'love', 'heart', 'stay', 'armi',\n        'strong', 'wait', 'happi birthday', 'birthday user', 'user love',\n        'love heart'], dtype='<U14'),\n array(['watch', 'freedom', 'writer'], dtype='<U32'),\n array(['here', 'offici', 'video', 'song', 'light', 'die', 'hope', 'url',\n        'offici video', 'hope url'], dtype='<U12'),\n array(['user', 'btr', 'fan'], dtype='<U32'),\n array(['user', 'user', 'love', 'guy', 'real', 'user user', 'user love',\n        'love guy'], dtype='<U9'),\n array(['user', 'lmao', 'idk', 'fave', 'shade', 'red', 'ya', 'wanna',\n        'freak', 'user lmao'], dtype='<U9'),\n array(['user', 'lol', 'inlov', 'ahaha', 'user lol'], dtype='<U8'),\n array(['babe', 'home', 'work', 'time', 'cuddl', 'watch', 'rock',\n        'home work', 'work time'], dtype='<U9'),\n array(['user', 'don', 'call', 'kinda', 'bug', 'btw', 'call', 'today',\n        'user', 'user don', 'don call', 'today user'], dtype='<U10'),\n array(['user', 'don', 'listen', 'hater', 'bring', 'pay', 'mind', 'back',\n        'girl', 'life', 'user don', 'don listen'], dtype='<U10'),\n array(['user', 'doesn', 'user doesn'], dtype='<U10'),\n array(['promis', 'god'], dtype='<U32'),\n array(['user', 'host', 'american', 'band', 'stand', 'start', 'lot',\n        'career', 'show'], dtype='<U32'),\n array(['user', 'yep', 'wait', 'awww', 'im', 'll', 'dont', 'earli',\n        'user yep', 'awww im'], dtype='<U8'),\n array(['nicki', 'minaj', 'starship', 'love', 'song', 'user', 'live',\n        'url', 'nicki minaj', 'love song', 'song user', 'user live',\n        'live url'], dtype='<U11'),\n array(['user', 'agre', 'sam', 'joke', 'daili', 'hug', 'time', 'dm',\n        'user agre'], dtype='<U9'),\n array(['user', 'user', 'hell', 'yeah', 'cool', 'haha', 'hit', 'll',\n        'user user', 'user hell', 'hell yeah', 'cool haha'], dtype='<U9'),\n array(['user', 'goood', 'free', 'xx', 'user goood'], dtype='<U10'),\n array(['user', 'shit', 'fuck', 'suck', 'watch', 'user shit'], dtype='<U9'),\n array(['user', 'user', 'll', 'll', 'user', 'reunion', 'user user',\n        'user ll', 'll ll', 'll user'], dtype='<U9'),\n array(['user', 'dwebstersurfboard', 'ill', 'join', 'learn', 'surf', 'xx'],\n       dtype='<U32'),\n array(['user', 'user', 'leav', 'band', 'continu', 'play', 'music',\n        'user user', 'user leav', 'play music'], dtype='<U10'),\n array(['user', 'user', 'avi', 'anim', 'charact', 'big', 'brother', 'luh',\n        'hoe', 'user user', 'user avi', 'big brother'], dtype='<U11'),\n array(['user'], dtype='<U32'),\n array(['belli', 'button', 'pierc', 'birthday', 'yeahhh'], dtype='<U32'),\n array(['user', 'user', 'hahaha', 'joke', 'yeah', 'match', 'user',\n        'user user', 'user hahaha'], dtype='<U11'),\n array(['user', 'user', 'boo', 'gorgeou', 'user user', 'user boo'],\n       dtype='<U9'),\n array(['user', 'night', 'cuti', 'im', 'head', 'part', 'girl', 'turn',\n        'feel', 'ya', 'user night'], dtype='<U10'),\n array(['user', 'girl', 'notic', 'age', 'user girl', 'girl notic'],\n       dtype='<U10'),\n array(['gorgeou', 'face', 'don', 'ain', 'import', 'babe', 'll', 'call',\n        'mine', 'wale', 'll call'], dtype='<U7'),\n array(['user', 'sound', 'good', 'text', 'hour', 'great', 'wanna', 'yah',\n        'user sound', 'sound good'], dtype='<U10'),\n array(['user', 'song', 'remind', 'long', 'time', 'ago', 'love', 'song',\n        'url', 'user song', 'long time', 'love song', 'song url'],\n       dtype='<U9'),\n array(['user', 'user', 'work', 'term', 'time', 'user user', 'user work'],\n       dtype='<U9'),\n array(['user', 'hahahaha', 'practic', 'today', 'hahaha', 'love', 'youu',\n        'liter', 'floor', 'laugh', 'today', 'll', 'tomorrow',\n        'user hahahaha', 'hahaha love', 'love youu', 'today ll',\n        'll tomorrow'], dtype='<U13'),\n array(['user', 'great', 'day', 'user great', 'great day'], dtype='<U10'),\n array(['karma', 'find', 'play', 'game', 'love', 'good', 'luck',\n        'play game', 'love good', 'good luck'], dtype='<U9'),\n array(['user', 'yah', 'watch', 'tonight', 'wait', 'user yah',\n        'tonight wait'], dtype='<U12'),\n array(['user', 'inspir'], dtype='<U32'),\n array(['user', 'follow', 'll', 'make', 'smile', 'user follow',\n        'follow ll', 'll make', 'make smile'], dtype='<U11'),\n array(['user', 'ur', 'dat', 'dey', 'head', 'hangin', 'user ur'],\n       dtype='<U7'),\n array(['user', 'haha', 'user haha'], dtype='<U9'),\n array(['user', 'forward', 'feed', 'friday'], dtype='<U32'),\n array(['follow', 'meee', 'follow meee'], dtype='<U11'),\n array(['user', 'lol', 'fam', 'pet', 'user lol'], dtype='<U8'),\n array(['user', 'credit', 'start'], dtype='<U32'),\n array(['user', 'lift', 'didn', 'wrong'], dtype='<U32'),\n array(['time', 'user', 'sleep', 'time user', 'user sleep'], dtype='<U10'),\n array(['head', 'ach', 'hungri', 'user'], dtype='<U32'),\n array(['user', 'start', 'drink'], dtype='<U32'),\n array(['user', 'late', 'user late'], dtype='<U9'),\n array(['song', 'sound', 'killer', 'wait', 'hear', 'awesom', 'stuff',\n        'wait hear'], dtype='<U9'),\n array(['wanna', 'danc', 'bodi', 'shake', 'wanna danc'], dtype='<U10'),\n array(['user', 'corner', 'bring'], dtype='<U32'),\n array(['week', 'leav', 'week leav'], dtype='<U9'),\n array(['user', 'gonna', 'good', 'night', 'yeah', 'gonna', 'tomorrow',\n        'user gonna', 'gonna good', 'good night'], dtype='<U10'),\n array(['user', 'yo', 'ass', 'beat', 'lol', 'bc', 'prom', 'date', 'hire',\n        'hahah', 'yo ass', 'prom date'], dtype='<U9'),\n array(['rest', 'peac', 'dick', 'clark', 'make', 'year', 'bite',\n        'make year'], dtype='<U9'),\n array(['don', 'life', 'simpli'], dtype='<U32'),\n array(['user', 'im', 'sleep', 'kid', 'game', 'user im', 'im sleep'],\n       dtype='<U8'),\n array(['user', 'film', 'canada', 'ottawa', 'lot', 'fan', 'audit', 'film'],\n       dtype='<U32'),\n array(['url'], dtype='<U32'),\n array(['learn', 'song'], dtype='<U32'),\n array(['user', 'welp', 'im', 'doin', 'huge', 'failur', 'lol', 'im doin'],\n       dtype='<U7'),\n array(['user', 'haha', 'twitter', 'fight', 'pussi', 'handl', 'shit',\n        'lol', 'user haha', 'shit lol'], dtype='<U9'),\n array(['user', 'sing', 'car', 'user sing'], dtype='<U9'),\n array(['user', 'stop', 'perv', 'facebook', 'haha', 'joke', 'nooo', 'mess',\n        'll', 'love', 'glee', 'god', 'user stop', 'haha joke', 'll love'],\n       dtype='<U9'),\n array(['user', 'hey', 'fashion', 'inspir', 'user hey'], dtype='<U8'),\n array(['guy', 'perfect', 'match', 'mine', 'liam', 'tweet', 'rt', 'url',\n        'tweet rt', 'rt url'], dtype='<U8'),\n array(['class', 'today', 'spend', 'morn', 'boyfriend', 'win',\n        'class today'], dtype='<U11'),\n array(['user', 'reason', 'user reason'], dtype='<U11'),\n array(['user', 'aw', 'happi', 'birthday', 'hope', 've', 'fantast', 'day',\n        'time', 'grow', 'xxx', 'user aw', 'happi birthday', 'hope ve',\n        'day time'], dtype='<U14'),\n array(['user', 'fun', 'user fun'], dtype='<U8'),\n array(['tweet', 'user', 'don', 'worri', 'happi', 'turn', 'frown', 'upsid',\n        'user don', 'don worri'], dtype='<U9'),\n array(['user', 'confer', 'work', 'day', 'work day'], dtype='<U8'),\n array(['ima', 'slide', 'prolli', 'tonight'], dtype='<U32'),\n array(['user', 'half', 'colour', 'condit', 'xx', 'user half'], dtype='<U9'),\n array(['ion', 'mind', 'tho', 'cuz', 'live', 'lmao'], dtype='<U32'),\n array(['tire', 'day', 'shop', 'mom', 'user', 'user', 'prepar', 'thing',\n        'swim', 'tomorrow', 'user user', 'user prepar'], dtype='<U11'),\n array(['user', 'hope', 'good', 'user hope', 'hope good'], dtype='<U9'),\n array(['make', 'eat', 'btw', 'track', 'meet', 'pop', 'track meet'],\n       dtype='<U10'),\n array(['watch', 'tv', 'fall', 'asleep', 'goodnight', 'watch tv',\n        'fall asleep'], dtype='<U11'),\n array(['user', 'good', 'morn', 'nice', 'day', 'user good', 'good morn',\n        'nice day'], dtype='<U9'),\n array(['user', 'bring', 'holli', 'game', 'user bring'], dtype='<U10'),\n array(['class', 'rt', 'user', 'user', 'free', 'headphon', 'common',\n        'rt user', 'user user', 'user free'], dtype='<U9'),\n array(['nah', 'good', 'rt', 'user', 'bang', 'hour', 'revis', 'user',\n        'good rt', 'rt user'], dtype='<U7'),\n array(['user', 'love', 'user love'], dtype='<U9'),\n array(['user', 'love', 'user love'], dtype='<U9'),\n array(['user', 'love', 'user love'], dtype='<U9'),\n array(['user', 'love', 'user love'], dtype='<U9'),\n array(['user', 'love', 'user love'], dtype='<U9'),\n array(['user', 'love', 'user love'], dtype='<U9'),\n array(['user', 'love', 'user love'], dtype='<U9'),\n array(['user', 'love', 'user love'], dtype='<U9'),\n array(['user', 'love', 'user love'], dtype='<U9'),\n array(['user', 'love', 'user love'], dtype='<U9'),\n array(['user', 'love', 'user love'], dtype='<U9'),\n array(['user', 'love', 'user love'], dtype='<U9'),\n array(['user', 'tv', 'show', 'watch', 'day', 'long', 'user tv',\n        'day long'], dtype='<U8'),\n array(['user', 'love', 'hair', 'couldn', 'stay', 'normal', 'colour',\n        'long', 'hehe', 'xxx', 'user love', 'love hair'], dtype='<U9'),\n array(['user', 'weirdo'], dtype='<U32'),\n array(['user', 'yaaa', 'day', 'purpl', 'pin', 'jacket'], dtype='<U32'),\n array(['birthday', 'night', 'night', 'girl', 'septemb', 'user',\n        'night night', 'night girl'], dtype='<U11'),\n array(['user', 'deff', 'agre'], dtype='<U32'),\n array(['love', 'user', 'follow', 'love user', 'user follow'], dtype='<U11'),\n array(['user', 'user', 'awesom', 'love', 'great', 'day', 'user',\n        'user user', 'user awesom', 'love great', 'great day', 'day user'],\n       dtype='<U11'),\n array(['schedul', 'figur'], dtype='<U32'),\n array(['omg', 'proud', 'guy', 'user', 'congrat', 'nu', 'thang',\n        'proud guy', 'guy user', 'user congrat'], dtype='<U12'),\n array(['user', 'user', 'user', 'long', 'day', 'bed', 'night', 'morn',\n        'morn', 'user user', 'user user', 'user long', 'long day',\n        'bed night'], dtype='<U9'),\n array(['user', 'ooo', 'peopl', 'follow', 'cba', 'user ooo',\n        'peopl follow'], dtype='<U12'),\n array(['pandora', 'pinterest', 'relax'], dtype='<U32'),\n array(['user', 'lol', 'user lol'], dtype='<U8'),\n array(['ive', 'wait'], dtype='<U32'),\n array(['tch', 'contest', 'challeng', 'seri', 'user', 'url', 'user url'],\n       dtype='<U8'),\n array(['user', 'yeah', 'talk', 'shxt', 'hoe', 'user yeah'], dtype='<U9'),\n array(['boy', 'nz'], dtype='<U32'),\n array(['boy', 'nz'], dtype='<U32'),\n array(['user', 'biggest', 'fan', 'user', 'jessica', 'world', 'show',\n        'appreci', 'user biggest', 'biggest fan', 'fan user'], dtype='<U12'),\n array(['user', 'giggl', 'good', 'block', 'owner', 'jim', 'block'],\n       dtype='<U32'),\n array(['user', 'user', 'learn', 'breath', 'sing', 'user', 'user user',\n        'user learn', 'sing user'], dtype='<U10'),\n array(['user', 'offic', 'time', 'user offic'], dtype='<U10'),\n array(['user', 'happi', 'birthday', 'user happi', 'happi birthday'],\n       dtype='<U14'),\n array(['user', 'lmao', 'yea', 'babyyi', 'period', 'user lmao'],\n       dtype='<U9'),\n array(['user', 'yeaah', 'smell', 'youu', 'user yeaah'], dtype='<U10'),\n array(['user', 'lol', 'doin', 'user lol'], dtype='<U8'),\n array(['user', 'omg', 'cute', 'user omg'], dtype='<U8'),\n array(['text', 'user', 'send', 'make', 'smile', 'sweet', 'text user',\n        'user send', 'make smile'], dtype='<U10'),\n array(['text', 'user', 'send', 'make', 'smile', 'sweet', 'text user',\n        'user send', 'make smile'], dtype='<U10'),\n array(['make', 'happi', 'ziall', 'url', 'make happi'], dtype='<U10'),\n array(['make', 'happi', 'ziall', 'url', 'make happi'], dtype='<U10'),\n array(['rt', 'user', 'day', 'leav', 'pm', 'oz', 'radio', 'pm', 'don',\n        'miss', 'guy', 'rt user', 'user day', 'day leav', 'don miss'],\n       dtype='<U8'),\n array(['rt', 'user', 'day', 'leav', 'pm', 'oz', 'radio', 'pm', 'don',\n        'miss', 'guy', 'rt user', 'user day', 'day leav', 'don miss'],\n       dtype='<U8'),\n array(['user', 'don', 'forget', 'send', 'pictur', 'rachel', 'madison',\n        'user don', 'don forget', 'send pictur'], dtype='<U11'),\n array(['cut', 'nail', 'mama', 'cut'], dtype='<U32'),\n array(['user', 'user', 'year', 've', 'follow', 'age', 'user user',\n        'user year', 've follow'], dtype='<U9'),\n array(['bbi', 'kiss', 'phone'], dtype='<U32'),\n array(['smoke', 'wee', 'fun'], dtype='<U32'),\n array(['niall', 'brace', 'wait', 'wee', 'aww', 'direct'], dtype='<U32'),\n array(['user', 'user', 'user', 'feel', 'free', 'join', 'nigga',\n        'user user', 'user user', 'user feel', 'feel free'], dtype='<U9'),\n array(['eat', 'bread', 'make', 'hair', 'curl', 'hear', 'ridicul'],\n       dtype='<U32'),\n array(['hope', 'sister', 'wonder', 'day', 'wonder day'], dtype='<U10'),\n array(['user', 'haha', 'hey', 'josh', 'shirt', 'user haha'], dtype='<U9'),\n array(['hey', 'user', 'love', 'win', 'user', 'sign', 'copi', 'direct',\n        'dare', 'dream', 'hey user', 'user love', 'love win', 'win user',\n        'user sign'], dtype='<U9'),\n array(['tweet', 'desper'], dtype='<U32'),\n array(['user', 'dont', 'live', 'uk', 'usa', 'au', 'nz', 'live',\n        'user dont'], dtype='<U9'),\n array(['user', 'dont', 'live', 'uk', 'usa', 'au', 'nz', 'live',\n        'user dont'], dtype='<U9'),\n array(['rt', 'user', 'user', 'great', 'eye', 'great', 'rt user',\n        'user user', 'user great'], dtype='<U10'),\n array(['user', 'follow', 'friend', 'user', 'lot', 'xxx', 'user follow',\n        'follow friend', 'friend user', 'user lot'], dtype='<U13'),\n array(['user', 'ed', 'hasn', 'popular', 'deserv'], dtype='<U32'),\n array(['word', 'close', 'andi', 'url'], dtype='<U32'),\n array(['user', 'hahahah', 'set', 'make', 'coach', 'user hahahah'],\n       dtype='<U12'),\n array(['user', 'user', 'asian', 'pic', 'hold', 'ador', 'nephew', 'clue',\n        'user user'], dtype='<U9'),\n array(['awe', 'start', 'miss', 'oomf'], dtype='<U32'),\n array(['sam', 'love', 'cute', 'creepi', 'glee'], dtype='<U32'),\n array(['boy', 'special', 'time', 'user', 'te', 'time user'], dtype='<U9'),\n array(['girl', 'lip', 'ring', 'tongu', 'ring', 'nippl', 'pierc', 'belli',\n        'ring', 'ifindthatattract'], dtype='<U32'),\n array(['user', 'lay', 'ass', 'user lay'], dtype='<U8'),\n array(['congrat', 'user', 'clair', 'yve', 'trend', 'pbbteen',\n        'congrat user'], dtype='<U12'),\n array(['oomf', 'brace', 'good', 'user', 'good user'], dtype='<U9'),\n array(['avoid', 'onlin', 'date', 'sit', 'match', 'peopl', 'share',\n        'interest', 'dont', 'weirdo'], dtype='<U32'),\n array(['movi', 'ticket', 'tomorrow', 'night', 'tomorrow night'],\n       dtype='<U14'),\n array(['user', 'work', 'today', 'respond', 'tweet', 'lol', 'user work',\n        'work today', 'tweet lol'], dtype='<U10'),\n array(['tho', 'goodnight', 'lol'], dtype='<U32'),\n array(['user', 'yeah', 'life', 'interest', 'user yeah'], dtype='<U9'),\n array(['user', 'white', 'girlll', 'user white'], dtype='<U10'),\n array(['user', 'user', 'hehe', 'lauren', 'buy', 'ur', 'user user',\n        'user hehe'], dtype='<U9'),\n array(['ooo', 'swear', 'chanc', 'ima'], dtype='<U32'),\n array(['user', 'find', 'part', 'sing', 'shoutout', 'user', 'live', 'url',\n        'user find', 'shoutout user', 'user live', 'live url'],\n       dtype='<U13'),\n array(['beauti', 'day', 'beauti', 'boy', 'user', 'user', 'user', 'user',\n        'user', 'beauti day', 'day beauti', 'boy user', 'user user',\n        'user user', 'user user', 'user user'], dtype='<U10'),\n array(['beauti', 'day', 'beauti', 'boy', 'user', 'user', 'user', 'user',\n        'user', 'beauti day', 'day beauti', 'boy user', 'user user',\n        'user user', 'user user', 'user user'], dtype='<U10'),\n array(['user', 'man', 'travel', 'part', 'meet', 'offic', 'user man'],\n       dtype='<U8'),\n array(['cute', 'kiss', 'camera', 'ranger', 'game'], dtype='<U32'),\n array(['boo', 'love', 'lil', 'bite', 'today', 'lil bite'], dtype='<U8'),\n array([], dtype=float64),\n array(['user', 'user', 'user', 'amaz', 'amaz', 'write', 'song',\n        'user user', 'user user', 'user amaz', 'write song'], dtype='<U10'),\n array(['bitch', 'haha'], dtype='<U32'),\n array(['user', 'finish', 'perfect', 'prom', 'move', 'haha', 'user finish'],\n       dtype='<U11'),\n array(['user', 'yeah', 'jealou', 'wild', 'grandpa', 'sweater',\n        'user yeah'], dtype='<U9'),\n array(['rt', 'user', 'morn', 'nice', 'day', 'today', 'nice', 'day',\n        'today', 'rt user', 'morn nice', 'nice day', 'day today',\n        'today nice', 'nice day', 'day today'], dtype='<U10'),\n array(['user', 'id', 'save', 'olli', 'year', 'interest', 'atm', 'user id'],\n       dtype='<U8'),\n array(['user', 'tht', 'nice', 'user tht'], dtype='<U8'),\n array(['user', 'grade', 'finish', 'week', 'state', 'test', 'pretti',\n        'year'], dtype='<U32'),\n array(['make', 'wednesday', 'halfway'], dtype='<U32'),\n array(['user', 'user', 'user user'], dtype='<U9'),\n array(['user'], dtype='<U32'),\n array(['mom'], dtype='<U32'),\n array(['user', 'll', 'kindl', 'part', 'exchang', 'user ll'], dtype='<U7'),\n array(['train', 'wooo'], dtype='<U32'),\n array(['user', 'canadian'], dtype='<U32'),\n array(['user', 'joke', 'btw', 'load', 'peopl', 'footbal', 'ha',\n        'user joke'], dtype='<U9'),\n array(['user', 'shot'], dtype='<U32'),\n array(['user', 'delet', 'account'], dtype='<U32'),\n array(['user', 'fuck', 'good', 'judg', 'xx', 'lol', 'user fuck',\n        'fuck good'], dtype='<U9'),\n array(['lazi', 'repli', 'special'], dtype='<U32'),\n array(['user', 'random', 'haven', 'talk', 'forev', 'miss', 'youuu',\n        'user random', 'haven talk'], dtype='<U11'),\n array(['user', 'random', 'haven', 'talk', 'forev', 'miss', 'youuu',\n        'user random', 'haven talk'], dtype='<U11'),\n array(['user'], dtype='<U32'),\n array(['rt', 'wait', 'premier'], dtype='<U32'),\n array(['steak', 'bake', 'potato', 'call'], dtype='<U32'),\n array(['rt', 'user', 'reaction', 'tweet', 'rt user'], dtype='<U8'),\n array(['follow', 'weekend', 'travel'], dtype='<U32'),\n array(['cancer', 'good', 'sex'], dtype='<U32'),\n array(['user', 'user', 'user', 'ladi', 'work', 'class', 'brunch',\n        'justsayin', 'user user', 'user user', 'user ladi'], dtype='<U9'),\n array(['user', 'make', 'feel', 'punk', 'today', 'lol', 'push', 'head',\n        'face', 'bet', 'wont', 'happen', 'lol', 'user make', 'make feel',\n        'today lol'], dtype='<U9'),\n array(['break', 'final', 'time', 'wow', 'custom'], dtype='<U32'),\n array(['upload', 'pictur'], dtype='<U32'),\n array(['user', 'nah', 'user nah'], dtype='<U8'),\n array(['user', 'uhm', 'fake', 'user uhm'], dtype='<U8'),\n array(['user', 'follow', 'user follow'], dtype='<U11'),\n array(['user', 'talk', 'true', 'love', 'user talk', 'true love'],\n       dtype='<U9'),\n array(['bed', 'long', 'day', 'rest', 'zzz', 'zzz', 'night', 'xo',\n        'long day'], dtype='<U8'),\n array(['rememb', 'time', 'live', 'chang', 'friend', 'forev',\n        'rememb time'], dtype='<U11'),\n array(['rememb', 'time', 'live', 'chang', 'friend', 'forev',\n        'rememb time'], dtype='<U11'),\n array(['catch', 'lunch', 'sound', 'great', 'hope', 'catch', 'mutual',\n        'feel', 'tho', 'straight', 'forward', 'sound great'], dtype='<U11'),\n array(['liam', 'payn', 'xx', 'liam payn'], dtype='<U9'),\n array(['user', 'friend', 'read', 'tho', 'url', 'user friend', 'tho url'],\n       dtype='<U11'),\n array(['user', 'crazi', 'user crazi'], dtype='<U10'),\n array(['user', 'im', 'hour', 'user im'], dtype='<U7'),\n array(['hon', 'user', 'hehe', 'tu', 'ur', 'day', 'user', 'lol', 'style',\n        'user', 'user hehe', 'ur day', 'day user', 'user lol'], dtype='<U9'),\n array(['user', 'check', 'latest', 'photo', 'visit', 'england', 'url',\n        'york', 'favorit', 'citi', 'user check'], dtype='<U10'),\n array(['user', 'mission', 'progress'], dtype='<U32'),\n array(['user', 'hey', 'nice', 'day', 'user hey', 'nice day'], dtype='<U8'),\n array(['user', 'peanut', 'butter', 'dark', 'choc', 'american', 'food',\n        'store', 'wont', 'regret', 'peanut butter'], dtype='<U13'),\n array(['daughter', 'team', 'mat', 'readi', 'game', 'competit', 'excit'],\n       dtype='<U32'),\n array(['user', 've', 'yr', 've', 'buy', 'movi', 'cd', 'vyrt', 'ass', 've',\n        'earn', 'call', 'blood'], dtype='<U32'),\n array(['user', 've', 'yr', 've', 'buy', 'movi', 'cd', 'vyrt', 'ass', 've',\n        'earn', 'call', 'blood'], dtype='<U32'),\n array(['school', 'tomorrow', 'friday', 'school tomorrow',\n        'tomorrow friday'], dtype='<U15'),\n array(['real', 'time'], dtype='<U32'),\n array(['user', 'user', 'good', 'fli', 'depress', 'boo', 'user user',\n        'user good'], dtype='<U9'),\n array(['user', 'whoa', 'fine', 'pussi', 'user whoa'], dtype='<U9'),\n array(['user', 'haha', 'answer', 'question', 'user haha',\n        'answer question'], dtype='<U15'),\n array(['user', 'awww', 'don', 'make', 'blush', 'alright', 'icon',\n        'user awww', 'don make', 'make blush'], dtype='<U10'),\n array(['greet', 'love', 'updat', 'today', 'enjoy', 'shop', 'xoxo',\n        'nicol', 'url', 'today enjoy'], dtype='<U11'),\n array(['ll', 'night'], dtype='<U32'),\n array(['daddi', 'home', 'time', 'play', 'home time', 'time play'],\n       dtype='<U9'),\n array(['user', 'jaja', 'worri', 'good', 'friend', 'good friend'],\n       dtype='<U11'),\n array(['user', 'hey', 'justin', 'bieber', 'follow', 'love', 'xoxo',\n        'user hey', 'justin bieber', 'follow love', 'love xoxo'],\n       dtype='<U13'),\n array(['user', 'good', 'point', 'monster', 'user good'], dtype='<U9'),\n array(['user'], dtype='<U32'),\n array(['big', 'fa', 'rt', 'user', 'user', 'follow', 'pl', 'pl', 'pl',\n        'fan', 'rt user', 'user user', 'user follow'], dtype='<U11'),\n array(['user', 'hahahah', 'iron', 'user hahahah'], dtype='<U12'),\n array(['hear', 'player', 'nice', 'meet', 'coach', 'nice meet'],\n       dtype='<U9'),\n array(['ll', 'make', 'dinner', 'll', 'make', 'stay', 'bathroom',\n        'll make', 'make dinner', 'll make'], dtype='<U11'),\n array(['bitch', 'ain', 'shit', 'ain', 'nothin', 'trap', 'bitch ain',\n        'ain shit'], dtype='<U9'),\n array(['bigger', 'thing'], dtype='<U32'),\n array(['gonna', 'great', 'url', 'gonna great'], dtype='<U11'),\n array(['user', 'url', 'love', 'user url', 'url love'], dtype='<U8'),\n array(['user', 'chang', 'twitcon', 'tho', 'critic', 'lol', 'user chang'],\n       dtype='<U10'),\n array(['rt', 'user', 'goodnight', 'user', 'proud', 'deserv', 'rt user',\n        'user goodnight', 'goodnight user', 'user proud'], dtype='<U14'),\n array(['user', 'ast', 'back', 'dublin', 'summer'], dtype='<U32'),\n array(['user', 'make', 'happi', 'press', 'mine', 'user', 'follow',\n        'button', 'nice', 'user make', 'mine user', 'user follow',\n        'follow button'], dtype='<U13'),\n array(['user', 'user', 'worth', 'wait', 'love', 'great', 'user user',\n        'user worth', 'worth wait', 'wait love'], dtype='<U10'),\n array(['user', 'user', 'worth', 'wait', 'love', 'great', 'user user',\n        'user worth', 'worth wait', 'wait love'], dtype='<U10'),\n array(['user', 'follow', 'user', 'onlin', 'shop', 'partner',\n        'user follow', 'follow user', 'user onlin'], dtype='<U11'),\n array(['opinion', 'respect', 'trash', 'jeff', 'long', 'die', 'fire',\n        'good', 'night', 'good night'], dtype='<U10'),\n array(['wooo', 'real', 'pot', 'head', 'don', 'wait', 'holiday',\n        'pot head'], dtype='<U8'),\n array(['user', 'll', 'drink', 'friday', 'night', 'repres', 'user ll',\n        'friday night'], dtype='<U12'),\n array(['user'], dtype='<U32'),\n array(['user', 'today', 'love', 'cover', 'guy', 'user today',\n        'today love'], dtype='<U10'),\n array(['thing', 'peopl'], dtype='<U32'),\n array(['user', 'twitter', 'kudo'], dtype='<U32'),\n array(['user', 'tweet', 'fab', 'doll', 'honestli', 'love', 'sooo', 'user',\n        'user tweet', 'honestli love', 'love sooo'], dtype='<U13'),\n array(['user', 'hey', 'group', 'video', 'campaign', 'view', 'link', 'url',\n        'user hey', 'link url'], dtype='<U8'),\n array(['user', 'hey', 'group', 'video', 'campaign', 'view', 'link', 'url',\n        'user hey', 'link url'], dtype='<U8'),\n array(['user', 'hey', 'group', 'video', 'campaign', 'view', 'link', 'url',\n        'user hey', 'link url'], dtype='<U8'),\n array(['user', 'hey', 'group', 'video', 'campaign', 'view', 'link', 'url',\n        'user hey', 'link url'], dtype='<U8'),\n array(['user', 'hey', 'group', 'video', 'campaign', 'view', 'link', 'url',\n        'user hey', 'link url'], dtype='<U8'),\n array(['user', 'fun', 'user fun'], dtype='<U8'),\n array(['user', 'yep', 'gonna', 'watch', 'user yep', 'gonna watch'],\n       dtype='<U11'),\n array(['user', 'user', 'teeth', 'smile', 'beauti', 'aww', 'sweet',\n        'user user', 'aww sweet'], dtype='<U9'),\n array(['follow'], dtype='<U32'),\n array(['liam', 'harri', 'follow', 'follow', 'user', 'rt', 'follow follow',\n        'follow user', 'user rt'], dtype='<U13'),\n array(['user', 'isn', 'tire', 'lazi', 'sleep', 'describ', 'perfectli',\n        'user'], dtype='<U32'),\n array(['favorit', 'thing', 'world', 'crack', 'ankl', 'favorit thing',\n        'thing world'], dtype='<U13'),\n array(['eat', 'breakfast', 'start', 'diet', 'learn', 'yesterday'],\n       dtype='<U32'),\n array(['user', 'oop', 'read', 'wrong', 'user oop'], dtype='<U8'),\n array(['user', 'friend', 'heck', 'aren', 'user', 'knowww', 'user friend'],\n       dtype='<U11'),\n array(['cool', 'bestfriend', 'ain', 'cut'], dtype='<U32'),\n array(['user', 'lol', 'mine', 'user lol'], dtype='<U8'),\n array(['lip', 'blue', 'url'], dtype='<U32'),\n array(['normal', 'term', 'describ'], dtype='<U32'),\n array(['user', 'kitchen'], dtype='<U32'),\n array(['user', 'talk', 'pbb', 'fangirl', 'make', 'chang', 'user talk'],\n       dtype='<U9'),\n array(['user', 'enjoy', 'white', 'small', 'car', 'buy', 'url',\n        'user enjoy'], dtype='<U10'),\n array(['retweet', 'bear', 'babi'], dtype='<U32'),\n array(['retweet', 'bear', 'babi'], dtype='<U32'),\n array(['user', 'rememb'], dtype='<U32'),\n array(['thoughtsduringschool', 'teacher', 'hot', 'user'], dtype='<U32'),\n array(['play', 'bella', 'door', 'url'], dtype='<U32'),\n array(['user', 'fm', 'mm'], dtype='<U32'),\n array(['user', 'tshirt', 'love', 'win', 'turn', 'sweat', 'love win'],\n       dtype='<U8'),\n array(['user', 'borrow', 'movi', 'favorit', 'part', 'summer'],\n       dtype='<U32'),\n array(['dinner', 'tho'], dtype='<U32'),\n array(['rt', 'user', 'humor', 'project', 'size', 'url', 'joke', 'consult',\n        'rt user'], dtype='<U7'),\n array(['user', 'play', 'footbal', 'tonight', 'earli', 'match', 'back',\n        'home', 'run', 'sweat', 'bet', 'user play', 'back home'],\n       dtype='<U9'),\n array(['user', 'haha', 'hell', 'yeah', 'user haha', 'hell yeah'],\n       dtype='<U9'),\n array(['user', 'studi', 'follow', 'concentr', 'user studi'], dtype='<U10'),\n array(['user', 'day', 'good', 'hr', 'wk', 'user day', 'day good'],\n       dtype='<U8'),\n array(['listen', 'onlin', 'url', 'onlin url'], dtype='<U9'),\n array(['user', 'coffe', 'pack', 'user', 'user', 'user', 'user', 'user',\n        'user', 'user coffe', 'user user', 'user user', 'user user',\n        'user user', 'user user'], dtype='<U10'),\n array(['ditto', 'safe', 'travel', 'love', 'rt', 'user', 'guy', 'hope',\n        'smile', 'today', 'love rt', 'rt user', 'user guy', 'guy hope',\n        'smile today'], dtype='<U11'),\n array(['deep', 'rt', 'user', 'ur', 'level', 'rt', 'user', 'asshol',\n        'rt user', 'user ur', 'rt user'], dtype='<U7'),\n array(['sourc', 'happi'], dtype='<U32'),\n array(['user', 'awhh', 'suck', 'wanna', 'home', 'nail', 'user awhh'],\n       dtype='<U9'),\n array(['user', 'ni', 'song', 'review', 'heheh', 'laugh', 'hahaha', 'rofl'],\n       dtype='<U32'),\n array(['minut', 'fall', 'love', 'user', 'fall love'], dtype='<U9'),\n array(['haha', 'call', 'attract'], dtype='<U32'),\n array(['retweet', 'url'], dtype='<U32'),\n array(['user', 'good', 'river', 'start', 'drop', 'gold', 'coin', 'dude',\n        'gay', 'fan', 'url', 'user good'], dtype='<U9'),\n array(['wanna', 'top', 'grind', 'slowli', 'beat'], dtype='<U32'),\n array(['user', 'happi', 'url', 'sa', 'updat', 'sec', 'user', 'peopl',\n        'follow', 'don', 'time', 'boy', 'australia', 'niall', 'celebr',\n        'birthday', 'time', 'boy', 'australia', 'niall', 'celebr',\n        'birthday', 'time', 'boy', 'australia', 'niall', 'celebr',\n        'birthday', 'user', 'amaz', 'show', 'tonight', 'll', 'audienc',\n        'll', 'die', 'glad', 'day', 'end', 'swear', 'retweet', 'user',\n        'tweet', 'juss', 'funni', 'real', 'type', 'girl', 'chang', 'life',\n        'cutest', 'butt', 'ma', 'lil', 'url', 'beauti', 'jordan', 'flip',\n        'small', 'cute', 'url', 'user', 'dog', 'hahah', 'url', 'user',\n        'user', 'funni', 'user', 'job', 'interview', 'luck', 'good',\n        'luck', 'hey', 'beauti', 'user happi', 'user peopl',\n        'peopl follow', 'follow don', 'don time', 'user amaz',\n        'show tonight', 'tonight ll', 'retweet user', 'user tweet',\n        'chang life', 'cute url', 'url user', 'user dog', 'url user',\n        'user user', 'funni user', 'user job', 'job interview',\n        'good luck'], dtype='<U13'),\n array(['user', 'day', 'day', 'follow', 'user day', 'day day',\n        'day follow'], dtype='<U10'),\n array(['buy', 'half', 'today', 'yay'], dtype='<U32'),\n array(['make', 'wrong', 'decis', 'today', 'll', 'upset', 'today ll'],\n       dtype='<U8'),\n array(['rt', 'user', 'user', 'lmao', 'don', 'worri', 'idea', 'rt user',\n        'user user', 'user lmao', 'don worri'], dtype='<U9'),\n array(['follow', 'user', 'follow user'], dtype='<U11'),\n array(['user', 'time', 'longer', 'break', 'hard', 'back', 'swing',\n        'thing', 'hard back'], dtype='<U9'),\n array(['user', 'aint', 'yu', 'readi', 'bt', 'kno', 'chu'], dtype='<U32'),\n array(['user', 'make', 'guy', 'earli', 'birthday', 'user make',\n        'earli birthday'], dtype='<U14'),\n array(['watch', 'back', 'class'], dtype='<U32'),\n array(['user', 'student', 'choos', 'question', 'research', 'topic',\n        'semest'], dtype='<U32'),\n array(['user', 'turn', 'radio', 'what', 'happenin', 'user turn'],\n       dtype='<U9'),\n array(['text', 'lol', 'today', 'day', 'life', 'word', 'st', 'birthday',\n        'cont', 'url', 'text lol', 'today day', 'day life', 'cont url'],\n       dtype='<U9'),\n array(['kill', 'ova'], dtype='<U32'),\n array(['kick', 'day', 'url', 'day url'], dtype='<U7'),\n array(['weekend', 'user', 'home', 'user', 'babi', 'shower',\n        'weekend user', 'user home', 'user babi'], dtype='<U12'),\n array(['chelsea', 'play', 'night', 'finger', 'cross', 'leg',\n        'finger cross'], dtype='<U12'),\n array(['rt', 'user', 'shout', 'user', 'rt user', 'user shout',\n        'shout user'], dtype='<U10'),\n array(['back', 'url', 'trap', 'past', 'failur', 'free', 'back url'],\n       dtype='<U8'),\n array(['nap'], dtype='<U32'),\n array(['user', 'good', 'time', 'user good', 'good time'], dtype='<U9'),\n array(['user', 'melbourn', 'coffe', 'date', 'share', 'coke', 'mall'],\n       dtype='<U32'),\n array(['lol', 'ima', 'ass', 'fuck', 'scari', 'ass'], dtype='<U32'),\n array(['pant', 'ain', 'workin'], dtype='<U32'),\n array(['boy', 'fact', 'bump', 'rap', 'shit', 'time', 'biggest', 'turn'],\n       dtype='<U32'),\n array(['user', 'bed', 'hous', 'xx', 'user bed'], dtype='<U8'),\n array(['user', 'hey', 'follow', 'user hey', 'hey follow'], dtype='<U10'),\n array(['user', 'text', 'high', 'drug', 'spell', 'shit', 'wrong', 'tho',\n        'lmao', 'user text'], dtype='<U9'),\n array(['user', 'love', 'song', 'good', 'luck', 'futur', 'album',\n        'user love', 'love song', 'good luck'], dtype='<U9'),\n array(['don', 'cake', 'user', 'user', 'celebr', 'url', 'cake user',\n        'user user', 'user celebr'], dtype='<U11'),\n array(['user', 'isn', 'serv', 'user isn'], dtype='<U8'),\n array(['malaysia', 'photographi', 'make', 'smile', 'url', 'make smile',\n        'smile url'], dtype='<U11'),\n array(['sleep', 'phil', 'rt', 'user', 'blast', 'tonight', 'stage', 'hope',\n        'cont', 'url', 'rt user', 'user blast', 'cont url'], dtype='<U10'),\n array(['follow', 'spread', 'love', 'rt', 'spread love', 'love rt'],\n       dtype='<U11'),\n array(['follow', 'spread', 'love', 'rt', 'spread love', 'love rt'],\n       dtype='<U11'),\n array(['user', 'thx', 'bow', 'mr', 'australia', 'user', 'user', 'user',\n        'ff', 'user thx', 'user user', 'user user', 'user ff'], dtype='<U9'),\n array(['oomf', 'pretti', 'funni', 'make', 'night', 'alot', 'make night'],\n       dtype='<U10'),\n array(['guy', 'girl', 'miss', 'sum', 'enjoy', 'guy girl'], dtype='<U8'),\n array(['user', 'dont', 'start', 'hard', 'felt', 'bad', 'watch', 'trailer',\n        'user dont'], dtype='<U9'),\n array(['user', 'ahh', 'song', 'bloodi', 'happen', 'aha', 'user ahh'],\n       dtype='<U8'),\n array(['user', 'nice', 'prepar', 'post', 'dinner', 'book', 'group',\n        'user nice'], dtype='<U9'),\n array(['user', 'sa', 'privat', 'public', 'di', 'ko', 'rin', 'eh', 'wala',\n        'event', 'dun', 'ng'], dtype='<U32'),\n array(['morn'], dtype='<U32'),\n array(['girl', 'turn', 'light', 'bet', 'make', 'tap', 'turn light'],\n       dtype='<U10'),\n array(['hurt', 'line', 'readi', 'catch', 'fall', 'im', 'bad'],\n       dtype='<U32'),\n array(['user', 'atm', 'play', 'hole', 'game'], dtype='<U32'),\n array(['user'], dtype='<U32'),\n array(['women', 'abt', 'big', 'shoe', 'big', 'uhhh'], dtype='<U32'),\n array(['user', 'fb', 'girl', 'hope', 'user fb'], dtype='<U7'),\n array(['love', 'mirror', 'good', 'neva', 'brag', 'max'], dtype='<U32'),\n array(['rt', 'user', 'user', 'greater', 'god', 'bless', 'rt user',\n        'user user', 'god bless'], dtype='<U9'),\n array(['user', 'hahah', 'user hahah'], dtype='<U10'),\n array(['seee', 'problem', 'don'], dtype='<U32'),\n array(['sooo', 'rt', 'user', 'twitter', 'laptop', 'lol', 'rt user',\n        'user twitter'], dtype='<U12'),\n array(['user', 'answer', 'user answer'], dtype='<U11'),\n array(['user', 'give', 'link', 'user give'], dtype='<U9'),\n array(['user', 'aww', 'hun', 'wayyy', 'nice', 'user aww'], dtype='<U8'),\n array(['pick', 'watch', 'lose', 'live'], dtype='<U32'),\n array(['user', 'suck', 'good', 'good', 'live', 'life', 'day', 'day',\n        'user suck', 'good good', 'live life', 'day day'], dtype='<U9'),\n array(['meet', 'smile', 'reason'], dtype='<U32'),\n array(['everytim', 'hair', 'salon', 'bat', 'weird', 'tast', 'hair'],\n       dtype='<U32'),\n array(['user', 'yeah', 'man', 'll', 'day', 'extra', 'sort', 'll', 'check',\n        'sooner', 'time', 'user yeah', 'yeah man', 'll day', 'll check'],\n       dtype='<U9'),\n array(['sell', 'coffe', 'tabl', 'tv', 'couch', 'bed', 'monday', 'lol'],\n       dtype='<U32'),\n array(['glad', 'don', 'case', 'nerd', 'blow'], dtype='<U32'),\n array(['miss', 'user', 'hurri', 'lolz', 'miss user', 'user hurri'],\n       dtype='<U10'),\n array(['gonna', 'goood', 'weekend'], dtype='<U32'),\n array(['leav', 'earli', 'leav earli'], dtype='<U10'),\n array(['user', 'yesterday', 'eat', 'drink', 'time', 'user yesterday'],\n       dtype='<U14'),\n array(['tryna', 'text', 'text', 'love', 'day', 'love day'], dtype='<U8'),\n array(['user', 'nice', 'word', 'wise', 'act', 'user nice'], dtype='<U9'),\n array(['user', 'ah', 'glad', 'hear', 'user ah', 'glad hear'], dtype='<U9'),\n array(['user', 'yeah', 'aha', 'yeah', 'mmm', 'ahaa', 'user yeah'],\n       dtype='<U9'),\n array(['height', 'jesu', 'love', 'worri', 'anymor', 'great'], dtype='<U32'),\n array(['height', 'jesu', 'love', 'worri', 'anymor', 'great'], dtype='<U32'),\n array(['user', 'hey', 'nialler', 'follow', 'back', 'im', 'feel', 'lucki',\n        'follow', 'nialler', 'xx', 'user hey', 'follow back', 'back im',\n        'feel lucki'], dtype='<U11'),\n array(['high'], dtype='<U32'),\n array(['user', 'hot', 'teacher', 'user hot'], dtype='<U8'),\n array(['user', 'grind', 'slowli', 'strip', 'hey', 'babi', 'hey babi'],\n       dtype='<U8'),\n array(['hear', 'doin', 'hear', 'doin'], dtype='<U32'),\n array(['user', 'itun', 'download', 'alex', 'alll', 'lol', 'user', 'user',\n        'lol user', 'user user'], dtype='<U9'),\n array(['wear', 'dress', 'tomorrow', 'class', 'lol'], dtype='<U32'),\n array(['user', 'guess', 'birthday', 'happybirthday', 'user guess'],\n       dtype='<U13'),\n array(['yougetmajorpointsif', 'rub', 'back'], dtype='<U32'),\n array(['finish', 'work', 'earli', 'hair', 'finish work', 'work earli'],\n       dtype='<U11'),\n array(['user', 'haha', 'good', 'user haha', 'haha good'], dtype='<U9'),\n array(['user', 'hey', 'follow', 'back', 'user hey', 'follow back'],\n       dtype='<U11'),\n array(['hope', 'user', 'pictur', 'phone', 'hope user', 'user pictur',\n        'pictur phone'], dtype='<U12'),\n array(['user', 'gari', 'follow', 'back', 'follow back'], dtype='<U11'),\n array(['user', 'make', 'wana', 'band', 'user make'], dtype='<U9'),\n array(['user', 'pretti', 'good', 'xx', 'user pretti', 'pretti good',\n        'good xx'], dtype='<U11'),\n array(['user', 'haha', 'tan', 'lol', 'user haha'], dtype='<U9'),\n array(['wait', 'weekend', 'spend', 'rest', 'birthday', 'money'],\n       dtype='<U32'),\n array(['bind', 'da', 'girl'], dtype='<U32'),\n array(['user', 'dont', 'school', 'friday', 'sleep', 'longer', 'thursday',\n        'night'], dtype='<U32'),\n array(['user', 'math', 'physic', 'result', 'user math'], dtype='<U9'),\n array(['girl', 'work', 'wit', 'ass', 'yea', 'yea', 'make', 'nigga',\n        'spend', 'cash', 'yea', 'yea', 'yea yea'], dtype='<U7'),\n array(['user', 'follow', 'user', 'user follow', 'follow user'],\n       dtype='<U11'),\n array(['user', 'cool', 'watch', 'movi', 'eat', 'dinner', 'user cool',\n        'watch movi'], dtype='<U10'),\n array(['user', 'smh', 'lol', 'yay', 'awesom', 'user smh'], dtype='<U8'),\n array(['late', 'start', 'tomorrow', 'god', 'start tomorrow'], dtype='<U14'),\n array(['thoughtsduringschool', 'bed', 'cuddl', 'buddi'], dtype='<U32'),\n array(['user', 'user', 'chicken', 'user user', 'user chicken'],\n       dtype='<U12'),\n array(['user', 'oke', 'user oke'], dtype='<U8'),\n array(['user', 'safe', 'user safe'], dtype='<U9'),\n array(['cut', 'start', 'fresh'], dtype='<U32'),\n array(['mad', 'car'], dtype='<U32'),\n array(['user', 'subtweet', 'appli', 'subtweet', 'im', 'talk', 'im talk'],\n       dtype='<U8'),\n array(['user', 'haha', 'good', 'excit', 'act', 'hang', 'bust',\n        'user haha'], dtype='<U9'),\n array(['user', 'bless', 'pal', 'user bless'], dtype='<U10'),\n array(['user', 'follow', 'back', 'unfollow', 'user follow', 'follow back'],\n       dtype='<U11'),\n array(['user', 'ohhh', 'ohh', 'chanc', 'buy', 'drink', 'heh', 'user ohhh'],\n       dtype='<U9'),\n array(['user', 'll', 'train', 'make', 'teeth', 'blunt', 'user ll'],\n       dtype='<U7'),\n array(['user', 'hehe', 'true', 'thankyou', 'cc', 'user hehe'], dtype='<U9'),\n array(['check', 'rid', 'open', 'year', 'user', 'user', 'stuff', 'url',\n        'year user', 'user user', 'user stuff', 'stuff url'], dtype='<U10'),\n array(['check', 'rid', 'open', 'year', 'user', 'user', 'stuff', 'url',\n        'year user', 'user user', 'user stuff', 'stuff url'], dtype='<U10'),\n array(['user', 've', 'alright', 'hbu', 'user ve'], dtype='<U7'),\n array(['excit', 'tonight', 'press', 'launch', 'user'], dtype='<U32'),\n array(['user', 'show', 'mama', 'gonna', 'throw', 'haha', 'pretti', 'sexi',\n        'haha', 'user show'], dtype='<U9'),\n array(['obama', 'leo'], dtype='<U32'),\n array(['user', 'good', 'morn', 'show', 'user good', 'good morn'],\n       dtype='<U9'),\n array(['lmaoo', 'rt', 'user', 'll', 'give', 'green', 'time', 'rt user',\n        'user ll', 'll give'], dtype='<U7'),\n array(['user', 'gonna', 'diet', 'follow', 'gracia', 'user gonna'],\n       dtype='<U10'),\n array(['user', 'due', 'hair'], dtype='<U32'),\n array(['user', 'follow', 'user follow'], dtype='<U11'),\n array(['user', 'love', 'follow', 'user love', 'love follow'], dtype='<U11'),\n array(['rt', 'user', 'yoo', 'berri', 'juic', 'oomf', 'juic', 'sweet',\n        'bitch', 'ctfuu', 'rt user'], dtype='<U7'),\n array(['user', 'url'], dtype='<U32'),\n array(['user', 'haha', 'follow', 'ive', 'user haha'], dtype='<U9'),\n array(['user', 'promot', 'user promot'], dtype='<U11'),\n array(['make', 'high', 'school', 'volleybal', 'team', 'high school'],\n       dtype='<U11'),\n array(['user', 'bestfriend', 'lol', 'user bestfriend'], dtype='<U15'),\n array(['tonight', 'girl'], dtype='<U32'),\n array(['forev', 'young', 'live', 'forev', 'forev', 'young'], dtype='<U32'),\n array(['user', 'hell', 'yea', 'movi', 'user hell', 'hell yea'],\n       dtype='<U9'),\n array(['user', 'lol', 'what', 'good', 'tho', 'user lol', 'good tho'],\n       dtype='<U8'),\n array(['mom', 'reason'], dtype='<U32'),\n array(['user', 'user', 'user user'], dtype='<U9'),\n array(['american', 'pie', 'reunion', 'cabin', 'wood', 'american pie'],\n       dtype='<U12'),\n array(['user', 'leav', 'thing', 'user', 'cri', 'haha', 'url', 'user leav',\n        'thing user', 'user cri', 'haha url'], dtype='<U10'),\n array(['love', 'presenc'], dtype='<U32'),\n array(['user', 'haha'], dtype='<U32'),\n array(['user', 'hope', 'didnt', 'give', 'full', 'blow', 'suggest', 'bout',\n        'william', 'pain', 'user hope'], dtype='<U9'),\n array(['stay', 'school', 'user', 'thursday', 'tho', 'school user',\n        'user thursday'], dtype='<U13'),\n array(['wake', 'classic', 'rock', 'wave', 'ahhh', 'relax', 'jimmi'],\n       dtype='<U32'),\n array(['laugh', 'care', 'anymor'], dtype='<U32'),\n array(['sleep'], dtype='<U32'),\n array(['user', 'user', 'ga', 'truth', 'user user'], dtype='<U9'),\n array(['haha', 'll', 'meet', 'direct', 'someday', 'll meet'], dtype='<U7'),\n array(['feel', 'confid'], dtype='<U32'),\n array(['ba', 'tayo', 'user', 'user', 'kayo', 'ni', 'mama', 'love', 'user',\n        'user user', 'love user'], dtype='<U9'),\n array(['ticket', 'time', 'luck', 'love', 'youu', 'user', 'love youu'],\n       dtype='<U9'),\n array(['earli', 'morn', 'blow', 'earli morn'], dtype='<U10'),\n array(['user', 'beauti', 'ah', 'trip', 'london', 'user beauti'],\n       dtype='<U11'),\n array(['happi', 'monthsari', 'user', 'user', 'love', 'guy', 'anna',\n        'babyyi', 'user user', 'user love', 'love guy'], dtype='<U9'),\n array(['day', 'nyc'], dtype='<U32'),\n array(['user', 'na', 'po', 'ba', 'kayo', 'ng', 'purpl', 'hous'],\n       dtype='<U32'),\n array(['pigeon', 'face', 'haha', 'tbh'], dtype='<U32'),\n array(['user', 'ur', 'user ur'], dtype='<U7'),\n array(['user', 'louder', 'xx'], dtype='<U32'),\n array(['ohhh', 'movi', 'big', 'bro', 'tomorrow'], dtype='<U32'),\n array(['user', 'back', 'china', 'user back'], dtype='<U9'),\n array(['user', 'user', 'kiss', 'love', 'extra', 'lolll', 'user user',\n        'user kiss'], dtype='<U9'),\n array(['user', 'pictur', 'draw', 'deserv', 'follow', 'url', 'user pictur',\n        'deserv follow', 'follow url'], dtype='<U13'),\n array(['user', 'pictur', 'draw', 'deserv', 'follow', 'url', 'user pictur',\n        'deserv follow', 'follow url'], dtype='<U13'),\n array(['shower', 'text', 'till', 'eye', 'close'], dtype='<U32'),\n array(['sleepov', 'user', 'mansion', 'user', 'user', 'user', 'user user',\n        'user user'], dtype='<U9'),\n array(['user', 'mind', 'follback', 'user mind', 'mind follback'],\n       dtype='<U13'),\n array(['store'], dtype='<U32'),\n array(['god', 'love', 'hand', 'work', 'tree', 'star', 'man', 'classic',\n        'roll', 'commerci', 'god love'], dtype='<U8'),\n array(['user', 'hear', 'singl', 'user', 'sound', 'fab', 'trend',\n        'user hear', 'user sound'], dtype='<U10'),\n array(['god', 'don', 'homework'], dtype='<U32'),\n array(['user', 'gonna', 'day', 'sweet', 'chilli', 'sauc', 'user gonna'],\n       dtype='<U10'),\n array(['user'], dtype='<U32'),\n array(['user', 'user', 'user', 'home', 'tuesday', 'night', 'gay',\n        'user user', 'user user', 'user home'], dtype='<U9'),\n array(['user', 'wow', 'twitter', 'watch', 'peopl', 'hehe', 'user wow'],\n       dtype='<U8'),\n array(['lml'], dtype='<U32'),\n array(['havin', 'good', 'night', 'girl', 'user', 'user', 'user',\n        'good night', 'night girl', 'girl user', 'user user', 'user user'],\n       dtype='<U10'),\n array(['user', 'lmfao'], dtype='<U32'),\n array(['user', 'good', 'lifetim', 'user good'], dtype='<U9'),\n array(['hmm', 'cute', 'watch', 'pass', 'de', 'post', 'facebook'],\n       dtype='<U32'),\n array(['visit', 'trend'], dtype='<U32'),\n array(['user'], dtype='<U32'),\n array(['user', 'love', 'video', 'boyfriend', 'love', 'stay', 'strong',\n        'justin', 'te', 'amo', 'user love', 'love video',\n        'video boyfriend', 'love stay', 'stay strong', 'te amo'],\n       dtype='<U15'),\n array(['user', 'suck', 'languag', 'ahahaha', 'hope', 'll', 'learn', 'day',\n        'user suck', 'hope ll'], dtype='<U9'),\n array(['rt', 'user', 'user', 'lot', 'rt user', 'user user', 'user lot'],\n       dtype='<U9'),\n array(['gonna', 'play', 'throw', 'back', 'midnight', 'snack', 'touch',\n        'love', 'url', 'user', 'gonna play', 'love url', 'url user'],\n       dtype='<U10'),\n array(['user', 'twitcam', 'user twitcam'], dtype='<U12'),\n array(['user', 'hashtag'], dtype='<U32'),\n array(['volunt', 'll', 'stay', 'home', 'll stay', 'stay home'],\n       dtype='<U9'),\n array(['user', 'haha', 'show', 'user haha'], dtype='<U9'),\n array(['read', 've', 'realis', 'confus', 'text', 'love', 'xxx',\n        'love xxx'], dtype='<U8'),\n array(['user', 'start'], dtype='<U32'),\n array(['user', 'sore', 'tempt', 'add', 'room'], dtype='<U32'),\n array(['kno', 'wrap', 'rid', 'back'], dtype='<U32'),\n array(['fcat', 'today', 'god'], dtype='<U32'),\n array(['spend', 'time', 'spend time'], dtype='<U10'),\n array(['omg', 'mi', 'hair', 'im', 'amaz', 'mi', 'follow'], dtype='<U32'),\n array(['hear', 'poem', 'rose', 'red', 'violet', 'blue', 'don', 'suck',\n        'dick', 'bitch', 'fuck', 'rose red', 'red violet', 'violet blue'],\n       dtype='<U11'),\n array(['user', 'hahaa', 'xxx', 'user hahaa'], dtype='<U10'),\n array(['rememb', 'tax', 'midnight', 'tonight'], dtype='<U32'),\n array(['user', 'reason', 'youtub', 'watch', 'user', 'user reason',\n        'watch user'], dtype='<U11'),\n array(['rt', 'user', 'good', 'morn', 'don', 'wanna', 'forget', 'presenc',\n        'gift', 'rt user', 'user good', 'good morn', 'don wanna'],\n       dtype='<U9'),\n array(['user', 'time', 'bother', 'user time'], dtype='<U9'),\n array(['user', 'lol', 'user lol'], dtype='<U8'),\n array(['spend', 'mountain', 'smoke', 'favorit', 'plant', 'bro', 'happi'],\n       dtype='<U32'),\n array(['user', 'sign', 'music', 'video', 'free', 'haha', 'xx',\n        'user sign', 'music video', 'haha xx'], dtype='<U11'),\n array(['user', 'user', 'excit', 'saturday', 'user user'], dtype='<U9'),\n array(['user', 'brave', 'tonight', 'haaa'], dtype='<U32'),\n array(['wait', 'till', 'direct', 'concert', 'year', 'bring', 'wait till'],\n       dtype='<U9'),\n array(['love', 'user', 'wanna', 'start', 'talk', 'lot', 'love user',\n        'user wanna', 'start talk'], dtype='<U10'),\n array(['user', 'user', 'breakfast', 'great', 'start', 'day', 'user user',\n        'user breakfast', 'start day'], dtype='<U14'),\n array(['taco', 'bell', 'time', 'today', 'taco bell', 'time today'],\n       dtype='<U10'),\n array(['skip', 'ugli', 'class', 'today', 'class today'], dtype='<U11'),\n array(['user', 'good', 'omg', 'great', 'twitter', 'xoxo', 'user good'],\n       dtype='<U9'),\n array(['user', 'offici', 'ms', 'jean', 'promot', 'twitter', 'page', 'pl',\n        'promot', 'url', 'user offici'], dtype='<U11'),\n array(['user', 'offici', 'ms', 'jean', 'promot', 'twitter', 'page', 'pl',\n        'promot', 'url', 'user offici'], dtype='<U11'),\n array(['whoop', 'flight', 'user', 'cheap'], dtype='<U32'),\n array(['user', 'user', 'user', 'user', 'user', 'user', 'user', 'user',\n        'follow', 'gain', 'user user', 'user user', 'user user',\n        'user user', 'user user', 'user user', 'user user', 'user follow'],\n       dtype='<U11'),\n array(['user', 'anytim', 'girl', 'stick', 'user anytim'], dtype='<U11'),\n array(['user', 'user', 'user', 'thx', 've', 'buy', 'tune', 'itun',\n        'user user', 'user user', 'user thx'], dtype='<U9'),\n array(['user', 'opinion'], dtype='<U32'),\n array(['user', 'today', 'back', 'home', 'year', 'direct', 'make', 'harri',\n        'dont', 'listen', 'fantast', 'voic', 'user today', 'back home'],\n       dtype='<U10'),\n array(['nail', 'user'], dtype='<U32'),\n array(['guy', 'philli', 'ha'], dtype='<U32'),\n array(['make', 'laugh', 'teacher', 'make laugh'], dtype='<U10'),\n array(['user', 'ohhh', 'hahaha', 'wait', 'send', 'user ohhh'], dtype='<U9'),\n array(['brown', 'eye', 'smile'], dtype='<U32'),\n array(['user', 'hmm', 'miss', 'bunch', 'def', 'wait', 'tonight',\n        'user hmm', 'wait tonight'], dtype='<U12'),\n array(['user', 'll', 'hang', 'user ll'], dtype='<U7'),\n array(['buat', 'find', 'love', 'fight', 'ur', 'relationship', 'find',\n        'person', 'fight', 'give', 'find love'], dtype='<U12'),\n array(['buat', 'find', 'love', 'fight', 'ur', 'relationship', 'find',\n        'person', 'fight', 'give', 'find love'], dtype='<U12'),\n array(['url', 'justin', 'wale', 'sign'], dtype='<U32'),\n array(['rt', 'user', 'heat', 'game', 'lookin', 'twitter', 'wifey', 'rt',\n        'user', 'twitter', 'wifey', 'rt user', 'rt user', 'user twitter'],\n       dtype='<U12'),\n array(['user', 'crazi', 'ill', 'find', 'user crazi'], dtype='<U10'),\n array(['curl', 'ball', 'sleep', 'forev'], dtype='<U32'),\n array(['write', 'song', 'job', 'admit', 'don', 'wait', 'anymor', 'peopl',\n        'hear', 'write song'], dtype='<U10'),\n array(['user', 'cool', 'late', 'august', 'materi', 'relax', 'beach',\n        'user cool'], dtype='<U9'),\n array(['user', 'smh', 'user', 'erm', 'electr', 'bak', 'user smh',\n        'smh user'], dtype='<U8'),\n array(['user', 'thankyou', 'what', 'reserv', 'reserv', 'user thankyou'],\n       dtype='<U13'),\n array(['nice', 'walk', 'yesterday', 'user', 'cd'], dtype='<U32'),\n array(['user', 'playin', 'lol', 'approach'], dtype='<U32'),\n array(['user', 'miss', 'cheryl', 'jen', 'xxx', 'user miss'], dtype='<U9'),\n array(['box', 'free', 'make', 'goodi', 'send', 'review', 'lol', 'yayyy'],\n       dtype='<U32'),\n array(['girl', 'mad', 'make', 'back'], dtype='<U32'),\n array(['user', 'shut', 'make', 'bae', 'care', 'user shut'], dtype='<U9'),\n array(['user', 'coupl', 'hour', 'willl', 'workin', 'ass', 'tan', 'line',\n        'cantwait', 'yeah', 'yay', 'user coupl'], dtype='<U10'),\n array(['user', 'great', 'day', 'user great', 'great day'], dtype='<U10'),\n array(['shop', 'rack', 'decor'], dtype='<U32'),\n array(['kiss', 'neck', 'great'], dtype='<U32'),\n array(['kiss', 'neck', 'great'], dtype='<U32'),\n array(['kiss', 'neck', 'great'], dtype='<U32'),\n array(['user', 'bother', 'youll', 'grade', 'user bother'], dtype='<U11'),\n array(['haha', 'mornin', 'rt', 'user', 'user', 'android', 'rt user',\n        'user user'], dtype='<U9'),\n array(['user', 'follow', 'long', 'user follow'], dtype='<U11'),\n array(['continu', 'dog', 'follow', 'yeah'], dtype='<U32'),\n array(['user', 'im', 'abt', 'mommi', 'user im'], dtype='<U7'),\n array(['user', 'lol', 'tenni', 'court', 'user lol'], dtype='<U8'),\n array(['user', 'close', 'tweet', 'glad', 'didnt', 'user close'],\n       dtype='<U10'),\n array(['user', 'doctor', 'cough', 'mate'], dtype='<U32'),\n array(['user', 'strong', 'don', 'peopl', 'influenc', 'user strong'],\n       dtype='<U11'),\n array(['user', 'forgiv', 'time', 'ye'], dtype='<U32'),\n array(['user'], dtype='<U32'),\n array(['download', 'hookt', 'messag', 'url', 'hookt', 'id', 'messag url'],\n       dtype='<U10'),\n array(['user', 'semest', 'year', 'univers'], dtype='<U32'),\n array(['user', 'good', 'co', 've', 'run', 'bread', 'user good'],\n       dtype='<U9'),\n array(['user', 'father', 'learn', 'thing'], dtype='<U32'),\n array(['user', 'dont', 'complain', 'action', 'll', 'user dont'],\n       dtype='<U9'),\n array(['user', 'love', 'jealou', 'user love'], dtype='<U9'),\n array(['team', 'place', 'mud', 'congrat', 'ladi'], dtype='<U32'),\n array(['hey', 'stranger', 'im', 'whip', 'whip', 'fine', 'fine'],\n       dtype='<U32'),\n array(['user', 'love', 'show', 'user love'], dtype='<U9'),\n array(['play', 'paint', 'pen', 'url'], dtype='<U32'),\n array(['user', 'miss', 'mr', 'user miss'], dtype='<U9'),\n array(['user', 'daili', 'sentenc', 'hate', 'french', 'teacher', 'lmao'],\n       dtype='<U32'),\n array(['user', 'user', 'congrat', 'common', 'sens', 'user user',\n        'user congrat'], dtype='<U12'),\n array(['user', 'hardest', 'push', 'lol', 'tht', 'shit', 'tho', 'im'],\n       dtype='<U32'),\n array(['start', 'love', 'direct', 'love direct'], dtype='<U11'),\n array(['user', 'sleep', 'cuz', 'everyday', 'school', 'fun', 'ther',\n        'germani', 'user sleep'], dtype='<U10'),\n array(['user', 'grow', 'day', 'user grow'], dtype='<U9'),\n array(['user', 'ik', 'wont', 'tweet', 'tweet', 'everyday', 'hop', 'll',\n        'replay', 'bday', 'week', 'happi', 'bday', 'tweet tweet',\n        'happi bday'], dtype='<U11'),\n array(['user', 'ik', 'wont', 'tweet', 'tweet', 'everyday', 'hop', 'll',\n        'replay', 'bday', 'week', 'happi', 'bday', 'tweet tweet',\n        'happi bday'], dtype='<U11'),\n array(['youcangetmajorpointsif', 'send', 'random', 'cute', 'text',\n        'smile', 'day', 'long', 'day long'], dtype='<U22'),\n array(['philippin', 'flag', 'nail', 'yellow', 'red', 'blue', 'hard',\n        'candi', 'filipino', 'url'], dtype='<U32'),\n array(['good', 'nap', 'finna', 'bk', 'sleep'], dtype='<U32'),\n array(['user', 'watch', 'korean', 'pop', 'group', 'url', 'user watch'],\n       dtype='<U10'),\n array(['user', 'boyfriend', 'true', 'user boyfriend'], dtype='<U14'),\n array(['nah', 'kan', 'aku', 'rt', 'user', 'rt user'], dtype='<U7'),\n array(['user', 'dot'], dtype='<U32'),\n array(['user', 'wait', 'tomorrow', 'user wait', 'wait tomorrow'],\n       dtype='<U13'),\n array(['user', 'nice', 'haha', 'fun', 'user nice', 'haha fun'],\n       dtype='<U9'),\n array(['user'], dtype='<U32'),\n array(['user', 'hope', 'tast', 'good', 'user hope', 'tast good'],\n       dtype='<U9'),\n array(['user', 'awww', 'jealou', 'haha', 'hehe', 'xxx', 'user awww'],\n       dtype='<U9'),\n array(['user', 'back', 'user back'], dtype='<U9'),\n array(['tom', 'blue', 'eye', 'kati', 'brown', 'eye', 'lucki', 'dad',\n        'amaz', 'eye'], dtype='<U32'),\n array(['brother', 'sister', 'gang', 'intend', 'bulli', 'mom', 'xd',\n        'brother sister'], dtype='<U14'),\n array(['user', 'pshh', 'aw', 'man', 'cake'], dtype='<U32'),\n array(['ve', 'cocktail', 'start', 'user', 'user'], dtype='<U32'),\n array(['user', 'lol', 'heart', 'fast', 'user lol'], dtype='<U8'),\n array(['user', 'long', 'wait', 'user long', 'long wait'], dtype='<U9'),\n array(['user', 'hey', 'steph', 'haha', 'user hey'], dtype='<U8'),\n array(['user', 'wouldn', 'hate', 'sex', 'tape', 'imagin', 'user wouldn'],\n       dtype='<U11'),\n array(['lol'], dtype='<U32'),\n array(['user', 'lose', 'bestfriend', 'user', 've', 'long', 'forev',\n        'user', 'arm', 'user', 'user', 'je', 'aim', 'bestfriend user',\n        'user ve', 've long', 'user user'], dtype='<U15'),\n array(['user', 'jst', 'dark', 'part'], dtype='<U32'),\n array(['dear', 'read', 'hope', 'reason', 'smile', 'today', 'reason smile',\n        'smile today'], dtype='<U12'),\n array(['minut', 'leav', 'join', 'network', 'cruis', 'rockin'],\n       dtype='<U32'),\n array(['user', 'good', 'yeah', 'good', 'darl', 'yeah', 'lemm', 'free',\n        'catch', 'user good', 'good yeah', 'yeah good'], dtype='<U9'),\n array(['sock', 'choos', 'day', 'wear', 'url'], dtype='<U32'),\n array([], dtype=float64),\n array(['diamond', 'user', 'race', 'hr', 'wass', 'fool'], dtype='<U32'),\n array(['nigga', 'unfollow', 'favor'], dtype='<U32'),\n array(['peopl', 'swear', 'uu', 'ii', 'uu'], dtype='<U32'),\n array(['thoughtsduringschool', 'chill', 'day', 'cool'], dtype='<U32'),\n array(['hear', 'street', 'im'], dtype='<U32'),\n array(['sit', 'randomli', 'laugh', 'happen'], dtype='<U32'),\n array(['user', 'pl', 'ain', 'bout', 'life', 'bout life'], dtype='<U9'),\n array(['mind', 'hmmm'], dtype='<U32'),\n array(['ahhh', 'gunna', 'good'], dtype='<U32'),\n array(['user', 'youuu', 'awhil', 'figur', 'user youuu'], dtype='<U10'),\n array(['user', 'happi', 'user happi'], dtype='<U10'),\n array(['user', 'moment', 'life'], dtype='<U32'),\n array(['user', 'pmsl', 'na', 'girl', 'good', 'game', 'hun', 'stop',\n        'init', 'lool', 'girl good', 'good game'], dtype='<U9'),\n array(['call', 'today', 'finish', 'letter'], dtype='<U32'),\n array(['user', 'user', 'point', 'counter', 'dick', 'user user',\n        'user point'], dtype='<U10'),\n array(['user', 'nice', 'mate', 'll', 'make', 'pop', 'pint', 'town',\n        'user nice', 'll make'], dtype='<U9'),\n array(['hot', 'shower', 'tire', 'hot shower'], dtype='<U10'),\n array(['rt', 'user', 'user', 'url', 'review', 'check', 'bar', 'salut',\n        'ima', 'send', 'track', 'sunday', 'rt user', 'user user',\n        'user url'], dtype='<U9'),\n array(['loui', 'jump', 'nz', 'credit', 'owner', 'mari', 'xx', 'url',\n        'xx url'], dtype='<U6'),\n array(['user', 'good', 'josh', 'automat', 'make', 'amaz', 'user good'],\n       dtype='<U9'),\n array(['user', 'cut', 'ear', 'open', 'pair'], dtype='<U32'),\n array(['save', 'hors', 'ride', 'ladi'], dtype='<U32'),\n array(['liam', 'rt', 'ed', 'egg', 'egg', 'url'], dtype='<U32'),\n array(['user', 'start', 'thinkin', 'ur', 'birthday', 'conclus', 'fuck',\n        'geniu', 'user start'], dtype='<U10'),\n array(['sooner', 'thing', 'imagin'], dtype='<U32'),\n array(['user', 'yah', 'user yah'], dtype='<U8'),\n array(['user', 'chachi', 'safe', 'follow', 'back', 'follow back'],\n       dtype='<U11'),\n array(['user', 'user', 'user', 'make', 'road', 'trip', 'friday', 'join',\n        'user user', 'user user', 'user make', 'road trip'], dtype='<U9'),\n array(['user', 'll', 'train', 'home', 'rememb', 'user ll'], dtype='<U7'),\n array(['user', 'forev', 'matter', 'user forev'], dtype='<U10'),\n array(['user', 'boo', 'love', 'user boo'], dtype='<U8'),\n array(['user'], dtype='<U32'),\n array(['guess', 'ill', 'drive'], dtype='<U32'),\n array(['user', 'poo'], dtype='<U32'),\n array(['drink', 'drink'], dtype='<U32'),\n array(['drink', 'drink'], dtype='<U32'),\n array(['goodnight', 'babi', 'user', 'hope', 'wonder', 'day', 'babi user',\n        'user hope', 'hope wonder', 'wonder day'], dtype='<U11'),\n array(['home', 'open', 'naman', 'bi', 'tom', 'rest', 'na'], dtype='<U32'),\n array(['user', 'lol', 'yeah', 'ish', 'feel', 'user lol', 'lol yeah'],\n       dtype='<U8'),\n array(['girl', 'don', 'heart', 'break'], dtype='<U32'),\n array(['user', 'send', 'morrow', 'url', 'user send'], dtype='<U9'),\n array(['user', 'hahahah', 'hear', 'yesterday', 'sign', 'christian',\n        'user hahahah'], dtype='<U12'),\n array(['babi', 'hide', 'user'], dtype='<U32'),\n array(['enjoy', 'sun', 'url'], dtype='<U32'),\n array(['pic', 'cray', 'url'], dtype='<U32'),\n array(['user', 'hey', 'huge', 'favor', 'check', 'friend', 'song',\n        'subscrib', 'url', 'user hey'], dtype='<U8'),\n array(['mention', 'url', 'jenni'], dtype='<U32'),\n array(['user', 'man', 'night', 'part', 'weekend', 'user man'], dtype='<U8'),\n array(['user', 'fuck', 'orang', 'night', 'ridicul', 'max', 'user fuck'],\n       dtype='<U9'),\n array(['user', 'hey', 'gorgeou', 'lol', 'user hey'], dtype='<U8'),\n array(['thee', 'bed', 'keeper', 'bra', 'leg', 'eat', 'anim', 'cracker'],\n       dtype='<U32'),\n array(['user', 'user', 'omg', 'wait', 'excit', 'boyfriend', 'idol',\n        'follow', 'user user', 'user omg'], dtype='<U9'),\n array(['rt', 'user', 'rt', 'user', 'rt', 'user', 'rt', 'user',\n        'openfollow', 'openfollow', 'rt user', 'user rt', 'rt user',\n        'user rt', 'rt user', 'user rt', 'rt user', 'user openfollow'],\n       dtype='<U15'),\n array(['user', 'understand', 'comment', 'googl', 'translat', 'lot',\n        'happi', 'time', 'user understand', 'happi time'], dtype='<U15'),\n array(['user', 'understand', 'comment', 'googl', 'translat', 'lot',\n        'happi', 'time', 'user understand', 'happi time'], dtype='<U15'),\n array(['user', 'll', 'wait', 'year', 'user ll', 'll wait'], dtype='<U7'),\n array(['user', 'user', 'advic', 'time', 'user user'], dtype='<U9'),\n array(['im', 'phone', 'miss'], dtype='<U32'),\n array(['alright', 'alright', 'time', 'close', 'laptop', 'goodnight',\n        'nigguh'], dtype='<U32'),\n array(['happi', 'hour', 'day', 'sonic', 'complain', 'day', 'yeah',\n        'start', 'week', 'final', 'yesss', 'happi hour', 'hour day'],\n       dtype='<U10'),\n array(['user', 'spot', 'doubl', 'amaz', 'goal'], dtype='<U32'),\n array(['snack', 'babi', 'user', 'today', 'love', 'babi user',\n        'user today', 'today love'], dtype='<U10'),\n array(['user', 'good', 'morn', 'bless', 'weekend', 'user good',\n        'good morn'], dtype='<U9'),\n array(['user', 'shit', 'trend', 'topic', 'trend topic'], dtype='<U11'),\n array(['user', 'babe', 'comfort', 'cute', 'huh', 'url', 'user', 'user',\n        'info', 'mommi', 'love', 'care', 'user', 'tho', 'wont', 'im',\n        'home', 'sick', 'great', 'today', 'ur', 'sweetest', 'btw', 'love',\n        'dad', 'user', 'wrong', 'person', 'choic', 'follow', 'user',\n        'nice', 'good', 'chat', 'user', 'hii', 'ed', 'australia', 'xx',\n        'stuff', 'understand', 'class', 'essay', 'yougetmajorpointsif',\n        'ew', 'user', 'll', 'die', 'hahah', 'hotti', 'user', 'url', 'user',\n        'awww', 'babyy', 'goodnight', 'sleep', 'sweet', 'dream', 'dream',\n        'gonna', 'miss', 'yew', 'user babe', 'user user', 'user info',\n        'user tho', 'im home', 'great today', 'btw love', 'user wrong',\n        'follow user', 'user nice', 'user hii', 'user ll', 'user url',\n        'url user', 'user awww', 'sweet dream', 'gonna miss'], dtype='<U19'),\n array(['good', 'true', 'don', 'wake'], dtype='<U32'),\n array(['user', 'user', 'cd', 'repeat', 'love', 'song', 'voic', 'user',\n        'user', 'user', 'user user', 'love song', 'user user', 'user user'],\n       dtype='<U9'),\n array(['user', 'yeah', 'day', 'decid', 'cut', 'user yeah'], dtype='<U9'),\n array(['user', 'london', 'train', 'depend', 'date'], dtype='<U32'),\n array(['phone'], dtype='<U32'),\n array(['user', 'lol', 'user lol'], dtype='<U8'),\n array(['user', 'visit', 'glad', 'enjoy', 'user visit', 'glad enjoy'],\n       dtype='<U10'),\n array(['size', 'small'], dtype='<U32'),\n array(['lovin', 'pic', 'hahaha', 'url', 'hahaha url'], dtype='<U10'),\n array(['wake', 'sound', 'bird', 'chirp'], dtype='<U32'),\n array(['today', 'dope', 'chef', 'class', 'lead', 'nigga', 'em'],\n       dtype='<U32'),\n array(['rt', 'user', 'word', 'user', 'babi', 'ur', 'fine', 'cousin',\n        'rt user', 'user word', 'user babi'], dtype='<U9'),\n array(['sky', 'blue', 'today'], dtype='<U32'),\n array(['catch', 'skype', 'morn', 'good', 'morn', 'world', 'url',\n        'morn good', 'good morn', 'morn world'], dtype='<U10'),\n array(['user', 'rt', 'user rt'], dtype='<U7'),\n array(['user', 'time', 'haha', 'love', 'dude', 'turn', 'frown', 'upsid',\n        'user time', 'time haha', 'haha love', 'love dude'], dtype='<U9'),\n array(['user', 'cute', 'face', 'stand', 'user cute'], dtype='<U9'),\n array(['user', 'boo', 'happen', 'today', 'amaz', 'short', 'hour', 'xoxox',\n        'user boo', 'today amaz'], dtype='<U10'),\n array(['user', 'lool', 'dw', 'ignor', 'twitter', 'complaint', 'haha',\n        'wors', 'll', 'doctor', 'user lool'], dtype='<U9'),\n array(['user', 'yap', 'team', 'indonesia'], dtype='<U32'),\n array(['user', 'morn', 'charlott', 'earli', 'great', 'day', 'play',\n        'golf', 'user morn', 'great day'], dtype='<U9'),\n array(['user', 'user', 'don', 'mind', 'user user', 'user don', 'don mind'],\n       dtype='<U9'),\n array(['recent', 'photo', 'shoot', 'onlin', 'url', 'check', 'em', 'url',\n        'photo shoot', 'onlin url', 'url check'], dtype='<U11'),\n array(['user', 'user', 'busi', 'thing', 'user user', 'user busi'],\n       dtype='<U9'),\n array(['user', 'harri', 'potter', 'hunger', 'game', 'user harri',\n        'harri potter', 'hunger game'], dtype='<U12'),\n array(['histori', 'thingi'], dtype='<U32'),\n array(['mad', 'reason', 'im'], dtype='<U32'),\n array(['user', 'bite', 'sport', 'user bite'], dtype='<U9'),\n array(['user', 'haha', 'yeaaa', 'meh', 'good', 'guess', 'amaz', 'mark',\n        'lol', 'user haha'], dtype='<U9'),\n array(['im', 'proud', 'stop', 'peopl', 'mind', 'stop', 'feed', 'insecur',\n        'stop', 'stop', 'night', 'im proud'], dtype='<U8'),\n array(['user', 'fine', 'twitter', 'icon'], dtype='<U32'),\n array(['user', 'agre', 'higher', 'sell', 'doubl', 'doubl', 'mass'],\n       dtype='<U32'),\n array(['user', 'love', 'store', 'user love'], dtype='<U9'),\n array(['user', 'honest', 'listen', 'user honest'], dtype='<U11'),\n array(['user', 'trust', 'xxx', 'user trust'], dtype='<U10'),\n array(['user', 'good', 'user good'], dtype='<U9'),\n array(['user', 'hey', 'demi', 'll', 'play', 'argentina', 'user hey',\n        'll play'], dtype='<U9'),\n array(['user', 'birthday', 'day', 'follow', 'gift', 'user birthday',\n        'birthday day', 'day follow'], dtype='<U13'),\n array(['user', 'user', 'win', 'user user'], dtype='<U9'),\n array(['user', 'user', 'follow', 'user', 'kiss', 'franc', 'user user',\n        'user follow', 'follow user', 'user kiss'], dtype='<U11'),\n array(['final', 'justic', 'time', 'part'], dtype='<U32'),\n array(['sweetest', 'girl', 'meet', 'bad', 'side', 'hell', 'break', 'loos'],\n       dtype='<U32'),\n array(['user', 'good', 'night', 'hero', 'xx', 'user good', 'good night'],\n       dtype='<U10'),\n array(['stay', 'singl', 'focu', 'girl', 'gonna', 'fun', 'gonna fun'],\n       dtype='<U9'),\n array(['rt'], dtype='<U32'),\n array(['user', 'happi', 'happi', 'birthday', 'yer', 'love', 'user happi',\n        'happi happi', 'happi birthday'], dtype='<U14'),\n array(['rt', 'user', 'ga', 'user', 'tech', 'class', 'teacher', 'wtf',\n        'lool', 'rt user'], dtype='<U7'),\n array(['user', 'wow', 'awesom', 'user wow'], dtype='<U8'),\n array(['user', 'hey', 'user hey'], dtype='<U8'),\n array(['shoutout', 'user', 'direction', 'follow', 'back', 'shoutout user',\n        'user direction', 'direction follow', 'follow back'], dtype='<U16'),\n array(['user', 'lol', 'work', 'tomorrow', 'bed', 'woman', 'user lol',\n        'lol work', 'work tomorrow'], dtype='<U13'),\n array(['user', 'hahah', 'user hahah'], dtype='<U10'),\n array(['user', 'lolol', 'sound', 'top', 'lad', 'user lolol'], dtype='<U10'),\n array(['love', 'friend', 'user', 'girl', 'feel', 'url', 'love friend',\n        'friend user', 'user girl'], dtype='<U11'),\n array(['user', 'mexico', 'late', 'll', 'sleep', 'hope', 'hear', 'wake',\n        'good', 'night', 'wake good', 'good night'], dtype='<U10'),\n array(['biggest', 'day', 'sweetheart', 'user'], dtype='<U32'),\n array(['dont', 'worri', 'wont', 'secret', 'user', 'live', 'url',\n        'dont worri', 'user live', 'live url'], dtype='<U10'),\n array(['user', 'hahha', 'bond', 'classmat', 'bond', 'close', 'hahha',\n        'user hahha'], dtype='<U10'),\n array(['user', 'user', 'user', 'user', 'ff', 'user user', 'user user',\n        'user user'], dtype='<U9'),\n array(['user', 'mark', 'dude'], dtype='<U32'),\n array(['user', 'work', 'beg', 'differ', 'hahah', 'user work'], dtype='<U9'),\n array(['god', 'good', 'time', 'good', 'time', 'stay', 'bad', 'time',\n        'god good', 'good time', 'time good', 'good time'], dtype='<U9'),\n array(['user', 'gonna', 'good', 'weekend', 'user gonna', 'gonna good',\n        'good weekend'], dtype='<U12'),\n array(['user', 'follow', 'back', 'bestfriend', 'user follow',\n        'follow back'], dtype='<U11'),\n array(['user', 'glad', 'didn', 'jog', 'haha', 'xx', 'haha xx'],\n       dtype='<U7'),\n array(['lolol', 'peopl', 'tweet', 'your', 'cute', 'af', 'peopl tweet'],\n       dtype='<U11'),\n array(['star', 'power', 'rt', 'user', 'kush', 'orang', 'juic', 'burn',\n        'roll', 'favorit', 'wiz', 'mixtap', 'rt user'], dtype='<U7'),\n array(['user', 'love', 'ppl', 'love', 'user love'], dtype='<U9'),\n array(['kitchen', 'hell', 'yeah', 'hell yeah'], dtype='<U9'),\n array(['user', 'wanna', 'meet', 'half', 'bitch', 'jean', 'back',\n        'user wanna', 'wanna meet'], dtype='<U10'),\n array(['feel', 'chelsea', 'don'], dtype='<U32'),\n array(['user', 'shoutout', 'user shoutout'], dtype='<U13'),\n array(['scent', 'cut', 'grass'], dtype='<U32'),\n array(['user', 'slow', 'cook', 'pork', 'chop', 'low', 'heat', 've',\n        'shoulder', 'butt'], dtype='<U32'),\n array(['user', 'quot', 'googl'], dtype='<U32'),\n array(['older', 'power', 'young', 'woman', 'mother'], dtype='<U32'),\n array(['aw', 'smith', 'work', 'unexpect', 'surpris'], dtype='<U32'),\n array(['user', 'time', 'english', 'time', 'xo', 'user time'], dtype='<U9'),\n array(['user', 'user', 'boy', 'time', 'plan', 'excel', 'hold',\n        'user user', 'user boy'], dtype='<U9'),\n array(['fuck'], dtype='<U32'),\n array(['user', 'follow', 'guy', 'sound', 'amaz', 'user follow',\n        'follow guy'], dtype='<U11'),\n array(['headphon', 'dream', 'world'], dtype='<U32'),\n array(['user', 'make', 'feel', 'effort', 'difficult', 'situat', 'arent',\n        'wast', 'peopl', 'differ', 'user make', 'make feel'], dtype='<U9'),\n array(['user', 'lol', 'user lol'], dtype='<U8'),\n array(['user', 'ctfuu'], dtype='<U32'),\n array(['user', 'phone', 'repli', 'aw', 'defo', 'woop', 'user phone'],\n       dtype='<U10'),\n array(['user', 'user', 'user', 'si', 'eh', 'di', 'na', 'kita', 'gusto',\n        'eh', 'na', 'kita', 'eh', 'user user', 'user user'], dtype='<U9'),\n array(['user', 'user', 'total', 'agre', 'user user', 'user total',\n        'total agre'], dtype='<U10'),\n array(['user', 'night'], dtype='<U32'),\n array(['user', 'love', 'hunger', 'game', 'moment', 'love', 'user love',\n        'hunger game'], dtype='<U11'),\n array(['user', 'follow', 'send', 'coupl', 'dm', 'user follow'],\n       dtype='<U11'),\n array(['chillin', 'matt', 'brittani', 'stay', 'strong', 'stay strong'],\n       dtype='<U11'),\n array(['soo', 'cute', 'soo cute'], dtype='<U8'),\n array(['yay', 'besti', 'havent', 'year', 'today'], dtype='<U32'),\n array(['user', 'announc', 'tour', 'lol', 'hop', 'guy', 'xxx'],\n       dtype='<U32'),\n array(['nf', 'brother', 'gf', 'user', 'follow', 'back', 'user follow',\n        'follow back'], dtype='<U11'),\n array(['night'], dtype='<U32'),\n array(['readi', 'start'], dtype='<U32'),\n array(['user', 'mum', 'babi', 'she', 'warm', 'idea', 'user mum'],\n       dtype='<U8'),\n array(['user', 'haven', 'spend', 'plan', 'spend', 'hehe', 'user haven'],\n       dtype='<U10'),\n array(['singl', 'theme', 'song'], dtype='<U32'),\n array(['uniqu'], dtype='<U32'),\n array(['sale', 'amaz', 'url', 'sale', 'section', 'url', 'amaz url'],\n       dtype='<U8'),\n array(['day'], dtype='<U32'),\n array(['user', 'birthday', 'bear', 'year', 'user birthday'], dtype='<U13'),\n array(['user', 'mr', 'mom', 'skool', 'late', 'morn', 'gonna', 'pass',\n        'user mr'], dtype='<U7'),\n array(['guess', 'watch', 'movi', 'tonight', 'wanna', 'join', 'haha',\n        'watch movi', 'movi tonight'], dtype='<U12'),\n array(['defiantli', 'love', 'wake', 'love wake'], dtype='<U9'),\n array(['find'], dtype='<U32'),\n array(['user', 'small', 'big', 'boob', 'blond', 'seek', 'danni', 'script',\n        'alik', 'lmao', 'xx', 'user small'], dtype='<U10'),\n array(['user', 'lol', 'decid', 'sing', 'middl', 'adventur', 'island',\n        'cool', 'kid', 'user lol', 'cool kid'], dtype='<U8'),\n array(['peopl', 'gonna', 'judg', 'im', 'babe'], dtype='<U32'),\n array(['user', 'lol', 'return', 'favor', 'user lol'], dtype='<U8'),\n array(['user', 'challeng', 'accept', 'lol'], dtype='<U32'),\n array(['user', 'user', 'good', 'ya', 'head', 'stay', 'beauti',\n        'user user', 'user good'], dtype='<U9'),\n array(['user', 'user', 'user', 'guy', 'amaz', 'job', 'great', 'user user',\n        'user user', 'user guy', 'guy amaz'], dtype='<U9'),\n array(['mood', 'set', 'bodi', 'scream', 'ya', 'gotta', 'secret', 'wanna',\n        'show', 'ya', 'dont', 'stop', 'dont', 'dare'], dtype='<U32'),\n array(['whoa', 'sweet', 'child', 'yeahhh', 'yeah', 'yeahhh'], dtype='<U32'),\n array(['user', 'amaz', 'perform', 'end', 'year', 'rock', 'user amaz'],\n       dtype='<U9'),\n array(['good', 'luck', 'kak', 'user', 'allah', 'good luck', 'kak user',\n        'user allah'], dtype='<U10'),\n array(['user', 'nice', 'creep', 'user nice'], dtype='<U9'),\n array(['follow', 'follow', 'back', 'doesnt', 'unfollow', 'follow', 'find',\n        'unfollow', 'back', 'follow follow', 'follow back'], dtype='<U13'),\n array(['im', 'home', 'bore', 'watch', 'cook', 'channel', 'cook', 'food',\n        'im home'], dtype='<U7'),\n array(['rescu', 'fox', 'break', 'leg'], dtype='<U32'),\n array(['user', 'lol', 'kick', 'person', 'chat', 'lol', 'watch', 'ur',\n        'follow', 'user lol'], dtype='<U8'),\n array(['user', 'user', 've', 'present', 'event', 'shit', 'haha', 'lovey',\n        'user user', 'user ve'], dtype='<U9'),\n array(['user', 'work', 'fine', 'nice', 'opportun', 'good', 'luck',\n        'user work', 'good luck'], dtype='<U9'),\n array(['im', 'proud', 'ta', 'big', 'make', 'world', 'nigga', 'bouta',\n        'graduat', 'user', 'love', 'im proud', 'user love'], dtype='<U9'),\n array(['user', 'sell', 'extra', 'feel', 'free', 'send', 'peopl', 'make',\n        'happen', 'user sell', 'feel free', 'peopl make', 'make happen'],\n       dtype='<U11'),\n array(['wanna', 'love', 'day', 'night', 'love day', 'day night'],\n       dtype='<U9'),\n array(['relax', 'rt', 'user', 'don', 'start', 'rt user', 'user don',\n        'don start'], dtype='<U9'),\n array(['pin', 'studio', 'team', 'yesterday', 'great', 'pictur', 'url',\n        'pictur url'], dtype='<U10'),\n array(['bitch', 'comeback'], dtype='<U32'),\n ...]"
     },
     "execution_count": 19,
     "metadata": {},
     "output_type": "execute_result"
    }
   ],
   "source": [
    "bows_with_ngrams"
   ],
   "metadata": {
    "collapsed": false
   }
  },
  {
   "cell_type": "markdown",
   "source": [
    "## Term-document matrix"
   ],
   "metadata": {
    "collapsed": false
   }
  },
  {
   "cell_type": "code",
   "execution_count": 20,
   "outputs": [],
   "source": [
    "def count_occurences(bow, codewords):\n",
    "    line = np.array([np.argwhere(word==codewords)[0,0] for word in bow])\n",
    "    line = np.append(line,len(codewords))\n",
    "    return np.bincount(line)[0:-1]"
   ],
   "metadata": {
    "collapsed": false
   }
  },
  {
   "cell_type": "code",
   "execution_count": 21,
   "outputs": [],
   "source": [
    "def IDF(X):\n",
    "    N = len(bows)\n",
    "    n = np.sum(np.where(X>0,1,0),axis=0)\n",
    "    return -np.log(n/N)"
   ],
   "metadata": {
    "collapsed": false
   }
  },
  {
   "cell_type": "code",
   "execution_count": 22,
   "outputs": [],
   "source": [
    "def TF(X):\n",
    "    max_f = np.max(X, axis=0)\n",
    "    return X/max_f"
   ],
   "metadata": {
    "collapsed": false
   }
  },
  {
   "cell_type": "code",
   "execution_count": 23,
   "outputs": [],
   "source": [
    "def create_TF_IDF(bows, codewords):\n",
    "    X = np.array([count_occurences(bow, codewords) for bow in bows])\n",
    "    return sparse.csr_matrix(TF(X)*IDF(X))"
   ],
   "metadata": {
    "collapsed": false
   }
  },
  {
   "cell_type": "markdown",
   "source": [
    "#### Creating X"
   ],
   "metadata": {
    "collapsed": false
   }
  },
  {
   "cell_type": "code",
   "execution_count": 24,
   "outputs": [
    {
     "ename": "TypeError",
     "evalue": "Cannot cast array data from dtype('float64') to dtype('int64') according to the rule 'safe'",
     "output_type": "error",
     "traceback": [
      "\u001B[0;31m---------------------------------------------------------------------------\u001B[0m",
      "\u001B[0;31mTypeError\u001B[0m                                 Traceback (most recent call last)",
      "Input \u001B[0;32mIn [24]\u001B[0m, in \u001B[0;36m<cell line: 3>\u001B[0;34m()\u001B[0m\n\u001B[1;32m      1\u001B[0m codewords \u001B[38;5;241m=\u001B[39m np\u001B[38;5;241m.\u001B[39munique(np\u001B[38;5;241m.\u001B[39mconcatenate(bows_with_ngrams))\n\u001B[0;32m----> 3\u001B[0m X \u001B[38;5;241m=\u001B[39m \u001B[43mcreate_TF_IDF\u001B[49m\u001B[43m(\u001B[49m\u001B[43mbows_with_ngrams\u001B[49m\u001B[43m,\u001B[49m\u001B[43m \u001B[49m\u001B[43mcodewords\u001B[49m\u001B[43m)\u001B[49m\n",
      "Input \u001B[0;32mIn [23]\u001B[0m, in \u001B[0;36mcreate_TF_IDF\u001B[0;34m(bows, codewords)\u001B[0m\n\u001B[1;32m      1\u001B[0m \u001B[38;5;28;01mdef\u001B[39;00m \u001B[38;5;21mcreate_TF_IDF\u001B[39m(bows, codewords):\n\u001B[0;32m----> 2\u001B[0m     X \u001B[38;5;241m=\u001B[39m np\u001B[38;5;241m.\u001B[39marray([count_occurences(bow, codewords) \u001B[38;5;28;01mfor\u001B[39;00m bow \u001B[38;5;129;01min\u001B[39;00m bows])\n\u001B[1;32m      3\u001B[0m     \u001B[38;5;28;01mreturn\u001B[39;00m sparse\u001B[38;5;241m.\u001B[39mcsr_matrix(TF(X)\u001B[38;5;241m*\u001B[39mIDF(X))\n",
      "Input \u001B[0;32mIn [23]\u001B[0m, in \u001B[0;36m<listcomp>\u001B[0;34m(.0)\u001B[0m\n\u001B[1;32m      1\u001B[0m \u001B[38;5;28;01mdef\u001B[39;00m \u001B[38;5;21mcreate_TF_IDF\u001B[39m(bows, codewords):\n\u001B[0;32m----> 2\u001B[0m     X \u001B[38;5;241m=\u001B[39m np\u001B[38;5;241m.\u001B[39marray([\u001B[43mcount_occurences\u001B[49m\u001B[43m(\u001B[49m\u001B[43mbow\u001B[49m\u001B[43m,\u001B[49m\u001B[43m \u001B[49m\u001B[43mcodewords\u001B[49m\u001B[43m)\u001B[49m \u001B[38;5;28;01mfor\u001B[39;00m bow \u001B[38;5;129;01min\u001B[39;00m bows])\n\u001B[1;32m      3\u001B[0m     \u001B[38;5;28;01mreturn\u001B[39;00m sparse\u001B[38;5;241m.\u001B[39mcsr_matrix(TF(X)\u001B[38;5;241m*\u001B[39mIDF(X))\n",
      "Input \u001B[0;32mIn [20]\u001B[0m, in \u001B[0;36mcount_occurences\u001B[0;34m(bow, codewords)\u001B[0m\n\u001B[1;32m      2\u001B[0m line \u001B[38;5;241m=\u001B[39m np\u001B[38;5;241m.\u001B[39marray([np\u001B[38;5;241m.\u001B[39margwhere(word\u001B[38;5;241m==\u001B[39mcodewords)[\u001B[38;5;241m0\u001B[39m,\u001B[38;5;241m0\u001B[39m] \u001B[38;5;28;01mfor\u001B[39;00m word \u001B[38;5;129;01min\u001B[39;00m bow])\n\u001B[1;32m      3\u001B[0m line \u001B[38;5;241m=\u001B[39m np\u001B[38;5;241m.\u001B[39mappend(line,\u001B[38;5;28mlen\u001B[39m(codewords))\n\u001B[0;32m----> 4\u001B[0m \u001B[38;5;28;01mreturn\u001B[39;00m \u001B[43mnp\u001B[49m\u001B[38;5;241;43m.\u001B[39;49m\u001B[43mbincount\u001B[49m\u001B[43m(\u001B[49m\u001B[43mline\u001B[49m\u001B[43m)\u001B[49m[\u001B[38;5;241m0\u001B[39m:\u001B[38;5;241m-\u001B[39m\u001B[38;5;241m1\u001B[39m]\n",
      "File \u001B[0;32m<__array_function__ internals>:180\u001B[0m, in \u001B[0;36mbincount\u001B[0;34m(*args, **kwargs)\u001B[0m\n",
      "\u001B[0;31mTypeError\u001B[0m: Cannot cast array data from dtype('float64') to dtype('int64') according to the rule 'safe'"
     ]
    }
   ],
   "source": [
    "codewords = np.unique(np.concatenate(bows_with_ngrams))\n",
    "\n",
    "X = create_TF_IDF(bows_with_ngrams, codewords)"
   ],
   "metadata": {
    "collapsed": false
   }
  },
  {
   "cell_type": "code",
   "execution_count": null,
   "outputs": [],
   "source": [],
   "metadata": {
    "collapsed": false
   }
  }
 ],
 "metadata": {
  "kernelspec": {
   "display_name": "Python 3 (ipykernel)",
   "language": "python",
   "name": "python3"
  },
  "language_info": {
   "codemirror_mode": {
    "name": "ipython",
    "version": 3
   },
   "file_extension": ".py",
   "mimetype": "text/x-python",
   "name": "python",
   "nbconvert_exporter": "python",
   "pygments_lexer": "ipython3",
   "version": "3.7.13"
  }
 },
 "nbformat": 4,
 "nbformat_minor": 5
}
