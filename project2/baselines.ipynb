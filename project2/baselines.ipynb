{
 "cells": [
  {
   "cell_type": "markdown",
   "source": [
    "## Test Maxime ML"
   ],
   "metadata": {
    "collapsed": false
   }
  },
  {
   "cell_type": "code",
   "execution_count": 1,
   "outputs": [
    {
     "name": "stderr",
     "output_type": "stream",
     "text": [
      "/Users/Maxime/miniconda3/envs/untitled/lib/python3.9/site-packages/past/builtins/misc.py:45: DeprecationWarning: the imp module is deprecated in favour of importlib; see the module's documentation for alternative uses\n",
      "  from imp import reload\n"
     ]
    }
   ],
   "source": [
    "%load_ext autoreload\n",
    "%autoreload 2\n",
    "\n",
    "#import warnings; warnings.simplefilter('ignore')\n",
    "#import os, codecs, string, random\n",
    "import numpy as np\n",
    "import pandas as pd\n",
    "#from numpy.random import seed as random_seed\n",
    "#from numpy.random import shuffle as random_shuffle\n",
    "import matplotlib.pyplot as plt\n",
    "%matplotlib inline\n",
    "\n",
    "\n",
    "\n",
    "import functools\n",
    "import pickle\n",
    "import nltk\n",
    "import pickle\n",
    "import scipy.sparse as sparse\n",
    "from collections import Counter\n",
    "\n",
    "#NLP libraries\n",
    "import spacy, nltk, gensim, sklearn\n",
    "import pyLDAvis.gensim_models\n",
    "\n",
    "#Vader\n",
    "import vaderSentiment\n",
    "from vaderSentiment.vaderSentiment import SentimentIntensityAnalyzer\n",
    "\n",
    "#Scikit imports\n",
    "from sklearn.feature_extraction.text import CountVectorizer\n",
    "from sklearn.model_selection import train_test_split\n",
    "from sklearn.model_selection import cross_val_score\n",
    "from sklearn.linear_model import LogisticRegression\n",
    "from sklearn import preprocessing\n",
    "from sklearn.preprocessing import StandardScaler\n",
    "from sklearn.utils import shuffle\n",
    "from sklearn.ensemble import RandomForestClassifier\n",
    "from sklearn.linear_model import LinearRegression\n",
    "from sklearn.linear_model import LogisticRegression\n",
    "from sklearn.feature_extraction.text import TfidfVectorizer"
   ],
   "metadata": {
    "collapsed": false
   }
  },
  {
   "cell_type": "code",
   "execution_count": 2,
   "outputs": [],
   "source": [
    "seed = 42\n",
    "np.random.seed(seed)"
   ],
   "metadata": {
    "collapsed": false
   }
  },
  {
   "cell_type": "code",
   "execution_count": 3,
   "outputs": [],
   "source": [
    "#! python -m spacy validate\n",
    "#nlp = spacy.load('data/en_core_web_sm-3.0.0')"
   ],
   "metadata": {
    "collapsed": false
   }
  },
  {
   "cell_type": "code",
   "execution_count": 4,
   "outputs": [],
   "source": [
    "with open('data/stopwords.pkl', 'rb') as f:\n",
    "    stopwords = pickle.load(f)"
   ],
   "metadata": {
    "collapsed": false
   }
  },
  {
   "cell_type": "code",
   "execution_count": 5,
   "outputs": [],
   "source": [
    "def compute_accuracy(Y_pred, Y_true):\n",
    "    return np.sum(Y_pred == Y_true) / len(Y_pred)"
   ],
   "metadata": {
    "collapsed": false
   }
  },
  {
   "cell_type": "code",
   "execution_count": 6,
   "outputs": [],
   "source": [
    "def count_parenthesis(tweet):\n",
    "    count = 0\n",
    "    for c in tweet:\n",
    "        if c == '(':\n",
    "            count += 1\n",
    "        if c == ')':\n",
    "            count -= 1\n",
    "    return count"
   ],
   "metadata": {
    "collapsed": false
   }
  },
  {
   "cell_type": "code",
   "execution_count": 7,
   "outputs": [],
   "source": [
    "def has_parenthesis(tweet):\n",
    "    for c in tweet:\n",
    "        if c in \"()\":\n",
    "            return True\n",
    "    return False"
   ],
   "metadata": {
    "collapsed": false
   }
  },
  {
   "cell_type": "code",
   "execution_count": 8,
   "outputs": [],
   "source": [
    "def count_longest_rep(tweet):\n",
    "    count = 1\n",
    "    count_max = 1\n",
    "    c_last = ''\n",
    "    for c in tweet:\n",
    "        if c == c_last:\n",
    "            count += 1\n",
    "        if c != c_last:\n",
    "            count = 1\n",
    "        c_last = c\n",
    "        count_max = max(count_max, count)\n",
    "    return count_max"
   ],
   "metadata": {
    "collapsed": false
   }
  },
  {
   "cell_type": "code",
   "execution_count": 9,
   "id": "1af31437",
   "metadata": {},
   "outputs": [],
   "source": [
    "DATA_FOLDER = 'data/'\n",
    "TWITTER_FOLDER = DATA_FOLDER + 'twitter-datasets/'\n",
    "EN_CORE_WEB_SM = DATA_FOLDER + 'en_core_web_sm-3.0.0'"
   ]
  },
  {
   "cell_type": "markdown",
   "source": [
    "# importing Data"
   ],
   "metadata": {
    "collapsed": false
   }
  },
  {
   "cell_type": "code",
   "execution_count": 33,
   "outputs": [],
   "source": [
    "pos = pd.read_csv(TWITTER_FOLDER + 'train_pos.txt', sep='\\t', header=None, names=['tweet'])#[:10000]\n",
    "neg = pd.read_csv(TWITTER_FOLDER + 'train_neg.txt', sep='\\t', header=None, names=['tweet'])#[:10000]"
   ],
   "metadata": {
    "collapsed": false
   }
  },
  {
   "cell_type": "code",
   "execution_count": 123,
   "outputs": [],
   "source": [
    "pos_full = pd.read_csv(TWITTER_FOLDER + 'train_pos_full.txt', sep='\\t', header=None, names=['tweet'])\n",
    "neg_full = pd.read_csv(TWITTER_FOLDER + 'train_neg_full.txt', sep='\\t', header=None, names=['tweet'], on_bad_lines='skip')"
   ],
   "metadata": {
    "collapsed": false
   }
  },
  {
   "cell_type": "code",
   "execution_count": 124,
   "outputs": [],
   "source": [
    "pos_full = pos_full.drop_duplicates()\n",
    "neg_full = neg_full.drop_duplicates()"
   ],
   "metadata": {
    "collapsed": false
   }
  },
  {
   "cell_type": "code",
   "execution_count": 125,
   "outputs": [],
   "source": [
    "test_data = pd.read_csv(TWITTER_FOLDER + 'test_data.txt', sep='\\t', header=None, names=['tweet'])"
   ],
   "metadata": {
    "collapsed": false
   }
  },
  {
   "cell_type": "markdown",
   "source": [
    "# Creating Test/Train"
   ],
   "metadata": {
    "collapsed": false
   }
  },
  {
   "cell_type": "markdown",
   "source": [
    "#### Adding some processing"
   ],
   "metadata": {
    "collapsed": false
   }
  },
  {
   "cell_type": "code",
   "execution_count": 126,
   "outputs": [],
   "source": [
    "pos_full['is_pos'] = 1\n",
    "neg_full['is_pos'] = 0\n",
    "tweets = pd.concat([pos_full, neg_full])\n",
    "\n",
    "analyzer = SentimentIntensityAnalyzer()\n",
    "polarity_scores = tweets['tweet'].apply(analyzer.polarity_scores)\n",
    "\n",
    "tweets['neg']       = polarity_scores.apply(lambda d : d['neg'])\n",
    "tweets['neu']       = polarity_scores.apply(lambda d : d['neu'])\n",
    "tweets['pos']       = polarity_scores.apply(lambda d : d['pos'])\n",
    "tweets['compound']  = polarity_scores.apply(lambda d : d['compound'])\n",
    "\n",
    "tweets['par_count'] = tweets[\"tweet\"].apply(count_parenthesis)\n",
    "tweets['len_tweet'] = tweets[\"tweet\"].apply(len)\n",
    "tweets['rep_count'] = tweets[\"tweet\"].apply(count_longest_rep)"
   ],
   "metadata": {
    "collapsed": false
   }
  },
  {
   "cell_type": "markdown",
   "source": [
    "#### Split test / train"
   ],
   "metadata": {
    "collapsed": false
   }
  },
  {
   "cell_type": "code",
   "execution_count": 127,
   "outputs": [],
   "source": [
    "X = tweets.drop(['is_pos'], axis=1)\n",
    "Y = tweets.drop(['tweet'],  axis=1)\n",
    "X, Y = shuffle(X, Y, random_state=42)\n",
    "X_tr_df, X_te_df, Y_tr_df, Y_te_df = train_test_split(X, Y, test_size=0.1, random_state=42)"
   ],
   "metadata": {
    "collapsed": false
   }
  },
  {
   "cell_type": "code",
   "execution_count": 128,
   "outputs": [],
   "source": [
    "X_tr = X_tr_df['tweet']\n",
    "X_te = X_te_df['tweet']\n",
    "\n",
    "Y_tr = np.array(Y_tr_df['is_pos'])\n",
    "Y_te = np.array(Y_te_df['is_pos'])"
   ],
   "metadata": {
    "collapsed": false
   }
  },
  {
   "cell_type": "markdown",
   "source": [
    "#### Vectorization"
   ],
   "metadata": {
    "collapsed": false
   }
  },
  {
   "cell_type": "code",
   "execution_count": 129,
   "outputs": [],
   "source": [
    "vectorizer = TfidfVectorizer(min_df=5, max_df=0.75, ngram_range=(1,5), strip_accents='unicode').fit(X_tr)"
   ],
   "metadata": {
    "collapsed": false
   }
  },
  {
   "cell_type": "code",
   "execution_count": 130,
   "outputs": [],
   "source": [
    "X_tr_vec = vectorizer.transform(X_tr)\n",
    "X_te_vec = vectorizer.transform(X_te)"
   ],
   "metadata": {
    "collapsed": false
   }
  },
  {
   "cell_type": "markdown",
   "source": [
    "# Predictions"
   ],
   "metadata": {
    "collapsed": false
   }
  },
  {
   "cell_type": "code",
   "execution_count": 131,
   "outputs": [],
   "source": [
    "par_count_tr = np.array(X_tr_df['par_count']).reshape(-1,1)\n",
    "par_count_te = np.array(X_te_df['par_count']).reshape(-1,1)\n",
    "\n",
    "pol_score_tr = np.array(X_tr_df[['neg', 'neu', 'pos', 'compound']])\n",
    "pol_score_te = np.array(X_te_df[['neg', 'neu', 'pos', 'compound']])\n",
    "\n",
    "metadata_tr  = np.array(X_tr_df[['neg', 'neu', 'pos', 'compound', 'par_count', 'rep_count', ]])\n",
    "metadata_te  = np.array(X_te_df[['neg', 'neu', 'pos', 'compound', 'par_count', 'rep_count']])"
   ],
   "metadata": {
    "collapsed": false
   }
  },
  {
   "cell_type": "code",
   "execution_count": 132,
   "outputs": [],
   "source": [
    "scaler_metadata    = preprocessing.StandardScaler().fit(metadata_tr)\n",
    "\n",
    "metadata_scaled_tr = scaler_metadata.transform(metadata_tr) / 10\n",
    "metadata_scaled_te = scaler_metadata.transform(metadata_te) / 10\n",
    "\n",
    "pol_score_scaled_tr = metadata_scaled_tr[:, :4]\n",
    "pol_score_scaled_te = metadata_scaled_te[:, :4]"
   ],
   "metadata": {
    "collapsed": false
   }
  },
  {
   "cell_type": "code",
   "execution_count": 133,
   "outputs": [],
   "source": [
    "X_tr_with_pole_score = sparse.hstack((X_tr_vec, pol_score_scaled_tr))\n",
    "X_te_with_pole_score = sparse.hstack((X_te_vec, pol_score_scaled_te ))\n",
    "\n",
    "X_tr_with_metadata   = sparse.hstack((X_tr_vec, metadata_scaled_tr))\n",
    "X_te_with_metadata   = sparse.hstack((X_te_vec, metadata_scaled_te))"
   ],
   "metadata": {
    "collapsed": false
   }
  },
  {
   "cell_type": "code",
   "execution_count": null,
   "outputs": [],
   "source": [
    "log_reg_1 = LogisticRegression()\n",
    "log_reg_2 = LogisticRegression()\n",
    "log_reg_3 = LogisticRegression(max_iter=1000)\n",
    "log_reg_4 = LogisticRegression(max_iter=1000)\n",
    "log_reg_5 = LogisticRegression(max_iter=1000)\n",
    "\n",
    "log_reg_1.fit(pol_score_tr,         Y_tr)\n",
    "log_reg_2.fit(metadata_tr,          Y_tr)\n",
    "log_reg_3.fit(X_tr_vec,             Y_tr)\n",
    "log_reg_4.fit(X_tr_with_pole_score, Y_tr)\n",
    "log_reg_5.fit(X_tr_with_metadata,   Y_tr);"
   ],
   "metadata": {
    "collapsed": false
   }
  },
  {
   "cell_type": "code",
   "execution_count": null,
   "outputs": [],
   "source": [
    "print(log_reg_1.score(pol_score_te,         Y_te))\n",
    "print(log_reg_2.score(metadata_te,          Y_te))\n",
    "print(log_reg_3.score(X_te_vec,             Y_te))\n",
    "print(log_reg_4.score(X_te_with_pole_score, Y_te))\n",
    "print(log_reg_5.score(X_te_with_metadata,   Y_te))"
   ],
   "metadata": {
    "collapsed": false
   }
  },
  {
   "cell_type": "code",
   "execution_count": null,
   "outputs": [],
   "source": [
    "def cond_1(df):\n",
    "    return np.array(df.par_count >  0)\n",
    "def cond_2(df):\n",
    "    return np.array(df.par_count <  0)\n",
    "def cond_3(df):\n",
    "    return np.array(df.par_count == 0)\n",
    "def cond_3_1(df):\n",
    "    return np.array((df.par_count == 0) & (df.compound == 0))\n",
    "def cond_3_2(df):\n",
    "    return np.array((df.par_count == 0) & (df.compound >  0))\n",
    "def cond_3_3(df):\n",
    "    return np.array((df.par_count == 0) & (df.compound <  0))\n",
    "\n",
    "conditions = [cond_1, cond_2, cond_3]\n",
    "conditions_X_tr = np.array([cond(X_tr_df) for cond in conditions])\n",
    "conditions_X_te = np.array([cond(X_te_df) for cond in conditions])"
   ],
   "metadata": {
    "collapsed": false
   }
  },
  {
   "cell_type": "code",
   "execution_count": null,
   "outputs": [],
   "source": [
    "X_tr_with_metadata = sparse.csr_matrix(X_tr_with_metadata)\n",
    "log_reg_list = []\n",
    "for cond in conditions_X_tr:\n",
    "    X_tr_subset = X_tr_with_metadata[cond]\n",
    "    Y_tr_subset = np.array(Y_tr_df['is_pos'][cond])\n",
    "    clf = LogisticRegression(max_iter=1000).fit(X_tr_subset, Y_tr_subset)\n",
    "    log_reg_list.append(clf)"
   ],
   "metadata": {
    "collapsed": false
   }
  },
  {
   "cell_type": "code",
   "execution_count": null,
   "outputs": [],
   "source": [
    "Y_pred_list = []\n",
    "for clf in log_reg_list:\n",
    "    Y_pred_list.append(clf.predict(X_te_with_metadata))\n",
    "Y_pred_list = np.array(Y_pred_list)"
   ],
   "metadata": {
    "collapsed": false
   }
  },
  {
   "cell_type": "code",
   "execution_count": null,
   "outputs": [],
   "source": [
    "pred_multi = np.empty(len(X_te_df))\n",
    "for i in range(len(pred_multi)):\n",
    "    a = int(np.argwhere(conditions_X_te[:,i]))\n",
    "    pred_multi[i] = Y_pred_list[a, i]"
   ],
   "metadata": {
    "collapsed": false
   }
  },
  {
   "cell_type": "code",
   "execution_count": null,
   "outputs": [],
   "source": [
    "compute_accuracy(pred_multi, Y_te)"
   ],
   "metadata": {
    "collapsed": false
   }
  },
  {
   "cell_type": "markdown",
   "source": [
    "#### Results on the full dataset\n",
    "\n",
    "log_reg_1.score (pol_score_te,         Y_te)  :  0.6507\n",
    "log_reg_2.score (metadata_te,          Y_te)  :  0.7477\n",
    "log_reg_3.score (X_te_vec,             Y_te)  :  0.8542\n",
    "log_reg_4.score (X_te_with_pole_score, Y_te)  :  0.8551\n",
    "log_reg_5.score (X_te_with_metadata,   Y_te)  :  0.8653\n",
    "compute_accuracy(pred_multi,           Y_te)  :  0.8664"
   ],
   "metadata": {
    "collapsed": false
   }
  },
  {
   "cell_type": "markdown",
   "source": [
    "## Logistic Regression"
   ],
   "metadata": {
    "collapsed": false
   }
  },
  {
   "cell_type": "markdown",
   "source": [
    "Y_train_count_bal = np.array(Y_train['is_pos'][Y_train.parenthesis_count == 0])\n",
    "Y_train_count_pos = np.array(Y_train['is_pos'][Y_train.parenthesis_count >  0])\n",
    "Y_train_count_neg = np.array(Y_train['is_pos'][Y_train.parenthesis_count <  0])\n",
    "\n",
    "X_train_count_bal_vec = X_train_all_vec[X_train.parenthesis_count == 0]\n",
    "X_train_count_pos_vec = X_train_all_vec[X_train.parenthesis_count >  0]\n",
    "X_train_count_neg_vec = X_train_all_vec[X_train.parenthesis_count <  0]"
   ],
   "metadata": {
    "collapsed": false
   }
  },
  {
   "cell_type": "markdown",
   "source": [
    "## SVM"
   ],
   "metadata": {
    "collapsed": false
   }
  },
  {
   "cell_type": "code",
   "execution_count": 23,
   "outputs": [],
   "source": [
    "from sklearn.svm import LinearSVC"
   ],
   "metadata": {
    "collapsed": false
   }
  },
  {
   "cell_type": "code",
   "execution_count": 41,
   "outputs": [],
   "source": [
    "svc = LinearSVC()\n",
    "svc.fit(X_tr_with_metadata,   Y_tr);"
   ],
   "metadata": {
    "collapsed": false
   }
  },
  {
   "cell_type": "code",
   "execution_count": 42,
   "outputs": [],
   "source": [
    "svc.score(X_te_with_metadata, Y_te)"
   ],
   "metadata": {
    "collapsed": false
   }
  },
  {
   "cell_type": "code",
   "execution_count": 1,
   "outputs": [],
   "source": [
    "from sklearn.svm import NuSVC"
   ],
   "metadata": {
    "collapsed": false
   }
  },
  {
   "cell_type": "code",
   "execution_count": 41,
   "outputs": [],
   "source": [
    "nusvc = NuSVC(gamma=\"auto\")\n",
    "nusvc.fit(X_tr_with_metadata,   Y_tr);"
   ],
   "metadata": {
    "collapsed": false
   }
  },
  {
   "cell_type": "code",
   "execution_count": 42,
   "outputs": [],
   "source": [
    "nusvc.score(X_te_with_metadata, Y_te)"
   ],
   "metadata": {
    "collapsed": false
   }
  },
  {
   "cell_type": "markdown",
   "source": [
    "## RandomForest"
   ],
   "metadata": {
    "collapsed": false
   }
  },
  {
   "cell_type": "code",
   "execution_count": 29,
   "outputs": [],
   "source": [
    "rfc = RandomForestClassifier(max_depth=100, random_state=42)\n",
    "rfc.fit(X_tr_with_metadata,   Y_tr);"
   ],
   "metadata": {
    "collapsed": false
   }
  },
  {
   "cell_type": "code",
   "execution_count": 30,
   "outputs": [
    {
     "data": {
      "text/plain": "0.7198558156064375"
     },
     "execution_count": 30,
     "metadata": {},
     "output_type": "execute_result"
    }
   ],
   "source": [
    "rfc.score(X_te_with_metadata, Y_te)"
   ],
   "metadata": {
    "collapsed": false
   }
  },
  {
   "cell_type": "markdown",
   "source": [
    "# SandBox"
   ],
   "metadata": {
    "collapsed": false
   }
  },
  {
   "cell_type": "code",
   "execution_count": 290,
   "outputs": [],
   "source": [
    "tweet = '(()())'\n",
    "\n",
    "def test_parenthesis(tweet):\n",
    "    count = 0\n",
    "    for c in tweet:\n",
    "        if c == '(':\n",
    "            count += 1\n",
    "        if c == ')':\n",
    "            count -= 1\n",
    "        if count < 0:\n",
    "            return False\n",
    "    return count == 0\n",
    "\n",
    "def count_parenthesis(tweet):\n",
    "    count = 0\n",
    "    for c in tweet:\n",
    "        if c == '(':\n",
    "            count += 1\n",
    "        if c == ')':\n",
    "            count -= 1\n",
    "    return count"
   ],
   "metadata": {
    "collapsed": false
   }
  },
  {
   "cell_type": "code",
   "execution_count": 262,
   "outputs": [],
   "source": [
    "res = tweets['Tweet'].apply(test_parenthesis)"
   ],
   "metadata": {
    "collapsed": false
   }
  },
  {
   "cell_type": "code",
   "execution_count": 283,
   "outputs": [],
   "source": [
    "not_closed = tweets[~res].copy()"
   ],
   "metadata": {
    "collapsed": false
   }
  },
  {
   "cell_type": "code",
   "execution_count": 292,
   "outputs": [],
   "source": [
    "not_closed['parenthesis_count'] = not_closed[\"Tweet\"].apply(count_parenthesis)"
   ],
   "metadata": {
    "collapsed": false
   }
  },
  {
   "cell_type": "code",
   "execution_count": 338,
   "outputs": [],
   "source": [
    "balanced = not_closed[not_closed.parenthesis_count > 0]"
   ],
   "metadata": {
    "collapsed": false
   }
  },
  {
   "cell_type": "code",
   "execution_count": 339,
   "outputs": [
    {
     "data": {
      "text/plain": "0.9683708952674591"
     },
     "execution_count": 339,
     "metadata": {},
     "output_type": "execute_result"
    }
   ],
   "source": [
    "1-np.average(np.array(balanced['is_pos']))"
   ],
   "metadata": {
    "collapsed": false
   }
  },
  {
   "cell_type": "code",
   "execution_count": 340,
   "outputs": [
    {
     "data": {
      "text/plain": "0.95568"
     },
     "execution_count": 340,
     "metadata": {},
     "output_type": "execute_result"
    }
   ],
   "source": [
    "0.14 * 0.88 + 0.86 * 0.968"
   ],
   "metadata": {
    "collapsed": false
   }
  },
  {
   "cell_type": "code",
   "execution_count": 277,
   "outputs": [
    {
     "data": {
      "text/plain": "0.13920948374994746"
     },
     "execution_count": 277,
     "metadata": {},
     "output_type": "execute_result"
    }
   ],
   "source": [
    "np.average(np.array(not_closed['is_pos']))"
   ],
   "metadata": {
    "collapsed": false
   }
  },
  {
   "cell_type": "code",
   "execution_count": 8,
   "outputs": [],
   "source": [
    "with open('data/stopwords.pkl', 'rb') as f:\n",
    "    stopwords = pickle.load(f)"
   ],
   "metadata": {
    "collapsed": false
   }
  },
  {
   "cell_type": "code",
   "execution_count": 259,
   "outputs": [
    {
     "data": {
      "text/plain": "        par_count\nis_pos           \n0           35661\n1            1170",
      "text/html": "<div>\n<style scoped>\n    .dataframe tbody tr th:only-of-type {\n        vertical-align: middle;\n    }\n\n    .dataframe tbody tr th {\n        vertical-align: top;\n    }\n\n    .dataframe thead th {\n        text-align: right;\n    }\n</style>\n<table border=\"1\" class=\"dataframe\">\n  <thead>\n    <tr style=\"text-align: right;\">\n      <th></th>\n      <th>par_count</th>\n    </tr>\n    <tr>\n      <th>is_pos</th>\n      <th></th>\n    </tr>\n  </thead>\n  <tbody>\n    <tr>\n      <th>0</th>\n      <td>35661</td>\n    </tr>\n    <tr>\n      <th>1</th>\n      <td>1170</td>\n    </tr>\n  </tbody>\n</table>\n</div>"
     },
     "execution_count": 259,
     "metadata": {},
     "output_type": "execute_result"
    }
   ],
   "source": [
    "a[a.par_count > 0].groupby('is_pos').count()"
   ],
   "metadata": {
    "collapsed": false
   }
  },
  {
   "cell_type": "code",
   "execution_count": 260,
   "outputs": [
    {
     "data": {
      "text/plain": "        par_count\nis_pos           \n0             637\n1            4840",
      "text/html": "<div>\n<style scoped>\n    .dataframe tbody tr th:only-of-type {\n        vertical-align: middle;\n    }\n\n    .dataframe tbody tr th {\n        vertical-align: top;\n    }\n\n    .dataframe thead th {\n        text-align: right;\n    }\n</style>\n<table border=\"1\" class=\"dataframe\">\n  <thead>\n    <tr style=\"text-align: right;\">\n      <th></th>\n      <th>par_count</th>\n    </tr>\n    <tr>\n      <th>is_pos</th>\n      <th></th>\n    </tr>\n  </thead>\n  <tbody>\n    <tr>\n      <th>0</th>\n      <td>637</td>\n    </tr>\n    <tr>\n      <th>1</th>\n      <td>4840</td>\n    </tr>\n  </tbody>\n</table>\n</div>"
     },
     "execution_count": 260,
     "metadata": {},
     "output_type": "execute_result"
    }
   ],
   "source": [
    "a[a.par_count < 0].groupby('is_pos').count()"
   ],
   "metadata": {
    "collapsed": false
   }
  },
  {
   "cell_type": "code",
   "execution_count": 261,
   "outputs": [
    {
     "data": {
      "text/plain": "        par_count\nis_pos           \n0           63702\n1           93990",
      "text/html": "<div>\n<style scoped>\n    .dataframe tbody tr th:only-of-type {\n        vertical-align: middle;\n    }\n\n    .dataframe tbody tr th {\n        vertical-align: top;\n    }\n\n    .dataframe thead th {\n        text-align: right;\n    }\n</style>\n<table border=\"1\" class=\"dataframe\">\n  <thead>\n    <tr style=\"text-align: right;\">\n      <th></th>\n      <th>par_count</th>\n    </tr>\n    <tr>\n      <th>is_pos</th>\n      <th></th>\n    </tr>\n  </thead>\n  <tbody>\n    <tr>\n      <th>0</th>\n      <td>63702</td>\n    </tr>\n    <tr>\n      <th>1</th>\n      <td>93990</td>\n    </tr>\n  </tbody>\n</table>\n</div>"
     },
     "execution_count": 261,
     "metadata": {},
     "output_type": "execute_result"
    }
   ],
   "source": [
    "a[a.par_count == 0].groupby('is_pos').count()"
   ],
   "metadata": {
    "collapsed": false
   }
  },
  {
   "cell_type": "code",
   "execution_count": 262,
   "outputs": [
    {
     "data": {
      "text/plain": "        par_count\nis_pos           \n0          100000\n1          100000",
      "text/html": "<div>\n<style scoped>\n    .dataframe tbody tr th:only-of-type {\n        vertical-align: middle;\n    }\n\n    .dataframe tbody tr th {\n        vertical-align: top;\n    }\n\n    .dataframe thead th {\n        text-align: right;\n    }\n</style>\n<table border=\"1\" class=\"dataframe\">\n  <thead>\n    <tr style=\"text-align: right;\">\n      <th></th>\n      <th>par_count</th>\n    </tr>\n    <tr>\n      <th>is_pos</th>\n      <th></th>\n    </tr>\n  </thead>\n  <tbody>\n    <tr>\n      <th>0</th>\n      <td>100000</td>\n    </tr>\n    <tr>\n      <th>1</th>\n      <td>100000</td>\n    </tr>\n  </tbody>\n</table>\n</div>"
     },
     "execution_count": 262,
     "metadata": {},
     "output_type": "execute_result"
    }
   ],
   "source": [
    "a.groupby('is_pos').count()"
   ],
   "metadata": {
    "collapsed": false
   }
  },
  {
   "cell_type": "code",
   "execution_count": 275,
   "outputs": [
    {
     "data": {
      "text/plain": "4849"
     },
     "execution_count": 275,
     "metadata": {},
     "output_type": "execute_result"
    }
   ],
   "source": [
    "len(np.array(tweets[a.par_count == 19]['tweet'])[0])"
   ],
   "metadata": {
    "collapsed": false
   }
  },
  {
   "cell_type": "code",
   "execution_count": 282,
   "outputs": [
    {
     "data": {
      "text/plain": "                                                   tweet  is_pos  neg    neu  \\\n3      <user> <user> thanks sir > > don't trip lil ma...       1  0.0  0.834   \n4      visiting my brother tmr is the bestest birthda...       1  0.0  0.761   \n10                <user> anddd to cheer #nationals2013 ?       1  0.0  0.602   \n11     we send an invitation to shop on-line ! here y...       1  0.0  1.000   \n15     like dammm <user> lexis u got a lot to say whe...       1  0.0  0.710   \n...                                                  ...     ...  ...    ...   \n99953  tripp lite n201 - 004 - bl cat 6 gigabit snagl...       0  0.0  0.887   \n99957  russian-english dictionary of scientific and t...       0  0.0  1.000   \n99959  <user> omg are people getting their slots alre...       0  0.0  0.896   \n99962  fanfan la tulipe ( dvd legendary french star g...       0  0.0  1.000   \n99969  <user> aaawww . well , better late than never ...       0  0.0  0.763   \n\n         pos  compound  par_count  len_tweet  rep_count  \n3      0.166    0.4926          0         78          3  \n4      0.239    0.5826          0         66          3  \n10     0.398    0.5106          0         38          3  \n11     0.000    0.0000          0        111          3  \n15     0.290    0.6486          0         65          3  \n...      ...       ...        ...        ...        ...  \n99953  0.113    0.5106          1        127          3  \n99957  0.000    0.0000          1        125          3  \n99959  0.104    0.4404          0        120          3  \n99962  0.000    0.0000          1        121          3  \n99969  0.237    0.6476          0         87          3  \n\n[54915 rows x 9 columns]",
      "text/html": "<div>\n<style scoped>\n    .dataframe tbody tr th:only-of-type {\n        vertical-align: middle;\n    }\n\n    .dataframe tbody tr th {\n        vertical-align: top;\n    }\n\n    .dataframe thead th {\n        text-align: right;\n    }\n</style>\n<table border=\"1\" class=\"dataframe\">\n  <thead>\n    <tr style=\"text-align: right;\">\n      <th></th>\n      <th>tweet</th>\n      <th>is_pos</th>\n      <th>neg</th>\n      <th>neu</th>\n      <th>pos</th>\n      <th>compound</th>\n      <th>par_count</th>\n      <th>len_tweet</th>\n      <th>rep_count</th>\n    </tr>\n  </thead>\n  <tbody>\n    <tr>\n      <th>3</th>\n      <td>&lt;user&gt; &lt;user&gt; thanks sir &gt; &gt; don't trip lil ma...</td>\n      <td>1</td>\n      <td>0.0</td>\n      <td>0.834</td>\n      <td>0.166</td>\n      <td>0.4926</td>\n      <td>0</td>\n      <td>78</td>\n      <td>3</td>\n    </tr>\n    <tr>\n      <th>4</th>\n      <td>visiting my brother tmr is the bestest birthda...</td>\n      <td>1</td>\n      <td>0.0</td>\n      <td>0.761</td>\n      <td>0.239</td>\n      <td>0.5826</td>\n      <td>0</td>\n      <td>66</td>\n      <td>3</td>\n    </tr>\n    <tr>\n      <th>10</th>\n      <td>&lt;user&gt; anddd to cheer #nationals2013 ?</td>\n      <td>1</td>\n      <td>0.0</td>\n      <td>0.602</td>\n      <td>0.398</td>\n      <td>0.5106</td>\n      <td>0</td>\n      <td>38</td>\n      <td>3</td>\n    </tr>\n    <tr>\n      <th>11</th>\n      <td>we send an invitation to shop on-line ! here y...</td>\n      <td>1</td>\n      <td>0.0</td>\n      <td>1.000</td>\n      <td>0.000</td>\n      <td>0.0000</td>\n      <td>0</td>\n      <td>111</td>\n      <td>3</td>\n    </tr>\n    <tr>\n      <th>15</th>\n      <td>like dammm &lt;user&gt; lexis u got a lot to say whe...</td>\n      <td>1</td>\n      <td>0.0</td>\n      <td>0.710</td>\n      <td>0.290</td>\n      <td>0.6486</td>\n      <td>0</td>\n      <td>65</td>\n      <td>3</td>\n    </tr>\n    <tr>\n      <th>...</th>\n      <td>...</td>\n      <td>...</td>\n      <td>...</td>\n      <td>...</td>\n      <td>...</td>\n      <td>...</td>\n      <td>...</td>\n      <td>...</td>\n      <td>...</td>\n    </tr>\n    <tr>\n      <th>99953</th>\n      <td>tripp lite n201 - 004 - bl cat 6 gigabit snagl...</td>\n      <td>0</td>\n      <td>0.0</td>\n      <td>0.887</td>\n      <td>0.113</td>\n      <td>0.5106</td>\n      <td>1</td>\n      <td>127</td>\n      <td>3</td>\n    </tr>\n    <tr>\n      <th>99957</th>\n      <td>russian-english dictionary of scientific and t...</td>\n      <td>0</td>\n      <td>0.0</td>\n      <td>1.000</td>\n      <td>0.000</td>\n      <td>0.0000</td>\n      <td>1</td>\n      <td>125</td>\n      <td>3</td>\n    </tr>\n    <tr>\n      <th>99959</th>\n      <td>&lt;user&gt; omg are people getting their slots alre...</td>\n      <td>0</td>\n      <td>0.0</td>\n      <td>0.896</td>\n      <td>0.104</td>\n      <td>0.4404</td>\n      <td>0</td>\n      <td>120</td>\n      <td>3</td>\n    </tr>\n    <tr>\n      <th>99962</th>\n      <td>fanfan la tulipe ( dvd legendary french star g...</td>\n      <td>0</td>\n      <td>0.0</td>\n      <td>1.000</td>\n      <td>0.000</td>\n      <td>0.0000</td>\n      <td>1</td>\n      <td>121</td>\n      <td>3</td>\n    </tr>\n    <tr>\n      <th>99969</th>\n      <td>&lt;user&gt; aaawww . well , better late than never ...</td>\n      <td>0</td>\n      <td>0.0</td>\n      <td>0.763</td>\n      <td>0.237</td>\n      <td>0.6476</td>\n      <td>0</td>\n      <td>87</td>\n      <td>3</td>\n    </tr>\n  </tbody>\n</table>\n<p>54915 rows × 9 columns</p>\n</div>"
     },
     "execution_count": 282,
     "metadata": {},
     "output_type": "execute_result"
    }
   ],
   "source": [
    "tweets[tweets.rep_count > 2]"
   ],
   "metadata": {
    "collapsed": false
   }
  },
  {
   "cell_type": "code",
   "execution_count": 300,
   "outputs": [],
   "source": [
    "tweets['has_par'] = tweets['tweet'].apply(has_parenthesis)"
   ],
   "metadata": {
    "collapsed": false
   }
  },
  {
   "cell_type": "code",
   "execution_count": 309,
   "outputs": [
    {
     "data": {
      "text/plain": "             is_pos\npar_count          \n-10        1.000000\n-9         1.000000\n-8         1.000000\n-7         1.000000\n-6         0.909091\n-5         0.842105\n-4         0.935484\n-3         0.900560\n-2         0.882414\n-1         0.880129\n 0         0.671789\n 1         0.031044\n 2         0.044754\n 3         0.039617\n 4         0.153846\n 5         0.000000\n 6         0.000000\n 7         0.000000\n 8         0.000000\n 9         0.000000\n 10        0.000000\n 11        0.000000\n 12        0.000000\n 14        0.000000\n 15        0.000000\n 16        0.000000\n 17        0.000000\n 19        0.000000",
      "text/html": "<div>\n<style scoped>\n    .dataframe tbody tr th:only-of-type {\n        vertical-align: middle;\n    }\n\n    .dataframe tbody tr th {\n        vertical-align: top;\n    }\n\n    .dataframe thead th {\n        text-align: right;\n    }\n</style>\n<table border=\"1\" class=\"dataframe\">\n  <thead>\n    <tr style=\"text-align: right;\">\n      <th></th>\n      <th>is_pos</th>\n    </tr>\n    <tr>\n      <th>par_count</th>\n      <th></th>\n    </tr>\n  </thead>\n  <tbody>\n    <tr>\n      <th>-10</th>\n      <td>1.000000</td>\n    </tr>\n    <tr>\n      <th>-9</th>\n      <td>1.000000</td>\n    </tr>\n    <tr>\n      <th>-8</th>\n      <td>1.000000</td>\n    </tr>\n    <tr>\n      <th>-7</th>\n      <td>1.000000</td>\n    </tr>\n    <tr>\n      <th>-6</th>\n      <td>0.909091</td>\n    </tr>\n    <tr>\n      <th>-5</th>\n      <td>0.842105</td>\n    </tr>\n    <tr>\n      <th>-4</th>\n      <td>0.935484</td>\n    </tr>\n    <tr>\n      <th>-3</th>\n      <td>0.900560</td>\n    </tr>\n    <tr>\n      <th>-2</th>\n      <td>0.882414</td>\n    </tr>\n    <tr>\n      <th>-1</th>\n      <td>0.880129</td>\n    </tr>\n    <tr>\n      <th>0</th>\n      <td>0.671789</td>\n    </tr>\n    <tr>\n      <th>1</th>\n      <td>0.031044</td>\n    </tr>\n    <tr>\n      <th>2</th>\n      <td>0.044754</td>\n    </tr>\n    <tr>\n      <th>3</th>\n      <td>0.039617</td>\n    </tr>\n    <tr>\n      <th>4</th>\n      <td>0.153846</td>\n    </tr>\n    <tr>\n      <th>5</th>\n      <td>0.000000</td>\n    </tr>\n    <tr>\n      <th>6</th>\n      <td>0.000000</td>\n    </tr>\n    <tr>\n      <th>7</th>\n      <td>0.000000</td>\n    </tr>\n    <tr>\n      <th>8</th>\n      <td>0.000000</td>\n    </tr>\n    <tr>\n      <th>9</th>\n      <td>0.000000</td>\n    </tr>\n    <tr>\n      <th>10</th>\n      <td>0.000000</td>\n    </tr>\n    <tr>\n      <th>11</th>\n      <td>0.000000</td>\n    </tr>\n    <tr>\n      <th>12</th>\n      <td>0.000000</td>\n    </tr>\n    <tr>\n      <th>14</th>\n      <td>0.000000</td>\n    </tr>\n    <tr>\n      <th>15</th>\n      <td>0.000000</td>\n    </tr>\n    <tr>\n      <th>16</th>\n      <td>0.000000</td>\n    </tr>\n    <tr>\n      <th>17</th>\n      <td>0.000000</td>\n    </tr>\n    <tr>\n      <th>19</th>\n      <td>0.000000</td>\n    </tr>\n  </tbody>\n</table>\n</div>"
     },
     "execution_count": 309,
     "metadata": {},
     "output_type": "execute_result"
    }
   ],
   "source": [
    "tweets[tweets.has_par][['par_count', 'is_pos']].groupby('par_count').mean()"
   ],
   "metadata": {
    "collapsed": false
   }
  },
  {
   "cell_type": "code",
   "execution_count": null,
   "outputs": [],
   "source": [],
   "metadata": {
    "collapsed": false
   }
  }
 ],
 "metadata": {
  "kernelspec": {
   "display_name": "Python 3 (ipykernel)",
   "language": "python",
   "name": "python3"
  },
  "language_info": {
   "codemirror_mode": {
    "name": "ipython",
    "version": 3
   },
   "file_extension": ".py",
   "mimetype": "text/x-python",
   "name": "python",
   "nbconvert_exporter": "python",
   "pygments_lexer": "ipython3",
   "version": "3.7.13"
  }
 },
 "nbformat": 4,
 "nbformat_minor": 5
}
