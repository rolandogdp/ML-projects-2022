{
 "cells": [
  {
   "cell_type": "code",
   "execution_count": 8,
   "metadata": {},
   "outputs": [],
   "source": [
    "import numpy as np\n",
    "import pandas as pd\n",
    "import helpers\n",
    "import implementation\n",
    "import matplotlib.pyplot as plt\n",
    "from matplotlib import colors\n",
    "from matplotlib.ticker import PercentFormatter"
   ]
  },
  {
   "cell_type": "code",
   "execution_count": 9,
   "metadata": {},
   "outputs": [],
   "source": [
    "yb, input_data, ids = helpers.load_csv_data(\"./data/train.csv\")"
   ]
  },
  {
   "cell_type": "code",
   "execution_count": 10,
   "metadata": {},
   "outputs": [],
   "source": [
    "df_input_data = pd.DataFrame(input_data)"
   ]
  },
  {
   "cell_type": "code",
   "execution_count": 11,
   "metadata": {},
   "outputs": [],
   "source": [
    "def quantile_normalize(data, q=0.95):\n",
    "    low    = (1-q) / 2\n",
    "    high   = 1-low\n",
    "    q_low  = np.quantile(data, low,  axis=0)\n",
    "    q_high = np.quantile(data, high, axis=0)\n",
    "    return (data - q_low) / (q_high - q_low)\n",
    "\n",
    "def mim_max_normalize(data):\n",
    "    return (data - data.min(axis=0)) / (data.max(axis=0) - data.min(axis=0))\n",
    "\n",
    "def z_normalize(data):\n",
    "    return (data - data.mean(axis=0)) / data.std(axis=0)\n",
    "\n",
    "def accuracy(y, tx, w):\n",
    "    pred    = np.where(implementation.sigmoid(tx.dot(w)) > 0.5, 1, 0)\n",
    "    correct = np.sum(np.where(pred == y, 1, 0))\n",
    "    return correct / len(y)\n",
    "\n",
    "def accuracy2(y, tx, w):\n",
    "    pred    = np.where(tx.dot(w) > 0, 1, 0)\n",
    "    correct = np.sum(np.where(pred == y, 1, 0))\n",
    "    return correct / len(y)"
   ]
  },
  {
   "cell_type": "code",
   "execution_count": 12,
   "metadata": {},
   "outputs": [],
   "source": [
    "data = np.array(df_input_data)"
   ]
  },
  {
   "cell_type": "code",
   "execution_count": 13,
   "metadata": {},
   "outputs": [],
   "source": [
    "x = quantile_normalize(data, q=0.75)\n",
    "y  = np.where(yb > 0, 1, 0)\n",
    "tx = np.append(np.ones(len(x)).reshape(-1,1), x, axis=1)"
   ]
  },
  {
   "cell_type": "code",
   "execution_count": 14,
   "metadata": {},
   "outputs": [
    {
     "name": "stdout",
     "output_type": "stream",
     "text": [
      "0.749352\n"
     ]
    }
   ],
   "source": [
    "lambda_   = 0\n",
    "initial_w = np.zeros(tx.shape[1])\n",
    "max_iters = 1000\n",
    "gamma     = 0.000003\n",
    "w, loss   = implementation.reg_logistic_regression(y, tx, lambda_, initial_w, max_iters, gamma)\n",
    "print(accuracy(y, tx, w))"
   ]
  },
  {
   "cell_type": "code",
   "execution_count": 17,
   "metadata": {},
   "outputs": [
    {
     "name": "stdout",
     "output_type": "stream",
     "text": [
      "0.744972\n"
     ]
    }
   ],
   "source": [
    "w, loss   = implementation.least_squares(yb, tx)\n",
    "print(accuracy(y, tx, w))"
   ]
  },
  {
   "cell_type": "code",
   "execution_count": 25,
   "metadata": {},
   "outputs": [],
   "source": [
    "def build_k_indices(y, k_fold, seed=0):\n",
    "    \"\"\"build k indices for k-fold.\"\"\"\n",
    "    num_row = y.shape[0]\n",
    "    interval = int(num_row / k_fold)\n",
    "    np.random.seed(seed)\n",
    "    indices = np.random.permutation(num_row)\n",
    "    k_indices = [indices[k * interval: (k + 1) * interval] for k in range(k_fold)]\n",
    "    return np.array(k_indices)"
   ]
  },
  {
   "cell_type": "code",
   "execution_count": 26,
   "metadata": {},
   "outputs": [],
   "source": [
    "def cross_validation(y, x, k_indices, k, lambda_):\n",
    "    \"\"\"return the loss of ridge regression.\"\"\"\n",
    "    # get k'th subgroup in test, others in train\n",
    "    te_indices = k_indices[k]\n",
    "    tr_indices = k_indices[~(np.arange(k_indices.shape[0]) == k)]\n",
    "    tr_indices = tr_indices.reshape(-1)\n",
    "    y_te = y[te_indices]\n",
    "    y_tr = y[tr_indices]\n",
    "    tx_te = x[te_indices]\n",
    "    tx_tr = x[tr_indices]\n",
    "\n",
    "    w, loss_tr = implementation.reg_logistic_regression(y_tr, tx_tr, lambda_, initial_w, max_iters, gamma)\n",
    "\n",
    "    accuracy_te = accuracy(y_te, tx_te, w)\n",
    "    accuracy_tr = accuracy(y_tr, tx_tr, w)\n",
    "    return accuracy_tr, accuracy_te, w"
   ]
  },
  {
   "cell_type": "code",
   "execution_count": 39,
   "outputs": [],
   "source": [
    "seed = 7\n",
    "k_fold = 5\n",
    "lambdas = np.logspace(-4, 0, 30)\n",
    "initial_w = np.zeros(tx.shape[1])\n",
    "max_iters = 2000\n",
    "gamma     = 0.000003\n",
    "# split data in k fold\n",
    "k_indices = build_k_indices(y, k_fold, seed)\n",
    "# define lists to store the loss of training data and test data\n",
    "accuracy_tr = []\n",
    "accuracy_te = []\n",
    "# cross validation\n",
    "for lambda_ in lambdas:\n",
    "    rmse_tr_tmp = []\n",
    "    rmse_te_tmp = []\n",
    "    for k in range(k_fold):\n",
    "        loss_tr, loss_te,_ = cross_validation(y, tx, k_indices, k, lambda_)\n",
    "        rmse_tr_tmp.append(loss_tr)\n",
    "        rmse_te_tmp.append(loss_te)\n",
    "    accuracy_tr.append(np.mean(rmse_tr_tmp))\n",
    "    accuracy_te.append(np.mean(rmse_te_tmp))"
   ],
   "metadata": {
    "collapsed": false
   }
  },
  {
   "cell_type": "code",
   "execution_count": 40,
   "outputs": [
    {
     "data": {
      "text/plain": "Text(0, 0.5, 'accuracy')"
     },
     "execution_count": 40,
     "metadata": {},
     "output_type": "execute_result"
    },
    {
     "data": {
      "text/plain": "<Figure size 640x480 with 1 Axes>",
      "image/png": "[encoded data removed]"
     },
     "metadata": {},
     "output_type": "display_data"
    }
   ],
   "source": [
    "plt.semilogx(lambdas, accuracy_tr)\n",
    "plt.semilogx(lambdas, accuracy_te)\n",
    "\n",
    "plt.xlabel('lambda')\n",
    "plt.ylabel('accuracy')"
   ],
   "metadata": {
    "collapsed": false
   }
  }
 ],
 "metadata": {
  "kernelspec": {
   "display_name": "Python 3 (ipykernel)",
   "language": "python",
   "name": "python3"
  },
  "language_info": {
   "codemirror_mode": {
    "name": "ipython",
    "version": 3
   },
   "file_extension": ".py",
   "mimetype": "text/x-python",
   "name": "python",
   "nbconvert_exporter": "python",
   "pygments_lexer": "ipython3",
   "version": "3.9.13"
  },
  "vscode": {
   "interpreter": {
    "hash": "ebdaaa5d1fcaf89e6550f8c897f6e669094f4dc7d574cb6a602540667e058bc2"
   }
  }
 },
 "nbformat": 4,
 "nbformat_minor": 2
}
