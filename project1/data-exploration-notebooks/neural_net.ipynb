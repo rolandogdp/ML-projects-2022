{
 "cells": [
  {
   "cell_type": "code",
   "execution_count": null,
   "metadata": {
    "pycharm": {
     "is_executing": true
    }
   },
   "outputs": [],
   "source": [
    "import numpy as np\n",
    "import pandas as pd\n",
    "from helpers import load_csv_data,create_csv_submission\n",
    "import implementation\n",
    "import matplotlib.pyplot as plt\n",
    "from matplotlib import colors\n",
    "from matplotlib.ticker import PercentFormatter\n",
    "import torch\n",
    "import torch.nn as nn"
   ]
  },
  {
   "cell_type": "code",
   "execution_count": 3,
   "metadata": {},
   "outputs": [],
   "source": [
    "yb, input_data, ids = load_csv_data(\"./data/train.csv\")"
   ]
  },
  {
   "cell_type": "code",
   "execution_count": 4,
   "metadata": {},
   "outputs": [],
   "source": [
    "df_input_data = pd.DataFrame(input_data)"
   ]
  },
  {
   "cell_type": "code",
   "execution_count": 5,
   "metadata": {},
   "outputs": [],
   "source": [
    "def quantile_normalize(data, q=0.95):\n",
    "    low    = (1-q) / 2\n",
    "    high   = 1-low\n",
    "    q_low  = np.quantile(data, low,  axis=0)\n",
    "    q_high = np.quantile(data, high, axis=0)\n",
    "    return (data - q_low) / (q_high - q_low)\n",
    "\n",
    "def mim_max_normalize(data):\n",
    "    return (data - data.min(axis=0)) / (data.max(axis=0) - data.min(axis=0))\n",
    "\n",
    "def z_normalize(data):\n",
    "    return (data - data.mean(axis=0)) / data.std(axis=0)"
   ]
  },
  {
   "cell_type": "code",
   "execution_count": 6,
   "metadata": {},
   "outputs": [],
   "source": [
    "data = np.array(df_input_data)"
   ]
  },
  {
   "cell_type": "code",
   "execution_count": 7,
   "metadata": {},
   "outputs": [],
   "source": [
    "x = quantile_normalize(data, q=0.75)\n",
    "y  = np.where(yb > 0, 1, 0)\n",
    "tx = np.append(np.ones(len(x)).reshape(-1,1), x, axis=1)"
   ]
  },
  {
   "cell_type": "code",
   "execution_count": 18,
   "metadata": {},
   "outputs": [],
   "source": [
    "x_train = torch.FloatTensor(x[:200000])\n",
    "y_train = torch.FloatTensor(y[:200000].reshape(-1,1))\n",
    "train_len = len(x_train)\n",
    "\n",
    "x_test = torch.FloatTensor(x[200000:])\n",
    "y_test = torch.FloatTensor(y[200000:].reshape(-1,1))\n",
    "test_len = len(x_test)"
   ]
  },
  {
   "cell_type": "code",
   "execution_count": 19,
   "metadata": {},
   "outputs": [],
   "source": [
    "D_in, H1, H2, D_out = 30, 20, 10, 1\n",
    "\n",
    "def train_nn(learning_rate = 0.01, n_iter = 500):\n",
    "\n",
    "    train_loss = np.empty(n_iter)\n",
    "    test_loss = np.empty(n_iter)\n",
    "\n",
    "    model = nn.Sequential(\n",
    "        nn.Linear(D_in, H1),\n",
    "        nn.Sigmoid(),\n",
    "        nn.Linear(H1, H2),\n",
    "        nn.Sigmoid(),\n",
    "        nn.Linear(H2, D_out),\n",
    "        nn.Sigmoid()\n",
    "    )\n",
    "\n",
    "    loss_fn = nn.BCELoss(reduction='sum')\n",
    "\n",
    "    for i in range(n_iter):\n",
    "\n",
    "        y_pred_train  = model(x_train)\n",
    "        loss_train    = loss_fn(y_pred_train, y_train)\n",
    "        train_loss[i] = loss_train.item()\n",
    "\n",
    "        y_pred_test   = model(x_test)\n",
    "        test_loss[i]  = loss_fn(y_pred_test, y_test).item()\n",
    "\n",
    "        model.zero_grad()\n",
    "        loss_train.backward()\n",
    "        with torch.no_grad():\n",
    "            for param in model.parameters():\n",
    "                param -= learning_rate * param.grad\n",
    "    return train_loss, test_loss, model"
   ]
  },
  {
   "cell_type": "code",
   "execution_count": 40,
   "metadata": {},
   "outputs": [
    {
     "name": "stdout",
     "output_type": "stream",
     "text": [
      "Best number of iterations 4999\n"
     ]
    }
   ],
   "source": [
    "lr = 0.00002\n",
    "best_number_iter = np.empty(n)\n",
    "train_loss, test_loss, model = train_nn(learning_rate = lr, n_iter = 5000)\n",
    "best_number_iter = np.argmin(test_loss)\n",
    "\n",
    "print(\"Best number of iterations\", best_number_iter)"
   ]
  },
  {
   "cell_type": "code",
   "execution_count": 41,
   "metadata": {},
   "outputs": [
    {
     "data": {
      "image/png": "[encoded data removed]",
      "text/plain": [
       "<Figure size 640x480 with 1 Axes>"
      ]
     },
     "metadata": {},
     "output_type": "display_data"
    }
   ],
   "source": [
    "plt.title(\"Test error in the number of iteration\")\n",
    "plt.ylabel(\"error\")\n",
    "plt.xlabel(\"number of iterations\")\n",
    "plt.plot(test_loss);"
   ]
  },
  {
   "cell_type": "code",
   "execution_count": 42,
   "metadata": {},
   "outputs": [],
   "source": [
    "best_iter = int(np.median(best_number_iter))\n",
    "train_loss, test_loss, model = train_nn(learning_rate = lr, n_iter=int(best_iter))"
   ]
  },
  {
   "cell_type": "code",
   "execution_count": 43,
   "metadata": {},
   "outputs": [
    {
     "name": "stdout",
     "output_type": "stream",
     "text": [
      "Test acuracy : 0.82548\n"
     ]
    }
   ],
   "source": [
    "y_pred_test = model(x_test)\n",
    "\n",
    "def f(x):\n",
    "    return 0 if x<0.5 else 1\n",
    "y_pred_test = np.array(list(map(f, y_pred_test)))\n",
    "\n",
    "count = 0\n",
    "for i in range(len(y_test)):\n",
    "    if y_pred_test[i] == y_test[i]:      \n",
    "        count += 1\n",
    "\n",
    "print(\"Test acuracy :\",count/len(y_test))"
   ]
  },
  {
   "cell_type": "code",
   "execution_count": null,
   "metadata": {},
   "outputs": [],
   "source": []
  }
 ],
 "metadata": {
  "kernelspec": {
   "display_name": "Python 3 (ipykernel)",
   "language": "python",
   "name": "python3"
  },
  "language_info": {
   "codemirror_mode": {
    "name": "ipython",
    "version": 3
   },
   "file_extension": ".py",
   "mimetype": "text/x-python",
   "name": "python",
   "nbconvert_exporter": "python",
   "pygments_lexer": "ipython3",
   "version": "3.9.13"
  },
  "vscode": {
   "interpreter": {
    "hash": "ebdaaa5d1fcaf89e6550f8c897f6e669094f4dc7d574cb6a602540667e058bc2"
   }
  }
 },
 "nbformat": 4,
 "nbformat_minor": 2
}
