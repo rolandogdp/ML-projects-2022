{
 "cells": [
  {
   "cell_type": "code",
   "execution_count": 3,
   "id": "640b08b9",
   "metadata": {},
   "outputs": [],
   "source": [
    "%matplotlib inline\n",
    "import numpy as np\n",
    "import matplotlib.pyplot as plt"
   ]
  },
  {
   "cell_type": "code",
   "execution_count": 4,
   "id": "4a374a6a",
   "metadata": {},
   "outputs": [],
   "source": [
    "def MSE(y, tx, w):\n",
    "    \"\"\"Compute MSE at w\n",
    "    \n",
    "    Args:\n",
    "        y: numpy array of shape=(N, )\n",
    "        tx: numpy array of shape=(N,D+1)\n",
    "        w: numpy array of shape=(D+1, ). The vector of model parameters.\n",
    "        \n",
    "    Returns:\n",
    "        Returns the mean square error at w for input tx and output y\n",
    "    \"\"\"\n",
    "    e = y - tx.dot(w)\n",
    "    return np.mean(e**2)"
   ]
  },
  {
   "cell_type": "code",
   "execution_count": 5,
   "id": "976d0bb5",
   "metadata": {},
   "outputs": [],
   "source": [
    "def compute_gradient(y, tx, w):\n",
    "    \"\"\"Computes the gradient at w.\n",
    "        \n",
    "    Args:\n",
    "        y: numpy array of shape=(N, )\n",
    "        tx: numpy array of shape=(N,D+1)\n",
    "        w: numpy array of shape=(D+1, ). The vector of model parameters.\n",
    "        \n",
    "    Returns:\n",
    "        An numpy array of shape (D+1, ) (same shape as w), containing the gradient of the loss at w.\n",
    "    \"\"\"\n",
    "    e = y - tx.dot(w)\n",
    "    return -tx.T.dot(e)/len(y)"
   ]
  },
  {
   "cell_type": "code",
   "execution_count": 6,
   "id": "fb0d4de3",
   "metadata": {},
   "outputs": [],
   "source": [
    "def least_squares_GD(y, tx, initial_w, max_iters, gamma):\n",
    "    \"\"\"The Gradient Descent (GD) algorithm for least squares.\n",
    "        \n",
    "    Args:\n",
    "        y: numpy array of shape=(N, )\n",
    "        tx: numpy array of shape=(N,D+1)\n",
    "        initial_w: numpy array of shape=(D+1, ). The initial guess (or the initialization) for the model parameters\n",
    "        max_iters: a scalar denoting the total number of iterations of GD\n",
    "        gamma: a scalar denoting the stepsize\n",
    "        \n",
    "    Returns:\n",
    "        w: the model parameter as numpy arrays of shape (2, ), for the last iteration of GD \n",
    "        loss: the loss value corresponding to w\n",
    "    \"\"\"\n",
    "    \n",
    "    w = initial_w\n",
    "    for n_iter in range(max_iters):\n",
    "        grad = compute_gradient(y, tx, w)\n",
    "        loss = MSE(y, tx, w)\n",
    "        w = w - gamma * grad\n",
    "\n",
    "    return w, loss"
   ]
  },
  {
   "cell_type": "code",
   "execution_count": null,
   "id": "c70ed9d4",
   "metadata": {},
   "outputs": [],
   "source": [
    "def least_squares_SGD(y, tx, initial_w, max_iters, gamma):"
   ]
  }
 ],
 "metadata": {
  "kernelspec": {
   "display_name": "Python 3 (ipykernel)",
   "language": "python",
   "name": "python3"
  },
  "language_info": {
   "codemirror_mode": {
    "name": "ipython",
    "version": 3
   },
   "file_extension": ".py",
   "mimetype": "text/x-python",
   "name": "python",
   "nbconvert_exporter": "python",
   "pygments_lexer": "ipython3",
   "version": "3.9.13"
  }
 },
 "nbformat": 4,
 "nbformat_minor": 5
}
