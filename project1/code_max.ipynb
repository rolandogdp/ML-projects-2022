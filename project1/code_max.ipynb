{
 "cells": [
  {
   "cell_type": "code",
   "execution_count": 1,
   "id": "d40da9ba",
   "metadata": {},
   "outputs": [],
   "source": [
    "import numpy as np\n",
    "from sklearn.linear_model import LinearRegression"
   ]
  },
  {
   "cell_type": "code",
   "execution_count": 35,
   "id": "4f9c72b2",
   "metadata": {},
   "outputs": [],
   "source": [
    "def GD(y, tx, initial_w, max_iters, gamma, gradient_func, loss_func):\n",
    "    w = initial_w\n",
    "    \n",
    "    for i in range(max_iters):\n",
    "        grad = gradient_func(y, tx, w)\n",
    "        w = w - gamma * grad\n",
    "\n",
    "    loss = loss_func(y, tx, w)\n",
    "    return w, loss\n",
    "\n",
    "def GD_reg(y, tx, initial_w, max_iters, gamma, gradient_func, loss_func, lambda_):\n",
    "    w = initial_w\n",
    "    \n",
    "    for i in range(max_iters):\n",
    "        grad = gradient_func(y, tx, w, lambda_)\n",
    "        w = w - gamma * grad\n",
    "\n",
    "    loss = loss_func(y, tx, w)\n",
    "    return w, loss"
   ]
  },
  {
   "cell_type": "code",
   "execution_count": 24,
   "id": "a7d14637",
   "metadata": {},
   "outputs": [],
   "source": [
    "def get_random_sample(y, tx):\n",
    "    random_sample_index = np.random.randint(len(y))\n",
    "    y_sample  = y [random_sample_index]\n",
    "    tx_sample = tx[random_sample_index]\n",
    "    return y_sample, tx_sample\n",
    "\n",
    "def SGD(y, tx, initial_w, max_iters, gamma, gradient_func, loss_func):\n",
    "    w = initial_w\n",
    "    \n",
    "    for n_iter in range(max_iters):\n",
    "        y_sample, tx_sample = get_random_sample(y, tx)\n",
    "        grad = gradient_func(y_sample, tx_sample, w)\n",
    "        w = w - gamma * grad\n",
    "        \n",
    "    loss = loss_func(y, tx, w)\n",
    "    return w, loss"
   ]
  },
  {
   "cell_type": "markdown",
   "id": "4630bd7d",
   "metadata": {},
   "source": [
    "# Least Squares"
   ]
  },
  {
   "cell_type": "code",
   "execution_count": 25,
   "id": "4a374a6a",
   "metadata": {},
   "outputs": [],
   "source": [
    "def MSE(y, tx, w):\n",
    "    e = y - tx.dot(w)\n",
    "    return np.mean(e**2)\n",
    "\n",
    "def least_squares_gradient(y, tx, w):\n",
    "    e = y - tx.dot(w)\n",
    "    return -tx.T.dot(e)/y.size\n",
    "\n",
    "def least_squares_GD(y, tx, initial_w, max_iters, gamma):\n",
    "    w, loss = GD(y, tx, initial_w, max_iters, gamma, least_squares_gradient, MSE)\n",
    "    return w, loss\n",
    "\n",
    "def least_squares_SGD(y, tx, initial_w, max_iters, gamma):\n",
    "    w, loss = SGD(y, tx, initial_w, max_iters, gamma, least_squares_gradient, MSE)\n",
    "    return w, loss\n",
    "\n",
    "def least_squares(y : np.array, tx : np.array):\n",
    "    Q, R = np.linalg.qr(tx)\n",
    "    w = np.linalg.solve(R, Q.T.dot(y))\n",
    "    loss = MSE(y, tx, w)\n",
    "    \n",
    "    return w, loss"
   ]
  },
  {
   "cell_type": "code",
   "execution_count": 30,
   "id": "36e7757a",
   "metadata": {},
   "outputs": [],
   "source": [
    "def ridge_regression(y : np.array, tx: np.array , lambda_):\n",
    "    D = tx.shape[1]\n",
    "    lambda_I = np.eye(D) * np.sqrt(2*len(y)*lambda_)\n",
    "    tx_expended = np.append(tx, lambda_I, axis=0)\n",
    "    y_expended  = np.append(y, np.zeros(D))\n",
    "    \n",
    "    Q, R = np.linalg.qr(tx_expended)\n",
    "    w = np.linalg.solve(R, Q.T.dot(y_expended))\n",
    "    loss = MSE(y, tx, w)\n",
    "    \n",
    "    return w, loss\n",
    "\n",
    "# Logistic Regression"
   ]
  },
  {
   "cell_type": "markdown",
   "id": "f897ac01",
   "metadata": {},
   "source": [
    "# Logistic Regression"
   ]
  },
  {
   "cell_type": "code",
   "execution_count": 37,
   "id": "7fa9af87",
   "metadata": {},
   "outputs": [],
   "source": [
    "def sigmoid(t):\n",
    "    exp_t = np.exp(t)\n",
    "    return exp_t / (1 + exp_t)\n",
    "\n",
    "def logistic_loss(y, tx, w):\n",
    "    xtw = tx.dot(w)\n",
    "    loss = np.sum(np.log(1 + np.exp(xtw))) - y.T.dot(xtw)\n",
    "    return np.squeeze(loss)\n",
    "\n",
    "def logistic_gradient(y, tx, w):\n",
    "    return tx.T.dot(sigmoid(tx.dot(w)) - y)\n",
    "\n",
    "def reg_logistic_gradient(y, tx, w, lambda_):\n",
    "    return logistic_gradient(y, tx, w) + 2 * lambda_ * w"
   ]
  },
  {
   "cell_type": "code",
   "execution_count": 38,
   "id": "ea75fa1a",
   "metadata": {},
   "outputs": [],
   "source": [
    "def logistic_regression(y, tx, initial_w, max_iters, gamma):\n",
    "    w, loss = GD(y, tx, initial_w, max_iters, gamma, logistic_gradient, logistic_loss)\n",
    "    return w, loss\n",
    "\n",
    "def reg_logistic_regression(y, tx, lambda_, initial_w, max_iters, gamma):\n",
    "    w, loss = GD_reg(y, tx, initial_w, max_iters, gamma, reg_logistic_gradient, logistic_loss, lambda_)\n",
    "    return w, loss"
   ]
  },
  {
   "cell_type": "markdown",
   "id": "b22787c7",
   "metadata": {},
   "source": [
    "# Sandbox for testing"
   ]
  },
  {
   "cell_type": "code",
   "execution_count": 33,
   "id": "8c0d502d",
   "metadata": {},
   "outputs": [
    {
     "name": "stdout",
     "output_type": "stream",
     "text": [
      "[54.7        15.08492696  3.55532095]\n"
     ]
    }
   ],
   "source": [
    "x = [[12,16,71,99,45,27,80,58,4,50],\n",
    "     [35,78,73,3,55,43,56,98,32,40]]\n",
    "x = (x-np.mean(x, axis=1).reshape(2,1))/np.std(x, axis=1).reshape(2,1)\n",
    "y = [56,22,37,78,83,55,70,94,12,40]\n",
    "x = np.array(x).T\n",
    "tx = np.insert(x, 0, 1, axis=1)\n",
    "y = np.array(y)\n",
    "linreg = LinearRegression().fit(x,y)\n",
    "initial_w = np.array([0,0,0])\n",
    "w = initial_w\n",
    "\n",
    "\n",
    "print(np.append(np.array(linreg.intercept_), linreg.coef_))"
   ]
  },
  {
   "cell_type": "markdown",
   "id": "3b05fdab",
   "metadata": {},
   "source": [
    "### Testing for least Squares GD"
   ]
  },
  {
   "cell_type": "code",
   "execution_count": 36,
   "id": "05b46ff9",
   "metadata": {},
   "outputs": [
    {
     "data": {
      "text/plain": [
       "(array([54.69854709, 15.08425522,  3.55477245]), 423.1618830220783)"
      ]
     },
     "execution_count": 36,
     "metadata": {},
     "output_type": "execute_result"
    }
   ],
   "source": [
    "least_squares_GD(y, tx, initial_w, 100, 0.1)"
   ]
  },
  {
   "cell_type": "markdown",
   "id": "cb6f09ad",
   "metadata": {},
   "source": [
    "### Testing for least Squares SGD"
   ]
  },
  {
   "cell_type": "code",
   "execution_count": 13,
   "id": "bd1795e8",
   "metadata": {},
   "outputs": [
    {
     "data": {
      "text/plain": [
       "(array([54.77003147, 15.21760936,  3.704129  ]), 423.20331285012253)"
      ]
     },
     "execution_count": 13,
     "metadata": {},
     "output_type": "execute_result"
    }
   ],
   "source": [
    "least_squares_SGD(y, tx, initial_w, 100000, 0.0001)"
   ]
  },
  {
   "cell_type": "markdown",
   "id": "4b9e0ce7",
   "metadata": {},
   "source": [
    "### Testing least squares"
   ]
  },
  {
   "cell_type": "code",
   "execution_count": 14,
   "id": "3bd6476b",
   "metadata": {},
   "outputs": [
    {
     "data": {
      "text/plain": [
       "(array([54.7       , 15.08492696,  3.55532095]), 423.16188021914616)"
      ]
     },
     "execution_count": 14,
     "metadata": {},
     "output_type": "execute_result"
    }
   ],
   "source": [
    "least_squares(y, tx)"
   ]
  },
  {
   "cell_type": "markdown",
   "id": "a0085c64",
   "metadata": {},
   "source": [
    "### Testing ridge regression"
   ]
  },
  {
   "cell_type": "code",
   "execution_count": 17,
   "id": "3fbaf3dc",
   "metadata": {},
   "outputs": [
    {
     "data": {
      "text/plain": [
       "(array([54.59081836, 15.05403516,  3.54571034]), 423.1747990944212)"
      ]
     },
     "execution_count": 17,
     "metadata": {},
     "output_type": "execute_result"
    }
   ],
   "source": [
    "ridge_regression(y, tx , lambda_=0.001)"
   ]
  },
  {
   "cell_type": "code",
   "execution_count": null,
   "id": "dd1b53be",
   "metadata": {},
   "outputs": [],
   "source": []
  }
 ],
 "metadata": {
  "kernelspec": {
   "display_name": "Python 3 (ipykernel)",
   "language": "python",
   "name": "python3"
  },
  "language_info": {
   "codemirror_mode": {
    "name": "ipython",
    "version": 3
   },
   "file_extension": ".py",
   "mimetype": "text/x-python",
   "name": "python",
   "nbconvert_exporter": "python",
   "pygments_lexer": "ipython3",
   "version": "3.9.13"
  }
 },
 "nbformat": 4,
 "nbformat_minor": 5
}
